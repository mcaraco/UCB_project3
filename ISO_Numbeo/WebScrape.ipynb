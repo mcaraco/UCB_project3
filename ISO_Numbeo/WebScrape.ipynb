{
 "cells": [
  {
   "cell_type": "code",
   "execution_count": 1,
   "metadata": {},
   "outputs": [],
   "source": [
    "# Numbeo website contains country name and quality of life index from 2012-2019\n",
    "# For geojson chloropleth mapping, we need to join the Numbeo table with standard ISO country code\n",
    "# This python file will scrape Numbeo and ISO websites and merge by standard ISO country code for our geojson world map"
   ]
  },
  {
   "cell_type": "code",
   "execution_count": 57,
   "metadata": {},
   "outputs": [],
   "source": [
    "# Import dependencies\n",
    "import pandas as pd\n",
    "import numpy as np"
   ]
  },
  {
   "cell_type": "code",
   "execution_count": 58,
   "metadata": {},
   "outputs": [],
   "source": [
    "# Fix Python SSL CERTIFICATE_VERIFY_FAILED\n",
    "import os, ssl\n",
    "if (not os.environ.get('PYTHONHTTPSVERIFY', '') and\n",
    "    getattr(ssl, '_create_unverified_context', None)): \n",
    "    ssl._create_default_https_context = ssl._create_unverified_context"
   ]
  },
  {
   "cell_type": "code",
   "execution_count": 86,
   "metadata": {},
   "outputs": [],
   "source": [
    "# Numbeo has Quality of Life index from years 2012 to 2019\n",
    "# Create list of links to scrape\n",
    "# Loop to create URL links from 2012-2018\n",
    "# link=[]\n",
    "# for x in range(2012,2019):\n",
    "#     link.append('https://www.numbeo.com/quality-of-life/rankings_by_country.jsp?title='+str(x)+'-Q1')\n",
    "# print(link)"
   ]
  },
  {
   "cell_type": "code",
   "execution_count": 87,
   "metadata": {},
   "outputs": [],
   "source": [
    "# # Append year 2019 URL link\n",
    "# link.append('https://www.numbeo.com/quality-of-life/rankings_by_country.jsp')\n",
    "# print(link)"
   ]
  },
  {
   "cell_type": "code",
   "execution_count": 88,
   "metadata": {},
   "outputs": [],
   "source": [
    "# # Scrape and read as pandas dataframe\n",
    "# for index,element in enumerate(link):\n",
    "#     print(element)"
   ]
  },
  {
   "cell_type": "code",
   "execution_count": 62,
   "metadata": {},
   "outputs": [],
   "source": [
    "# numDf = []\n",
    "# for index,element in enumerate(link):\n",
    "#     print(index,element)\n",
    "#     numDf.append(\"numDF\"+str(index+2012))\n",
    "#     numDf[index] = pd.read_html(\"'\"+str(element)+\"'\")\n"
   ]
  },
  {
   "cell_type": "code",
   "execution_count": 113,
   "metadata": {},
   "outputs": [
    {
     "data": {
      "text/html": [
       "<div>\n",
       "<style scoped>\n",
       "    .dataframe tbody tr th:only-of-type {\n",
       "        vertical-align: middle;\n",
       "    }\n",
       "\n",
       "    .dataframe tbody tr th {\n",
       "        vertical-align: top;\n",
       "    }\n",
       "\n",
       "    .dataframe thead th {\n",
       "        text-align: right;\n",
       "    }\n",
       "</style>\n",
       "<table border=\"1\" class=\"dataframe\">\n",
       "  <thead>\n",
       "    <tr style=\"text-align: right;\">\n",
       "      <th></th>\n",
       "      <th>Country</th>\n",
       "      <th>QII_2019</th>\n",
       "    </tr>\n",
       "  </thead>\n",
       "  <tbody>\n",
       "    <tr>\n",
       "      <th>0</th>\n",
       "      <td>Denmark</td>\n",
       "      <td>198.57</td>\n",
       "    </tr>\n",
       "    <tr>\n",
       "      <th>1</th>\n",
       "      <td>Switzerland</td>\n",
       "      <td>195.93</td>\n",
       "    </tr>\n",
       "    <tr>\n",
       "      <th>2</th>\n",
       "      <td>Finland</td>\n",
       "      <td>194.01</td>\n",
       "    </tr>\n",
       "    <tr>\n",
       "      <th>3</th>\n",
       "      <td>Australia</td>\n",
       "      <td>191.13</td>\n",
       "    </tr>\n",
       "    <tr>\n",
       "      <th>4</th>\n",
       "      <td>Austria</td>\n",
       "      <td>191.05</td>\n",
       "    </tr>\n",
       "  </tbody>\n",
       "</table>\n",
       "</div>"
      ],
      "text/plain": [
       "       Country  QII_2019\n",
       "0      Denmark    198.57\n",
       "1  Switzerland    195.93\n",
       "2      Finland    194.01\n",
       "3    Australia    191.13\n",
       "4      Austria    191.05"
      ]
     },
     "execution_count": 113,
     "metadata": {},
     "output_type": "execute_result"
    }
   ],
   "source": [
    "# Read in Numbeo HTML as Pandas table\n",
    "#2019\n",
    "table = pd.read_html('https://www.numbeo.com/quality-of-life/rankings_by_country.jsp')\n",
    "numDf2019 = table[2][[\"Country\",\"Quality of Life Index\"]].rename(columns={\n",
    "    'Quality of Life Index':'QII_2019'})\n",
    "numDf2019.head()"
   ]
  },
  {
   "cell_type": "code",
   "execution_count": 114,
   "metadata": {},
   "outputs": [
    {
     "data": {
      "text/html": [
       "<div>\n",
       "<style scoped>\n",
       "    .dataframe tbody tr th:only-of-type {\n",
       "        vertical-align: middle;\n",
       "    }\n",
       "\n",
       "    .dataframe tbody tr th {\n",
       "        vertical-align: top;\n",
       "    }\n",
       "\n",
       "    .dataframe thead th {\n",
       "        text-align: right;\n",
       "    }\n",
       "</style>\n",
       "<table border=\"1\" class=\"dataframe\">\n",
       "  <thead>\n",
       "    <tr style=\"text-align: right;\">\n",
       "      <th></th>\n",
       "      <th>Country</th>\n",
       "      <th>QII_2012</th>\n",
       "    </tr>\n",
       "  </thead>\n",
       "  <tbody>\n",
       "    <tr>\n",
       "      <th>0</th>\n",
       "      <td>Denmark</td>\n",
       "      <td>198.57</td>\n",
       "    </tr>\n",
       "    <tr>\n",
       "      <th>1</th>\n",
       "      <td>Switzerland</td>\n",
       "      <td>195.93</td>\n",
       "    </tr>\n",
       "    <tr>\n",
       "      <th>2</th>\n",
       "      <td>Finland</td>\n",
       "      <td>194.01</td>\n",
       "    </tr>\n",
       "    <tr>\n",
       "      <th>3</th>\n",
       "      <td>Australia</td>\n",
       "      <td>191.13</td>\n",
       "    </tr>\n",
       "    <tr>\n",
       "      <th>4</th>\n",
       "      <td>Austria</td>\n",
       "      <td>191.05</td>\n",
       "    </tr>\n",
       "  </tbody>\n",
       "</table>\n",
       "</div>"
      ],
      "text/plain": [
       "       Country  QII_2012\n",
       "0      Denmark    198.57\n",
       "1  Switzerland    195.93\n",
       "2      Finland    194.01\n",
       "3    Australia    191.13\n",
       "4      Austria    191.05"
      ]
     },
     "execution_count": 114,
     "metadata": {},
     "output_type": "execute_result"
    }
   ],
   "source": [
    "# 2012\n",
    "table2012 = pd.read_html('https://www.numbeo.com/quality-of-life/rankings_by_country.jsp?title=2012-Q1')\n",
    "numDf2012 = table[2][[\"Country\",\"Quality of Life Index\"]].rename(columns={\n",
    "    'Quality of Life Index':'QII_2012'})\n",
    "numDf2012.head()"
   ]
  },
  {
   "cell_type": "code",
   "execution_count": 115,
   "metadata": {},
   "outputs": [
    {
     "data": {
      "text/html": [
       "<div>\n",
       "<style scoped>\n",
       "    .dataframe tbody tr th:only-of-type {\n",
       "        vertical-align: middle;\n",
       "    }\n",
       "\n",
       "    .dataframe tbody tr th {\n",
       "        vertical-align: top;\n",
       "    }\n",
       "\n",
       "    .dataframe thead th {\n",
       "        text-align: right;\n",
       "    }\n",
       "</style>\n",
       "<table border=\"1\" class=\"dataframe\">\n",
       "  <thead>\n",
       "    <tr style=\"text-align: right;\">\n",
       "      <th></th>\n",
       "      <th>Country</th>\n",
       "      <th>QII_2013</th>\n",
       "    </tr>\n",
       "  </thead>\n",
       "  <tbody>\n",
       "    <tr>\n",
       "      <th>0</th>\n",
       "      <td>Denmark</td>\n",
       "      <td>198.57</td>\n",
       "    </tr>\n",
       "    <tr>\n",
       "      <th>1</th>\n",
       "      <td>Switzerland</td>\n",
       "      <td>195.93</td>\n",
       "    </tr>\n",
       "    <tr>\n",
       "      <th>2</th>\n",
       "      <td>Finland</td>\n",
       "      <td>194.01</td>\n",
       "    </tr>\n",
       "    <tr>\n",
       "      <th>3</th>\n",
       "      <td>Australia</td>\n",
       "      <td>191.13</td>\n",
       "    </tr>\n",
       "    <tr>\n",
       "      <th>4</th>\n",
       "      <td>Austria</td>\n",
       "      <td>191.05</td>\n",
       "    </tr>\n",
       "  </tbody>\n",
       "</table>\n",
       "</div>"
      ],
      "text/plain": [
       "       Country  QII_2013\n",
       "0      Denmark    198.57\n",
       "1  Switzerland    195.93\n",
       "2      Finland    194.01\n",
       "3    Australia    191.13\n",
       "4      Austria    191.05"
      ]
     },
     "execution_count": 115,
     "metadata": {},
     "output_type": "execute_result"
    }
   ],
   "source": [
    "# 2013\n",
    "table2013 = pd.read_html('https://www.numbeo.com/quality-of-life/rankings_by_country.jsp?title=2013-Q1')\n",
    "numDf2013 = table[2][[\"Country\",\"Quality of Life Index\"]].rename(columns={\n",
    "    'Quality of Life Index':'QII_2013'})\n",
    "numDf2013.head()"
   ]
  },
  {
   "cell_type": "code",
   "execution_count": 116,
   "metadata": {},
   "outputs": [
    {
     "data": {
      "text/html": [
       "<div>\n",
       "<style scoped>\n",
       "    .dataframe tbody tr th:only-of-type {\n",
       "        vertical-align: middle;\n",
       "    }\n",
       "\n",
       "    .dataframe tbody tr th {\n",
       "        vertical-align: top;\n",
       "    }\n",
       "\n",
       "    .dataframe thead th {\n",
       "        text-align: right;\n",
       "    }\n",
       "</style>\n",
       "<table border=\"1\" class=\"dataframe\">\n",
       "  <thead>\n",
       "    <tr style=\"text-align: right;\">\n",
       "      <th></th>\n",
       "      <th>Country</th>\n",
       "      <th>QII_2014</th>\n",
       "    </tr>\n",
       "  </thead>\n",
       "  <tbody>\n",
       "    <tr>\n",
       "      <th>0</th>\n",
       "      <td>Denmark</td>\n",
       "      <td>198.57</td>\n",
       "    </tr>\n",
       "    <tr>\n",
       "      <th>1</th>\n",
       "      <td>Switzerland</td>\n",
       "      <td>195.93</td>\n",
       "    </tr>\n",
       "    <tr>\n",
       "      <th>2</th>\n",
       "      <td>Finland</td>\n",
       "      <td>194.01</td>\n",
       "    </tr>\n",
       "    <tr>\n",
       "      <th>3</th>\n",
       "      <td>Australia</td>\n",
       "      <td>191.13</td>\n",
       "    </tr>\n",
       "    <tr>\n",
       "      <th>4</th>\n",
       "      <td>Austria</td>\n",
       "      <td>191.05</td>\n",
       "    </tr>\n",
       "  </tbody>\n",
       "</table>\n",
       "</div>"
      ],
      "text/plain": [
       "       Country  QII_2014\n",
       "0      Denmark    198.57\n",
       "1  Switzerland    195.93\n",
       "2      Finland    194.01\n",
       "3    Australia    191.13\n",
       "4      Austria    191.05"
      ]
     },
     "execution_count": 116,
     "metadata": {},
     "output_type": "execute_result"
    }
   ],
   "source": [
    "# 2014\n",
    "table2014 = pd.read_html('https://www.numbeo.com/quality-of-life/rankings_by_country.jsp?title=2014')\n",
    "numDf2014 = table[2][[\"Country\",\"Quality of Life Index\"]].rename(columns={\n",
    "    'Quality of Life Index':'QII_2014'})\n",
    "numDf2014.head()"
   ]
  },
  {
   "cell_type": "code",
   "execution_count": 117,
   "metadata": {},
   "outputs": [
    {
     "data": {
      "text/html": [
       "<div>\n",
       "<style scoped>\n",
       "    .dataframe tbody tr th:only-of-type {\n",
       "        vertical-align: middle;\n",
       "    }\n",
       "\n",
       "    .dataframe tbody tr th {\n",
       "        vertical-align: top;\n",
       "    }\n",
       "\n",
       "    .dataframe thead th {\n",
       "        text-align: right;\n",
       "    }\n",
       "</style>\n",
       "<table border=\"1\" class=\"dataframe\">\n",
       "  <thead>\n",
       "    <tr style=\"text-align: right;\">\n",
       "      <th></th>\n",
       "      <th>Country</th>\n",
       "      <th>QII_2015</th>\n",
       "    </tr>\n",
       "  </thead>\n",
       "  <tbody>\n",
       "    <tr>\n",
       "      <th>0</th>\n",
       "      <td>Denmark</td>\n",
       "      <td>198.57</td>\n",
       "    </tr>\n",
       "    <tr>\n",
       "      <th>1</th>\n",
       "      <td>Switzerland</td>\n",
       "      <td>195.93</td>\n",
       "    </tr>\n",
       "    <tr>\n",
       "      <th>2</th>\n",
       "      <td>Finland</td>\n",
       "      <td>194.01</td>\n",
       "    </tr>\n",
       "    <tr>\n",
       "      <th>3</th>\n",
       "      <td>Australia</td>\n",
       "      <td>191.13</td>\n",
       "    </tr>\n",
       "    <tr>\n",
       "      <th>4</th>\n",
       "      <td>Austria</td>\n",
       "      <td>191.05</td>\n",
       "    </tr>\n",
       "  </tbody>\n",
       "</table>\n",
       "</div>"
      ],
      "text/plain": [
       "       Country  QII_2015\n",
       "0      Denmark    198.57\n",
       "1  Switzerland    195.93\n",
       "2      Finland    194.01\n",
       "3    Australia    191.13\n",
       "4      Austria    191.05"
      ]
     },
     "execution_count": 117,
     "metadata": {},
     "output_type": "execute_result"
    }
   ],
   "source": [
    "# 2015\n",
    "table2015 = pd.read_html('https://www.numbeo.com/quality-of-life/rankings_by_country.jsp?title=2015')\n",
    "numDf2015 = table[2][[\"Country\",\"Quality of Life Index\"]].rename(columns={\n",
    "    'Quality of Life Index':'QII_2015'})\n",
    "numDf2015.head()"
   ]
  },
  {
   "cell_type": "code",
   "execution_count": 118,
   "metadata": {},
   "outputs": [
    {
     "data": {
      "text/html": [
       "<div>\n",
       "<style scoped>\n",
       "    .dataframe tbody tr th:only-of-type {\n",
       "        vertical-align: middle;\n",
       "    }\n",
       "\n",
       "    .dataframe tbody tr th {\n",
       "        vertical-align: top;\n",
       "    }\n",
       "\n",
       "    .dataframe thead th {\n",
       "        text-align: right;\n",
       "    }\n",
       "</style>\n",
       "<table border=\"1\" class=\"dataframe\">\n",
       "  <thead>\n",
       "    <tr style=\"text-align: right;\">\n",
       "      <th></th>\n",
       "      <th>Country</th>\n",
       "      <th>QII_2016</th>\n",
       "    </tr>\n",
       "  </thead>\n",
       "  <tbody>\n",
       "    <tr>\n",
       "      <th>0</th>\n",
       "      <td>Denmark</td>\n",
       "      <td>198.57</td>\n",
       "    </tr>\n",
       "    <tr>\n",
       "      <th>1</th>\n",
       "      <td>Switzerland</td>\n",
       "      <td>195.93</td>\n",
       "    </tr>\n",
       "    <tr>\n",
       "      <th>2</th>\n",
       "      <td>Finland</td>\n",
       "      <td>194.01</td>\n",
       "    </tr>\n",
       "    <tr>\n",
       "      <th>3</th>\n",
       "      <td>Australia</td>\n",
       "      <td>191.13</td>\n",
       "    </tr>\n",
       "    <tr>\n",
       "      <th>4</th>\n",
       "      <td>Austria</td>\n",
       "      <td>191.05</td>\n",
       "    </tr>\n",
       "  </tbody>\n",
       "</table>\n",
       "</div>"
      ],
      "text/plain": [
       "       Country  QII_2016\n",
       "0      Denmark    198.57\n",
       "1  Switzerland    195.93\n",
       "2      Finland    194.01\n",
       "3    Australia    191.13\n",
       "4      Austria    191.05"
      ]
     },
     "execution_count": 118,
     "metadata": {},
     "output_type": "execute_result"
    }
   ],
   "source": [
    "# 2016\n",
    "table2016 = pd.read_html('https://www.numbeo.com/quality-of-life/rankings_by_country.jsp?title=2016')\n",
    "numDf2016 = table[2][[\"Country\",\"Quality of Life Index\"]].rename(columns={\n",
    "    'Quality of Life Index':'QII_2016'})\n",
    "numDf2016.head()"
   ]
  },
  {
   "cell_type": "code",
   "execution_count": 119,
   "metadata": {},
   "outputs": [
    {
     "data": {
      "text/html": [
       "<div>\n",
       "<style scoped>\n",
       "    .dataframe tbody tr th:only-of-type {\n",
       "        vertical-align: middle;\n",
       "    }\n",
       "\n",
       "    .dataframe tbody tr th {\n",
       "        vertical-align: top;\n",
       "    }\n",
       "\n",
       "    .dataframe thead th {\n",
       "        text-align: right;\n",
       "    }\n",
       "</style>\n",
       "<table border=\"1\" class=\"dataframe\">\n",
       "  <thead>\n",
       "    <tr style=\"text-align: right;\">\n",
       "      <th></th>\n",
       "      <th>Country</th>\n",
       "      <th>QII_2017</th>\n",
       "    </tr>\n",
       "  </thead>\n",
       "  <tbody>\n",
       "    <tr>\n",
       "      <th>0</th>\n",
       "      <td>Denmark</td>\n",
       "      <td>198.57</td>\n",
       "    </tr>\n",
       "    <tr>\n",
       "      <th>1</th>\n",
       "      <td>Switzerland</td>\n",
       "      <td>195.93</td>\n",
       "    </tr>\n",
       "    <tr>\n",
       "      <th>2</th>\n",
       "      <td>Finland</td>\n",
       "      <td>194.01</td>\n",
       "    </tr>\n",
       "    <tr>\n",
       "      <th>3</th>\n",
       "      <td>Australia</td>\n",
       "      <td>191.13</td>\n",
       "    </tr>\n",
       "    <tr>\n",
       "      <th>4</th>\n",
       "      <td>Austria</td>\n",
       "      <td>191.05</td>\n",
       "    </tr>\n",
       "  </tbody>\n",
       "</table>\n",
       "</div>"
      ],
      "text/plain": [
       "       Country  QII_2017\n",
       "0      Denmark    198.57\n",
       "1  Switzerland    195.93\n",
       "2      Finland    194.01\n",
       "3    Australia    191.13\n",
       "4      Austria    191.05"
      ]
     },
     "execution_count": 119,
     "metadata": {},
     "output_type": "execute_result"
    }
   ],
   "source": [
    "# 2017\n",
    "table2017 = pd.read_html('https://www.numbeo.com/quality-of-life/rankings_by_country.jsp?title=2017')\n",
    "numDf2017 = table[2][[\"Country\",\"Quality of Life Index\"]].rename(columns={\n",
    "    'Quality of Life Index':'QII_2017'})\n",
    "numDf2017.head()"
   ]
  },
  {
   "cell_type": "code",
   "execution_count": 134,
   "metadata": {},
   "outputs": [
    {
     "data": {
      "text/plain": [
       "Country     71\n",
       "QII_2018    71\n",
       "dtype: int64"
      ]
     },
     "execution_count": 134,
     "metadata": {},
     "output_type": "execute_result"
    }
   ],
   "source": [
    "# 2018\n",
    "table2018 = pd.read_html('https://www.numbeo.com/quality-of-life/rankings_by_country.jsp?title=2018')\n",
    "numDf2018 = table[2][[\"Country\",\"Quality of Life Index\"]].rename(columns={\n",
    "    'Quality of Life Index':'QII_2018'})\n",
    "numDf2018.head()\n",
    "numDf2018.count()"
   ]
  },
  {
   "cell_type": "code",
   "execution_count": 174,
   "metadata": {},
   "outputs": [
    {
     "data": {
      "text/html": [
       "<div>\n",
       "<style scoped>\n",
       "    .dataframe tbody tr th:only-of-type {\n",
       "        vertical-align: middle;\n",
       "    }\n",
       "\n",
       "    .dataframe tbody tr th {\n",
       "        vertical-align: top;\n",
       "    }\n",
       "\n",
       "    .dataframe thead th {\n",
       "        text-align: right;\n",
       "    }\n",
       "</style>\n",
       "<table border=\"1\" class=\"dataframe\">\n",
       "  <thead>\n",
       "    <tr style=\"text-align: right;\">\n",
       "      <th></th>\n",
       "      <th>Country</th>\n",
       "      <th>QII_2012</th>\n",
       "      <th>QII_2013</th>\n",
       "      <th>QII_2014</th>\n",
       "      <th>QII_2015</th>\n",
       "      <th>QII_2016</th>\n",
       "      <th>QII_2017</th>\n",
       "      <th>QII_2019</th>\n",
       "      <th>QII_2018</th>\n",
       "    </tr>\n",
       "  </thead>\n",
       "  <tbody>\n",
       "    <tr>\n",
       "      <th>0</th>\n",
       "      <td>Denmark</td>\n",
       "      <td>198.57</td>\n",
       "      <td>198.57</td>\n",
       "      <td>198.57</td>\n",
       "      <td>198.57</td>\n",
       "      <td>198.57</td>\n",
       "      <td>198.57</td>\n",
       "      <td>198.57</td>\n",
       "      <td>198.57</td>\n",
       "    </tr>\n",
       "    <tr>\n",
       "      <th>1</th>\n",
       "      <td>Switzerland</td>\n",
       "      <td>195.93</td>\n",
       "      <td>195.93</td>\n",
       "      <td>195.93</td>\n",
       "      <td>195.93</td>\n",
       "      <td>195.93</td>\n",
       "      <td>195.93</td>\n",
       "      <td>195.93</td>\n",
       "      <td>195.93</td>\n",
       "    </tr>\n",
       "    <tr>\n",
       "      <th>2</th>\n",
       "      <td>Finland</td>\n",
       "      <td>194.01</td>\n",
       "      <td>194.01</td>\n",
       "      <td>194.01</td>\n",
       "      <td>194.01</td>\n",
       "      <td>194.01</td>\n",
       "      <td>194.01</td>\n",
       "      <td>194.01</td>\n",
       "      <td>194.01</td>\n",
       "    </tr>\n",
       "    <tr>\n",
       "      <th>3</th>\n",
       "      <td>Australia</td>\n",
       "      <td>191.13</td>\n",
       "      <td>191.13</td>\n",
       "      <td>191.13</td>\n",
       "      <td>191.13</td>\n",
       "      <td>191.13</td>\n",
       "      <td>191.13</td>\n",
       "      <td>191.13</td>\n",
       "      <td>191.13</td>\n",
       "    </tr>\n",
       "    <tr>\n",
       "      <th>4</th>\n",
       "      <td>Austria</td>\n",
       "      <td>191.05</td>\n",
       "      <td>191.05</td>\n",
       "      <td>191.05</td>\n",
       "      <td>191.05</td>\n",
       "      <td>191.05</td>\n",
       "      <td>191.05</td>\n",
       "      <td>191.05</td>\n",
       "      <td>191.05</td>\n",
       "    </tr>\n",
       "  </tbody>\n",
       "</table>\n",
       "</div>"
      ],
      "text/plain": [
       "       Country  QII_2012  QII_2013  QII_2014  QII_2015  QII_2016  QII_2017  \\\n",
       "0      Denmark    198.57    198.57    198.57    198.57    198.57    198.57   \n",
       "1  Switzerland    195.93    195.93    195.93    195.93    195.93    195.93   \n",
       "2      Finland    194.01    194.01    194.01    194.01    194.01    194.01   \n",
       "3    Australia    191.13    191.13    191.13    191.13    191.13    191.13   \n",
       "4      Austria    191.05    191.05    191.05    191.05    191.05    191.05   \n",
       "\n",
       "   QII_2019  QII_2018  \n",
       "0    198.57    198.57  \n",
       "1    195.93    195.93  \n",
       "2    194.01    194.01  \n",
       "3    191.13    191.13  \n",
       "4    191.05    191.05  "
      ]
     },
     "execution_count": 174,
     "metadata": {},
     "output_type": "execute_result"
    }
   ],
   "source": [
    "merge1 = pd.merge(numDf2019, numDf2018, how=\"inner\", on=\"Country\")\n",
    "merge2 = pd.merge(numDf2017,merge1, how=\"inner\", on=\"Country\")\n",
    "merge3 = pd.merge(numDf2016,merge2, how=\"inner\", on=\"Country\")\n",
    "merge4 = pd.merge(numDf2015,merge3, how=\"inner\", on=\"Country\")\n",
    "merge5 = pd.merge(numDf2014,merge4, how=\"inner\", on=\"Country\")\n",
    "merge6 = pd.merge(numDf2013,merge5, how=\"inner\", on=\"Country\")\n",
    "merge_final = pd.merge(numDf2012,merge6, how=\"inner\", on=\"Country\")\n",
    "merge_final.head()"
   ]
  },
  {
   "cell_type": "code",
   "execution_count": 147,
   "metadata": {},
   "outputs": [],
   "source": [
    "# # populate rank starting with 1\n",
    "# merge_final['Rank'] = [x for x in range(1,len(merge_final)+1)]\n",
    "# merge_final.head()"
   ]
  },
  {
   "cell_type": "code",
   "execution_count": 175,
   "metadata": {},
   "outputs": [
    {
     "data": {
      "text/html": [
       "<div>\n",
       "<style scoped>\n",
       "    .dataframe tbody tr th:only-of-type {\n",
       "        vertical-align: middle;\n",
       "    }\n",
       "\n",
       "    .dataframe tbody tr th {\n",
       "        vertical-align: top;\n",
       "    }\n",
       "\n",
       "    .dataframe thead th {\n",
       "        text-align: right;\n",
       "    }\n",
       "</style>\n",
       "<table border=\"1\" class=\"dataframe\">\n",
       "  <thead>\n",
       "    <tr style=\"text-align: right;\">\n",
       "      <th></th>\n",
       "      <th>Country</th>\n",
       "      <th>Alpha-2 code</th>\n",
       "      <th>Alpha-3 code</th>\n",
       "      <th>Numeric</th>\n",
       "    </tr>\n",
       "  </thead>\n",
       "  <tbody>\n",
       "    <tr>\n",
       "      <th>0</th>\n",
       "      <td>Afghanistan</td>\n",
       "      <td>AF</td>\n",
       "      <td>AFG</td>\n",
       "      <td>4</td>\n",
       "    </tr>\n",
       "    <tr>\n",
       "      <th>1</th>\n",
       "      <td>Åland Islands</td>\n",
       "      <td>AX</td>\n",
       "      <td>ALA</td>\n",
       "      <td>248</td>\n",
       "    </tr>\n",
       "    <tr>\n",
       "      <th>2</th>\n",
       "      <td>Albania</td>\n",
       "      <td>AL</td>\n",
       "      <td>ALB</td>\n",
       "      <td>8</td>\n",
       "    </tr>\n",
       "    <tr>\n",
       "      <th>3</th>\n",
       "      <td>Algeria</td>\n",
       "      <td>DZ</td>\n",
       "      <td>DZA</td>\n",
       "      <td>12</td>\n",
       "    </tr>\n",
       "    <tr>\n",
       "      <th>4</th>\n",
       "      <td>American Samoa</td>\n",
       "      <td>AS</td>\n",
       "      <td>ASM</td>\n",
       "      <td>16</td>\n",
       "    </tr>\n",
       "  </tbody>\n",
       "</table>\n",
       "</div>"
      ],
      "text/plain": [
       "          Country Alpha-2 code Alpha-3 code  Numeric\n",
       "0     Afghanistan           AF          AFG        4\n",
       "1   Åland Islands           AX          ALA      248\n",
       "2         Albania           AL          ALB        8\n",
       "3         Algeria           DZ          DZA       12\n",
       "4  American Samoa           AS          ASM       16"
      ]
     },
     "execution_count": 175,
     "metadata": {},
     "output_type": "execute_result"
    }
   ],
   "source": [
    "# Read in ISO HTML as Pandas Table\n",
    "table = pd.read_html('https://www.iban.com/country-codes')\n",
    "isoDf = table[0]\n",
    "isoDf.head()"
   ]
  },
  {
   "cell_type": "code",
   "execution_count": 176,
   "metadata": {},
   "outputs": [
    {
     "data": {
      "text/html": [
       "<div>\n",
       "<style scoped>\n",
       "    .dataframe tbody tr th:only-of-type {\n",
       "        vertical-align: middle;\n",
       "    }\n",
       "\n",
       "    .dataframe tbody tr th {\n",
       "        vertical-align: top;\n",
       "    }\n",
       "\n",
       "    .dataframe thead th {\n",
       "        text-align: right;\n",
       "    }\n",
       "</style>\n",
       "<table border=\"1\" class=\"dataframe\">\n",
       "  <thead>\n",
       "    <tr style=\"text-align: right;\">\n",
       "      <th></th>\n",
       "      <th>Country</th>\n",
       "      <th>iso_a2</th>\n",
       "      <th>iso_a3</th>\n",
       "      <th>iso_n</th>\n",
       "    </tr>\n",
       "  </thead>\n",
       "  <tbody>\n",
       "    <tr>\n",
       "      <th>0</th>\n",
       "      <td>Afghanistan</td>\n",
       "      <td>AF</td>\n",
       "      <td>AFG</td>\n",
       "      <td>4</td>\n",
       "    </tr>\n",
       "    <tr>\n",
       "      <th>1</th>\n",
       "      <td>Åland Islands</td>\n",
       "      <td>AX</td>\n",
       "      <td>ALA</td>\n",
       "      <td>248</td>\n",
       "    </tr>\n",
       "    <tr>\n",
       "      <th>2</th>\n",
       "      <td>Albania</td>\n",
       "      <td>AL</td>\n",
       "      <td>ALB</td>\n",
       "      <td>8</td>\n",
       "    </tr>\n",
       "    <tr>\n",
       "      <th>3</th>\n",
       "      <td>Algeria</td>\n",
       "      <td>DZ</td>\n",
       "      <td>DZA</td>\n",
       "      <td>12</td>\n",
       "    </tr>\n",
       "    <tr>\n",
       "      <th>4</th>\n",
       "      <td>American Samoa</td>\n",
       "      <td>AS</td>\n",
       "      <td>ASM</td>\n",
       "      <td>16</td>\n",
       "    </tr>\n",
       "  </tbody>\n",
       "</table>\n",
       "</div>"
      ],
      "text/plain": [
       "          Country iso_a2 iso_a3  iso_n\n",
       "0     Afghanistan     AF    AFG      4\n",
       "1   Åland Islands     AX    ALA    248\n",
       "2         Albania     AL    ALB      8\n",
       "3         Algeria     DZ    DZA     12\n",
       "4  American Samoa     AS    ASM     16"
      ]
     },
     "execution_count": 176,
     "metadata": {},
     "output_type": "execute_result"
    }
   ],
   "source": [
    "# Rename ISO columns\n",
    "isoDf = isoDf.rename(columns={\n",
    "    'Alpha-2 code':'iso_a2',\n",
    "    'Alpha-3 code':'iso_a3',\n",
    "    'Numeric':'iso_n'\n",
    "})\n",
    "isoDf.head()"
   ]
  },
  {
   "cell_type": "code",
   "execution_count": 177,
   "metadata": {},
   "outputs": [
    {
     "data": {
      "text/html": [
       "<div>\n",
       "<style scoped>\n",
       "    .dataframe tbody tr th:only-of-type {\n",
       "        vertical-align: middle;\n",
       "    }\n",
       "\n",
       "    .dataframe tbody tr th {\n",
       "        vertical-align: top;\n",
       "    }\n",
       "\n",
       "    .dataframe thead th {\n",
       "        text-align: right;\n",
       "    }\n",
       "</style>\n",
       "<table border=\"1\" class=\"dataframe\">\n",
       "  <thead>\n",
       "    <tr style=\"text-align: right;\">\n",
       "      <th></th>\n",
       "      <th>Country</th>\n",
       "      <th>QII_2012</th>\n",
       "      <th>QII_2013</th>\n",
       "      <th>QII_2014</th>\n",
       "      <th>QII_2015</th>\n",
       "      <th>QII_2016</th>\n",
       "      <th>QII_2017</th>\n",
       "      <th>QII_2019</th>\n",
       "      <th>QII_2018</th>\n",
       "      <th>iso_a2</th>\n",
       "      <th>iso_a3</th>\n",
       "      <th>iso_n</th>\n",
       "    </tr>\n",
       "  </thead>\n",
       "  <tbody>\n",
       "    <tr>\n",
       "      <th>0</th>\n",
       "      <td>Denmark</td>\n",
       "      <td>198.57</td>\n",
       "      <td>198.57</td>\n",
       "      <td>198.57</td>\n",
       "      <td>198.57</td>\n",
       "      <td>198.57</td>\n",
       "      <td>198.57</td>\n",
       "      <td>198.57</td>\n",
       "      <td>198.57</td>\n",
       "      <td>DK</td>\n",
       "      <td>DNK</td>\n",
       "      <td>208.0</td>\n",
       "    </tr>\n",
       "    <tr>\n",
       "      <th>1</th>\n",
       "      <td>Switzerland</td>\n",
       "      <td>195.93</td>\n",
       "      <td>195.93</td>\n",
       "      <td>195.93</td>\n",
       "      <td>195.93</td>\n",
       "      <td>195.93</td>\n",
       "      <td>195.93</td>\n",
       "      <td>195.93</td>\n",
       "      <td>195.93</td>\n",
       "      <td>CH</td>\n",
       "      <td>CHE</td>\n",
       "      <td>756.0</td>\n",
       "    </tr>\n",
       "    <tr>\n",
       "      <th>2</th>\n",
       "      <td>Finland</td>\n",
       "      <td>194.01</td>\n",
       "      <td>194.01</td>\n",
       "      <td>194.01</td>\n",
       "      <td>194.01</td>\n",
       "      <td>194.01</td>\n",
       "      <td>194.01</td>\n",
       "      <td>194.01</td>\n",
       "      <td>194.01</td>\n",
       "      <td>FI</td>\n",
       "      <td>FIN</td>\n",
       "      <td>246.0</td>\n",
       "    </tr>\n",
       "    <tr>\n",
       "      <th>3</th>\n",
       "      <td>Australia</td>\n",
       "      <td>191.13</td>\n",
       "      <td>191.13</td>\n",
       "      <td>191.13</td>\n",
       "      <td>191.13</td>\n",
       "      <td>191.13</td>\n",
       "      <td>191.13</td>\n",
       "      <td>191.13</td>\n",
       "      <td>191.13</td>\n",
       "      <td>AU</td>\n",
       "      <td>AUS</td>\n",
       "      <td>36.0</td>\n",
       "    </tr>\n",
       "    <tr>\n",
       "      <th>4</th>\n",
       "      <td>Austria</td>\n",
       "      <td>191.05</td>\n",
       "      <td>191.05</td>\n",
       "      <td>191.05</td>\n",
       "      <td>191.05</td>\n",
       "      <td>191.05</td>\n",
       "      <td>191.05</td>\n",
       "      <td>191.05</td>\n",
       "      <td>191.05</td>\n",
       "      <td>AT</td>\n",
       "      <td>AUT</td>\n",
       "      <td>40.0</td>\n",
       "    </tr>\n",
       "  </tbody>\n",
       "</table>\n",
       "</div>"
      ],
      "text/plain": [
       "       Country  QII_2012  QII_2013  QII_2014  QII_2015  QII_2016  QII_2017  \\\n",
       "0      Denmark    198.57    198.57    198.57    198.57    198.57    198.57   \n",
       "1  Switzerland    195.93    195.93    195.93    195.93    195.93    195.93   \n",
       "2      Finland    194.01    194.01    194.01    194.01    194.01    194.01   \n",
       "3    Australia    191.13    191.13    191.13    191.13    191.13    191.13   \n",
       "4      Austria    191.05    191.05    191.05    191.05    191.05    191.05   \n",
       "\n",
       "   QII_2019  QII_2018 iso_a2 iso_a3  iso_n  \n",
       "0    198.57    198.57     DK    DNK  208.0  \n",
       "1    195.93    195.93     CH    CHE  756.0  \n",
       "2    194.01    194.01     FI    FIN  246.0  \n",
       "3    191.13    191.13     AU    AUS   36.0  \n",
       "4    191.05    191.05     AT    AUT   40.0  "
      ]
     },
     "execution_count": 177,
     "metadata": {},
     "output_type": "execute_result"
    }
   ],
   "source": [
    "# Left Join Numbeo and ISO by Country\n",
    "countryDf = merge_final.merge(isoDf, on='Country', how='left')\n",
    "countryDf.head()"
   ]
  },
  {
   "cell_type": "code",
   "execution_count": 178,
   "metadata": {},
   "outputs": [
    {
     "data": {
      "text/plain": [
       "iso_a2    13\n",
       "iso_a3    13\n",
       "iso_n     13\n",
       "dtype: int64"
      ]
     },
     "execution_count": 178,
     "metadata": {},
     "output_type": "execute_result"
    }
   ],
   "source": [
    "# Check for null columns\n",
    "null_columns = countryDf.columns[countryDf.isnull().any()]\n",
    "countryDf[null_columns].isnull().sum()"
   ]
  },
  {
   "cell_type": "code",
   "execution_count": 161,
   "metadata": {},
   "outputs": [
    {
     "data": {
      "text/plain": [
       "5                Netherlands\n",
       "12             United States\n",
       "16            United Kingdom\n",
       "19      United Arab Emirates\n",
       "24            Czech Republic\n",
       "32               South Korea\n",
       "41                    Taiwan\n",
       "44    Bosnia And Herzegovina\n",
       "55                 Macedonia\n",
       "58                    Russia\n",
       "66               Philippines\n",
       "67                   Vietnam\n",
       "69                      Iran\n",
       "Name: Country, dtype: object"
      ]
     },
     "execution_count": 161,
     "metadata": {},
     "output_type": "execute_result"
    }
   ],
   "source": [
    "# Find 13 countries that did not match in the join\n",
    "countryDf[countryDf.iso_a2.isnull()].Country"
   ]
  },
  {
   "cell_type": "code",
   "execution_count": 179,
   "metadata": {},
   "outputs": [
    {
     "data": {
      "text/html": [
       "<div>\n",
       "<style scoped>\n",
       "    .dataframe tbody tr th:only-of-type {\n",
       "        vertical-align: middle;\n",
       "    }\n",
       "\n",
       "    .dataframe tbody tr th {\n",
       "        vertical-align: top;\n",
       "    }\n",
       "\n",
       "    .dataframe thead th {\n",
       "        text-align: right;\n",
       "    }\n",
       "</style>\n",
       "<table border=\"1\" class=\"dataframe\">\n",
       "  <thead>\n",
       "    <tr style=\"text-align: right;\">\n",
       "      <th></th>\n",
       "      <th>Country</th>\n",
       "      <th>iso_a2</th>\n",
       "      <th>iso_a3</th>\n",
       "      <th>iso_n</th>\n",
       "    </tr>\n",
       "  </thead>\n",
       "  <tbody>\n",
       "    <tr>\n",
       "      <th>157</th>\n",
       "      <td>Netherlands (the)</td>\n",
       "      <td>NL</td>\n",
       "      <td>NLD</td>\n",
       "      <td>528</td>\n",
       "    </tr>\n",
       "  </tbody>\n",
       "</table>\n",
       "</div>"
      ],
      "text/plain": [
       "               Country iso_a2 iso_a3  iso_n\n",
       "157  Netherlands (the)     NL    NLD    528"
      ]
     },
     "execution_count": 179,
     "metadata": {},
     "output_type": "execute_result"
    }
   ],
   "source": [
    "# Clean each country one by one\n",
    "# Match as Numbeo country\n",
    "\n",
    "# Netherlands\n",
    "isoDf[isoDf['Country'].str.contains('Neth', case=False)]"
   ]
  },
  {
   "cell_type": "code",
   "execution_count": 180,
   "metadata": {},
   "outputs": [
    {
     "data": {
      "text/html": [
       "<div>\n",
       "<style scoped>\n",
       "    .dataframe tbody tr th:only-of-type {\n",
       "        vertical-align: middle;\n",
       "    }\n",
       "\n",
       "    .dataframe tbody tr th {\n",
       "        vertical-align: top;\n",
       "    }\n",
       "\n",
       "    .dataframe thead th {\n",
       "        text-align: right;\n",
       "    }\n",
       "</style>\n",
       "<table border=\"1\" class=\"dataframe\">\n",
       "  <thead>\n",
       "    <tr style=\"text-align: right;\">\n",
       "      <th></th>\n",
       "      <th>Country</th>\n",
       "      <th>iso_a2</th>\n",
       "      <th>iso_a3</th>\n",
       "      <th>iso_n</th>\n",
       "    </tr>\n",
       "  </thead>\n",
       "  <tbody>\n",
       "    <tr>\n",
       "      <th>157</th>\n",
       "      <td>Netherlands</td>\n",
       "      <td>NL</td>\n",
       "      <td>NLD</td>\n",
       "      <td>528</td>\n",
       "    </tr>\n",
       "  </tbody>\n",
       "</table>\n",
       "</div>"
      ],
      "text/plain": [
       "         Country iso_a2 iso_a3  iso_n\n",
       "157  Netherlands     NL    NLD    528"
      ]
     },
     "execution_count": 180,
     "metadata": {},
     "output_type": "execute_result"
    }
   ],
   "source": [
    "isoDf.loc[isoDf['Country'].str.contains('Neth', case=False), 'Country'] = 'Netherlands'\n",
    "isoDf[isoDf['Country'].str.contains('Neth', case=False)]"
   ]
  },
  {
   "cell_type": "code",
   "execution_count": 181,
   "metadata": {},
   "outputs": [
    {
     "data": {
      "text/html": [
       "<div>\n",
       "<style scoped>\n",
       "    .dataframe tbody tr th:only-of-type {\n",
       "        vertical-align: middle;\n",
       "    }\n",
       "\n",
       "    .dataframe tbody tr th {\n",
       "        vertical-align: top;\n",
       "    }\n",
       "\n",
       "    .dataframe thead th {\n",
       "        text-align: right;\n",
       "    }\n",
       "</style>\n",
       "<table border=\"1\" class=\"dataframe\">\n",
       "  <thead>\n",
       "    <tr style=\"text-align: right;\">\n",
       "      <th></th>\n",
       "      <th>Country</th>\n",
       "      <th>iso_a2</th>\n",
       "      <th>iso_a3</th>\n",
       "      <th>iso_n</th>\n",
       "    </tr>\n",
       "  </thead>\n",
       "  <tbody>\n",
       "    <tr>\n",
       "      <th>219</th>\n",
       "      <td>Tanzania, United Republic of</td>\n",
       "      <td>TZ</td>\n",
       "      <td>TZA</td>\n",
       "      <td>834</td>\n",
       "    </tr>\n",
       "    <tr>\n",
       "      <th>233</th>\n",
       "      <td>United Arab Emirates (the)</td>\n",
       "      <td>AE</td>\n",
       "      <td>ARE</td>\n",
       "      <td>784</td>\n",
       "    </tr>\n",
       "    <tr>\n",
       "      <th>234</th>\n",
       "      <td>United Kingdom of Great Britain and Northern I...</td>\n",
       "      <td>GB</td>\n",
       "      <td>GBR</td>\n",
       "      <td>826</td>\n",
       "    </tr>\n",
       "    <tr>\n",
       "      <th>235</th>\n",
       "      <td>United States Minor Outlying Islands (the)</td>\n",
       "      <td>UM</td>\n",
       "      <td>UMI</td>\n",
       "      <td>581</td>\n",
       "    </tr>\n",
       "    <tr>\n",
       "      <th>236</th>\n",
       "      <td>United States of America (the)</td>\n",
       "      <td>US</td>\n",
       "      <td>USA</td>\n",
       "      <td>840</td>\n",
       "    </tr>\n",
       "  </tbody>\n",
       "</table>\n",
       "</div>"
      ],
      "text/plain": [
       "                                               Country iso_a2 iso_a3  iso_n\n",
       "219                       Tanzania, United Republic of     TZ    TZA    834\n",
       "233                         United Arab Emirates (the)     AE    ARE    784\n",
       "234  United Kingdom of Great Britain and Northern I...     GB    GBR    826\n",
       "235         United States Minor Outlying Islands (the)     UM    UMI    581\n",
       "236                     United States of America (the)     US    USA    840"
      ]
     },
     "execution_count": 181,
     "metadata": {},
     "output_type": "execute_result"
    }
   ],
   "source": [
    "# United States and United Kingdom and United Arab Emirates\n",
    "isoDf[isoDf['Country'].str.contains('United', case=False)]"
   ]
  },
  {
   "cell_type": "code",
   "execution_count": 182,
   "metadata": {},
   "outputs": [
    {
     "data": {
      "text/html": [
       "<div>\n",
       "<style scoped>\n",
       "    .dataframe tbody tr th:only-of-type {\n",
       "        vertical-align: middle;\n",
       "    }\n",
       "\n",
       "    .dataframe tbody tr th {\n",
       "        vertical-align: top;\n",
       "    }\n",
       "\n",
       "    .dataframe thead th {\n",
       "        text-align: right;\n",
       "    }\n",
       "</style>\n",
       "<table border=\"1\" class=\"dataframe\">\n",
       "  <thead>\n",
       "    <tr style=\"text-align: right;\">\n",
       "      <th></th>\n",
       "      <th>Country</th>\n",
       "      <th>iso_a2</th>\n",
       "      <th>iso_a3</th>\n",
       "      <th>iso_n</th>\n",
       "    </tr>\n",
       "  </thead>\n",
       "  <tbody>\n",
       "    <tr>\n",
       "      <th>219</th>\n",
       "      <td>Tanzania, United Republic of</td>\n",
       "      <td>TZ</td>\n",
       "      <td>TZA</td>\n",
       "      <td>834</td>\n",
       "    </tr>\n",
       "    <tr>\n",
       "      <th>233</th>\n",
       "      <td>United Arab Emirates</td>\n",
       "      <td>AE</td>\n",
       "      <td>ARE</td>\n",
       "      <td>784</td>\n",
       "    </tr>\n",
       "    <tr>\n",
       "      <th>234</th>\n",
       "      <td>United Kingdom</td>\n",
       "      <td>GB</td>\n",
       "      <td>GBR</td>\n",
       "      <td>826</td>\n",
       "    </tr>\n",
       "    <tr>\n",
       "      <th>235</th>\n",
       "      <td>United States Minor Outlying Islands (the)</td>\n",
       "      <td>UM</td>\n",
       "      <td>UMI</td>\n",
       "      <td>581</td>\n",
       "    </tr>\n",
       "    <tr>\n",
       "      <th>236</th>\n",
       "      <td>United States</td>\n",
       "      <td>US</td>\n",
       "      <td>USA</td>\n",
       "      <td>840</td>\n",
       "    </tr>\n",
       "  </tbody>\n",
       "</table>\n",
       "</div>"
      ],
      "text/plain": [
       "                                        Country iso_a2 iso_a3  iso_n\n",
       "219                Tanzania, United Republic of     TZ    TZA    834\n",
       "233                        United Arab Emirates     AE    ARE    784\n",
       "234                              United Kingdom     GB    GBR    826\n",
       "235  United States Minor Outlying Islands (the)     UM    UMI    581\n",
       "236                               United States     US    USA    840"
      ]
     },
     "execution_count": 182,
     "metadata": {},
     "output_type": "execute_result"
    }
   ],
   "source": [
    "isoDf.loc[isoDf['Country'].str.contains('United States of America', case=False), 'Country'] = 'United States'\n",
    "isoDf.loc[isoDf['Country'].str.contains('United Kingdom of Great Britain', case=False), 'Country'] = 'United Kingdom'\n",
    "isoDf.loc[isoDf['Country'].str.contains('United Arab Emirates', case=False), 'Country'] = 'United Arab Emirates'\n",
    "isoDf[isoDf['Country'].str.contains('United', case=False)]"
   ]
  },
  {
   "cell_type": "code",
   "execution_count": 183,
   "metadata": {},
   "outputs": [
    {
     "data": {
      "text/html": [
       "<div>\n",
       "<style scoped>\n",
       "    .dataframe tbody tr th:only-of-type {\n",
       "        vertical-align: middle;\n",
       "    }\n",
       "\n",
       "    .dataframe tbody tr th {\n",
       "        vertical-align: top;\n",
       "    }\n",
       "\n",
       "    .dataframe thead th {\n",
       "        text-align: right;\n",
       "    }\n",
       "</style>\n",
       "<table border=\"1\" class=\"dataframe\">\n",
       "  <thead>\n",
       "    <tr style=\"text-align: right;\">\n",
       "      <th></th>\n",
       "      <th>Country</th>\n",
       "      <th>iso_a2</th>\n",
       "      <th>iso_a3</th>\n",
       "      <th>iso_n</th>\n",
       "    </tr>\n",
       "  </thead>\n",
       "  <tbody>\n",
       "    <tr>\n",
       "      <th>59</th>\n",
       "      <td>Czechia</td>\n",
       "      <td>CZ</td>\n",
       "      <td>CZE</td>\n",
       "      <td>203</td>\n",
       "    </tr>\n",
       "  </tbody>\n",
       "</table>\n",
       "</div>"
      ],
      "text/plain": [
       "    Country iso_a2 iso_a3  iso_n\n",
       "59  Czechia     CZ    CZE    203"
      ]
     },
     "execution_count": 183,
     "metadata": {},
     "output_type": "execute_result"
    }
   ],
   "source": [
    "# Czech Republic\n",
    "isoDf[isoDf['Country'].str.contains('Czech', case=False)]"
   ]
  },
  {
   "cell_type": "code",
   "execution_count": 184,
   "metadata": {},
   "outputs": [
    {
     "data": {
      "text/html": [
       "<div>\n",
       "<style scoped>\n",
       "    .dataframe tbody tr th:only-of-type {\n",
       "        vertical-align: middle;\n",
       "    }\n",
       "\n",
       "    .dataframe tbody tr th {\n",
       "        vertical-align: top;\n",
       "    }\n",
       "\n",
       "    .dataframe thead th {\n",
       "        text-align: right;\n",
       "    }\n",
       "</style>\n",
       "<table border=\"1\" class=\"dataframe\">\n",
       "  <thead>\n",
       "    <tr style=\"text-align: right;\">\n",
       "      <th></th>\n",
       "      <th>Country</th>\n",
       "      <th>iso_a2</th>\n",
       "      <th>iso_a3</th>\n",
       "      <th>iso_n</th>\n",
       "    </tr>\n",
       "  </thead>\n",
       "  <tbody>\n",
       "    <tr>\n",
       "      <th>59</th>\n",
       "      <td>Czech Republic</td>\n",
       "      <td>CZ</td>\n",
       "      <td>CZE</td>\n",
       "      <td>203</td>\n",
       "    </tr>\n",
       "  </tbody>\n",
       "</table>\n",
       "</div>"
      ],
      "text/plain": [
       "           Country iso_a2 iso_a3  iso_n\n",
       "59  Czech Republic     CZ    CZE    203"
      ]
     },
     "execution_count": 184,
     "metadata": {},
     "output_type": "execute_result"
    }
   ],
   "source": [
    "isoDf.loc[isoDf['Country'].str.contains('Czech', case=False), 'Country'] = 'Czech Republic'\n",
    "isoDf[isoDf['Country'].str.contains('Czech', case=False)]"
   ]
  },
  {
   "cell_type": "code",
   "execution_count": 185,
   "metadata": {},
   "outputs": [
    {
     "data": {
      "text/html": [
       "<div>\n",
       "<style scoped>\n",
       "    .dataframe tbody tr th:only-of-type {\n",
       "        vertical-align: middle;\n",
       "    }\n",
       "\n",
       "    .dataframe tbody tr th {\n",
       "        vertical-align: top;\n",
       "    }\n",
       "\n",
       "    .dataframe thead th {\n",
       "        text-align: right;\n",
       "    }\n",
       "</style>\n",
       "<table border=\"1\" class=\"dataframe\">\n",
       "  <thead>\n",
       "    <tr style=\"text-align: right;\">\n",
       "      <th></th>\n",
       "      <th>Country</th>\n",
       "      <th>iso_a2</th>\n",
       "      <th>iso_a3</th>\n",
       "      <th>iso_n</th>\n",
       "    </tr>\n",
       "  </thead>\n",
       "  <tbody>\n",
       "    <tr>\n",
       "      <th>118</th>\n",
       "      <td>Korea (the Democratic People's Republic of)</td>\n",
       "      <td>KP</td>\n",
       "      <td>PRK</td>\n",
       "      <td>408</td>\n",
       "    </tr>\n",
       "    <tr>\n",
       "      <th>119</th>\n",
       "      <td>Korea (the Republic of)</td>\n",
       "      <td>KR</td>\n",
       "      <td>KOR</td>\n",
       "      <td>410</td>\n",
       "    </tr>\n",
       "  </tbody>\n",
       "</table>\n",
       "</div>"
      ],
      "text/plain": [
       "                                         Country iso_a2 iso_a3  iso_n\n",
       "118  Korea (the Democratic People's Republic of)     KP    PRK    408\n",
       "119                      Korea (the Republic of)     KR    KOR    410"
      ]
     },
     "execution_count": 185,
     "metadata": {},
     "output_type": "execute_result"
    }
   ],
   "source": [
    "# South Korea\n",
    "isoDf[isoDf['Country'].str.contains('Korea', case=False)]"
   ]
  },
  {
   "cell_type": "code",
   "execution_count": 186,
   "metadata": {},
   "outputs": [
    {
     "data": {
      "text/html": [
       "<div>\n",
       "<style scoped>\n",
       "    .dataframe tbody tr th:only-of-type {\n",
       "        vertical-align: middle;\n",
       "    }\n",
       "\n",
       "    .dataframe tbody tr th {\n",
       "        vertical-align: top;\n",
       "    }\n",
       "\n",
       "    .dataframe thead th {\n",
       "        text-align: right;\n",
       "    }\n",
       "</style>\n",
       "<table border=\"1\" class=\"dataframe\">\n",
       "  <thead>\n",
       "    <tr style=\"text-align: right;\">\n",
       "      <th></th>\n",
       "      <th>Country</th>\n",
       "      <th>iso_a2</th>\n",
       "      <th>iso_a3</th>\n",
       "      <th>iso_n</th>\n",
       "    </tr>\n",
       "  </thead>\n",
       "  <tbody>\n",
       "    <tr>\n",
       "      <th>118</th>\n",
       "      <td>Korea (the Democratic People's Republic of)</td>\n",
       "      <td>KP</td>\n",
       "      <td>PRK</td>\n",
       "      <td>408</td>\n",
       "    </tr>\n",
       "    <tr>\n",
       "      <th>119</th>\n",
       "      <td>South Korea</td>\n",
       "      <td>KR</td>\n",
       "      <td>KOR</td>\n",
       "      <td>410</td>\n",
       "    </tr>\n",
       "  </tbody>\n",
       "</table>\n",
       "</div>"
      ],
      "text/plain": [
       "                                         Country iso_a2 iso_a3  iso_n\n",
       "118  Korea (the Democratic People's Republic of)     KP    PRK    408\n",
       "119                                  South Korea     KR    KOR    410"
      ]
     },
     "execution_count": 186,
     "metadata": {},
     "output_type": "execute_result"
    }
   ],
   "source": [
    "isoDf.loc[isoDf['Country']=='Korea (the Republic of)', 'Country'] = 'South Korea'\n",
    "isoDf[isoDf['Country'].str.contains('Korea', case=False)]"
   ]
  },
  {
   "cell_type": "code",
   "execution_count": 187,
   "metadata": {},
   "outputs": [
    {
     "data": {
      "text/html": [
       "<div>\n",
       "<style scoped>\n",
       "    .dataframe tbody tr th:only-of-type {\n",
       "        vertical-align: middle;\n",
       "    }\n",
       "\n",
       "    .dataframe tbody tr th {\n",
       "        vertical-align: top;\n",
       "    }\n",
       "\n",
       "    .dataframe thead th {\n",
       "        text-align: right;\n",
       "    }\n",
       "</style>\n",
       "<table border=\"1\" class=\"dataframe\">\n",
       "  <thead>\n",
       "    <tr style=\"text-align: right;\">\n",
       "      <th></th>\n",
       "      <th>Country</th>\n",
       "      <th>iso_a2</th>\n",
       "      <th>iso_a3</th>\n",
       "      <th>iso_n</th>\n",
       "    </tr>\n",
       "  </thead>\n",
       "  <tbody>\n",
       "    <tr>\n",
       "      <th>217</th>\n",
       "      <td>Taiwan (Province of China)</td>\n",
       "      <td>TW</td>\n",
       "      <td>TWN</td>\n",
       "      <td>158</td>\n",
       "    </tr>\n",
       "  </tbody>\n",
       "</table>\n",
       "</div>"
      ],
      "text/plain": [
       "                        Country iso_a2 iso_a3  iso_n\n",
       "217  Taiwan (Province of China)     TW    TWN    158"
      ]
     },
     "execution_count": 187,
     "metadata": {},
     "output_type": "execute_result"
    }
   ],
   "source": [
    "# Taiwan\n",
    "isoDf[isoDf['Country'].str.contains('Taiwan', case=False)]"
   ]
  },
  {
   "cell_type": "code",
   "execution_count": 188,
   "metadata": {},
   "outputs": [
    {
     "data": {
      "text/html": [
       "<div>\n",
       "<style scoped>\n",
       "    .dataframe tbody tr th:only-of-type {\n",
       "        vertical-align: middle;\n",
       "    }\n",
       "\n",
       "    .dataframe tbody tr th {\n",
       "        vertical-align: top;\n",
       "    }\n",
       "\n",
       "    .dataframe thead th {\n",
       "        text-align: right;\n",
       "    }\n",
       "</style>\n",
       "<table border=\"1\" class=\"dataframe\">\n",
       "  <thead>\n",
       "    <tr style=\"text-align: right;\">\n",
       "      <th></th>\n",
       "      <th>Country</th>\n",
       "      <th>iso_a2</th>\n",
       "      <th>iso_a3</th>\n",
       "      <th>iso_n</th>\n",
       "    </tr>\n",
       "  </thead>\n",
       "  <tbody>\n",
       "    <tr>\n",
       "      <th>217</th>\n",
       "      <td>Taiwan</td>\n",
       "      <td>TW</td>\n",
       "      <td>TWN</td>\n",
       "      <td>158</td>\n",
       "    </tr>\n",
       "  </tbody>\n",
       "</table>\n",
       "</div>"
      ],
      "text/plain": [
       "    Country iso_a2 iso_a3  iso_n\n",
       "217  Taiwan     TW    TWN    158"
      ]
     },
     "execution_count": 188,
     "metadata": {},
     "output_type": "execute_result"
    }
   ],
   "source": [
    "isoDf.loc[isoDf['Country']=='Taiwan (Province of China)', 'Country'] = 'Taiwan'\n",
    "isoDf[isoDf['Country'].str.contains('Taiwan', case=False)]"
   ]
  },
  {
   "cell_type": "code",
   "execution_count": 189,
   "metadata": {},
   "outputs": [
    {
     "data": {
      "text/html": [
       "<div>\n",
       "<style scoped>\n",
       "    .dataframe tbody tr th:only-of-type {\n",
       "        vertical-align: middle;\n",
       "    }\n",
       "\n",
       "    .dataframe tbody tr th {\n",
       "        vertical-align: top;\n",
       "    }\n",
       "\n",
       "    .dataframe thead th {\n",
       "        text-align: right;\n",
       "    }\n",
       "</style>\n",
       "<table border=\"1\" class=\"dataframe\">\n",
       "  <thead>\n",
       "    <tr style=\"text-align: right;\">\n",
       "      <th></th>\n",
       "      <th>Country</th>\n",
       "      <th>iso_a2</th>\n",
       "      <th>iso_a3</th>\n",
       "      <th>iso_n</th>\n",
       "    </tr>\n",
       "  </thead>\n",
       "  <tbody>\n",
       "    <tr>\n",
       "      <th>28</th>\n",
       "      <td>Bosnia and Herzegovina</td>\n",
       "      <td>BA</td>\n",
       "      <td>BIH</td>\n",
       "      <td>70</td>\n",
       "    </tr>\n",
       "  </tbody>\n",
       "</table>\n",
       "</div>"
      ],
      "text/plain": [
       "                   Country iso_a2 iso_a3  iso_n\n",
       "28  Bosnia and Herzegovina     BA    BIH     70"
      ]
     },
     "execution_count": 189,
     "metadata": {},
     "output_type": "execute_result"
    }
   ],
   "source": [
    "# Bosnia And Herzegovina\n",
    "isoDf[isoDf['Country'].str.contains('Bosnia', case=False)]"
   ]
  },
  {
   "cell_type": "code",
   "execution_count": 190,
   "metadata": {},
   "outputs": [
    {
     "data": {
      "text/html": [
       "<div>\n",
       "<style scoped>\n",
       "    .dataframe tbody tr th:only-of-type {\n",
       "        vertical-align: middle;\n",
       "    }\n",
       "\n",
       "    .dataframe tbody tr th {\n",
       "        vertical-align: top;\n",
       "    }\n",
       "\n",
       "    .dataframe thead th {\n",
       "        text-align: right;\n",
       "    }\n",
       "</style>\n",
       "<table border=\"1\" class=\"dataframe\">\n",
       "  <thead>\n",
       "    <tr style=\"text-align: right;\">\n",
       "      <th></th>\n",
       "      <th>Country</th>\n",
       "      <th>iso_a2</th>\n",
       "      <th>iso_a3</th>\n",
       "      <th>iso_n</th>\n",
       "    </tr>\n",
       "  </thead>\n",
       "  <tbody>\n",
       "    <tr>\n",
       "      <th>28</th>\n",
       "      <td>Bosnia And Herzegovina</td>\n",
       "      <td>BA</td>\n",
       "      <td>BIH</td>\n",
       "      <td>70</td>\n",
       "    </tr>\n",
       "  </tbody>\n",
       "</table>\n",
       "</div>"
      ],
      "text/plain": [
       "                   Country iso_a2 iso_a3  iso_n\n",
       "28  Bosnia And Herzegovina     BA    BIH     70"
      ]
     },
     "execution_count": 190,
     "metadata": {},
     "output_type": "execute_result"
    }
   ],
   "source": [
    "isoDf.loc[isoDf['Country']=='Bosnia and Herzegovina', 'Country'] = 'Bosnia And Herzegovina'\n",
    "isoDf[isoDf['Country'].str.contains('Bosnia', case=False)]"
   ]
  },
  {
   "cell_type": "code",
   "execution_count": 191,
   "metadata": {},
   "outputs": [
    {
     "data": {
      "text/html": [
       "<div>\n",
       "<style scoped>\n",
       "    .dataframe tbody tr th:only-of-type {\n",
       "        vertical-align: middle;\n",
       "    }\n",
       "\n",
       "    .dataframe tbody tr th {\n",
       "        vertical-align: top;\n",
       "    }\n",
       "\n",
       "    .dataframe thead th {\n",
       "        text-align: right;\n",
       "    }\n",
       "</style>\n",
       "<table border=\"1\" class=\"dataframe\">\n",
       "  <thead>\n",
       "    <tr style=\"text-align: right;\">\n",
       "      <th></th>\n",
       "      <th>Country</th>\n",
       "      <th>iso_a2</th>\n",
       "      <th>iso_a3</th>\n",
       "      <th>iso_n</th>\n",
       "    </tr>\n",
       "  </thead>\n",
       "  <tbody>\n",
       "    <tr>\n",
       "      <th>132</th>\n",
       "      <td>Macedonia (the former Yugoslav Republic of)</td>\n",
       "      <td>MK</td>\n",
       "      <td>MKD</td>\n",
       "      <td>807</td>\n",
       "    </tr>\n",
       "  </tbody>\n",
       "</table>\n",
       "</div>"
      ],
      "text/plain": [
       "                                         Country iso_a2 iso_a3  iso_n\n",
       "132  Macedonia (the former Yugoslav Republic of)     MK    MKD    807"
      ]
     },
     "execution_count": 191,
     "metadata": {},
     "output_type": "execute_result"
    }
   ],
   "source": [
    "# Macedonia\n",
    "isoDf[isoDf['Country'].str.contains('Macedonia', case=False)]"
   ]
  },
  {
   "cell_type": "code",
   "execution_count": 192,
   "metadata": {},
   "outputs": [
    {
     "data": {
      "text/html": [
       "<div>\n",
       "<style scoped>\n",
       "    .dataframe tbody tr th:only-of-type {\n",
       "        vertical-align: middle;\n",
       "    }\n",
       "\n",
       "    .dataframe tbody tr th {\n",
       "        vertical-align: top;\n",
       "    }\n",
       "\n",
       "    .dataframe thead th {\n",
       "        text-align: right;\n",
       "    }\n",
       "</style>\n",
       "<table border=\"1\" class=\"dataframe\">\n",
       "  <thead>\n",
       "    <tr style=\"text-align: right;\">\n",
       "      <th></th>\n",
       "      <th>Country</th>\n",
       "      <th>iso_a2</th>\n",
       "      <th>iso_a3</th>\n",
       "      <th>iso_n</th>\n",
       "    </tr>\n",
       "  </thead>\n",
       "  <tbody>\n",
       "    <tr>\n",
       "      <th>132</th>\n",
       "      <td>Macedonia</td>\n",
       "      <td>MK</td>\n",
       "      <td>MKD</td>\n",
       "      <td>807</td>\n",
       "    </tr>\n",
       "  </tbody>\n",
       "</table>\n",
       "</div>"
      ],
      "text/plain": [
       "       Country iso_a2 iso_a3  iso_n\n",
       "132  Macedonia     MK    MKD    807"
      ]
     },
     "execution_count": 192,
     "metadata": {},
     "output_type": "execute_result"
    }
   ],
   "source": [
    "isoDf.loc[isoDf['Country']=='Macedonia (the former Yugoslav Republic of)', 'Country'] = 'Macedonia'\n",
    "isoDf[isoDf['Country'].str.contains('Macedonia', case=False)]"
   ]
  },
  {
   "cell_type": "code",
   "execution_count": 193,
   "metadata": {},
   "outputs": [
    {
     "data": {
      "text/html": [
       "<div>\n",
       "<style scoped>\n",
       "    .dataframe tbody tr th:only-of-type {\n",
       "        vertical-align: middle;\n",
       "    }\n",
       "\n",
       "    .dataframe tbody tr th {\n",
       "        vertical-align: top;\n",
       "    }\n",
       "\n",
       "    .dataframe thead th {\n",
       "        text-align: right;\n",
       "    }\n",
       "</style>\n",
       "<table border=\"1\" class=\"dataframe\">\n",
       "  <thead>\n",
       "    <tr style=\"text-align: right;\">\n",
       "      <th></th>\n",
       "      <th>Country</th>\n",
       "      <th>iso_a2</th>\n",
       "      <th>iso_a3</th>\n",
       "      <th>iso_n</th>\n",
       "    </tr>\n",
       "  </thead>\n",
       "  <tbody>\n",
       "    <tr>\n",
       "      <th>183</th>\n",
       "      <td>Russian Federation (the)</td>\n",
       "      <td>RU</td>\n",
       "      <td>RUS</td>\n",
       "      <td>643</td>\n",
       "    </tr>\n",
       "  </tbody>\n",
       "</table>\n",
       "</div>"
      ],
      "text/plain": [
       "                      Country iso_a2 iso_a3  iso_n\n",
       "183  Russian Federation (the)     RU    RUS    643"
      ]
     },
     "execution_count": 193,
     "metadata": {},
     "output_type": "execute_result"
    }
   ],
   "source": [
    "# Russia\n",
    "isoDf[isoDf['Country'].str.contains('Russia', case=False)]"
   ]
  },
  {
   "cell_type": "code",
   "execution_count": 194,
   "metadata": {},
   "outputs": [
    {
     "data": {
      "text/html": [
       "<div>\n",
       "<style scoped>\n",
       "    .dataframe tbody tr th:only-of-type {\n",
       "        vertical-align: middle;\n",
       "    }\n",
       "\n",
       "    .dataframe tbody tr th {\n",
       "        vertical-align: top;\n",
       "    }\n",
       "\n",
       "    .dataframe thead th {\n",
       "        text-align: right;\n",
       "    }\n",
       "</style>\n",
       "<table border=\"1\" class=\"dataframe\">\n",
       "  <thead>\n",
       "    <tr style=\"text-align: right;\">\n",
       "      <th></th>\n",
       "      <th>Country</th>\n",
       "      <th>iso_a2</th>\n",
       "      <th>iso_a3</th>\n",
       "      <th>iso_n</th>\n",
       "    </tr>\n",
       "  </thead>\n",
       "  <tbody>\n",
       "    <tr>\n",
       "      <th>183</th>\n",
       "      <td>Russia</td>\n",
       "      <td>RU</td>\n",
       "      <td>RUS</td>\n",
       "      <td>643</td>\n",
       "    </tr>\n",
       "  </tbody>\n",
       "</table>\n",
       "</div>"
      ],
      "text/plain": [
       "    Country iso_a2 iso_a3  iso_n\n",
       "183  Russia     RU    RUS    643"
      ]
     },
     "execution_count": 194,
     "metadata": {},
     "output_type": "execute_result"
    }
   ],
   "source": [
    "isoDf.loc[isoDf['Country']=='Russian Federation (the)', 'Country'] = 'Russia'\n",
    "isoDf[isoDf['Country'].str.contains('Russia', case=False)]"
   ]
  },
  {
   "cell_type": "code",
   "execution_count": 195,
   "metadata": {},
   "outputs": [
    {
     "data": {
      "text/html": [
       "<div>\n",
       "<style scoped>\n",
       "    .dataframe tbody tr th:only-of-type {\n",
       "        vertical-align: middle;\n",
       "    }\n",
       "\n",
       "    .dataframe tbody tr th {\n",
       "        vertical-align: top;\n",
       "    }\n",
       "\n",
       "    .dataframe thead th {\n",
       "        text-align: right;\n",
       "    }\n",
       "</style>\n",
       "<table border=\"1\" class=\"dataframe\">\n",
       "  <thead>\n",
       "    <tr style=\"text-align: right;\">\n",
       "      <th></th>\n",
       "      <th>Country</th>\n",
       "      <th>iso_a2</th>\n",
       "      <th>iso_a3</th>\n",
       "      <th>iso_n</th>\n",
       "    </tr>\n",
       "  </thead>\n",
       "  <tbody>\n",
       "    <tr>\n",
       "      <th>175</th>\n",
       "      <td>Philippines (the)</td>\n",
       "      <td>PH</td>\n",
       "      <td>PHL</td>\n",
       "      <td>608</td>\n",
       "    </tr>\n",
       "  </tbody>\n",
       "</table>\n",
       "</div>"
      ],
      "text/plain": [
       "               Country iso_a2 iso_a3  iso_n\n",
       "175  Philippines (the)     PH    PHL    608"
      ]
     },
     "execution_count": 195,
     "metadata": {},
     "output_type": "execute_result"
    }
   ],
   "source": [
    "# Philippines\n",
    "isoDf[isoDf['Country'].str.contains('Philippines', case=False)]"
   ]
  },
  {
   "cell_type": "code",
   "execution_count": 196,
   "metadata": {},
   "outputs": [
    {
     "data": {
      "text/html": [
       "<div>\n",
       "<style scoped>\n",
       "    .dataframe tbody tr th:only-of-type {\n",
       "        vertical-align: middle;\n",
       "    }\n",
       "\n",
       "    .dataframe tbody tr th {\n",
       "        vertical-align: top;\n",
       "    }\n",
       "\n",
       "    .dataframe thead th {\n",
       "        text-align: right;\n",
       "    }\n",
       "</style>\n",
       "<table border=\"1\" class=\"dataframe\">\n",
       "  <thead>\n",
       "    <tr style=\"text-align: right;\">\n",
       "      <th></th>\n",
       "      <th>Country</th>\n",
       "      <th>iso_a2</th>\n",
       "      <th>iso_a3</th>\n",
       "      <th>iso_n</th>\n",
       "    </tr>\n",
       "  </thead>\n",
       "  <tbody>\n",
       "    <tr>\n",
       "      <th>175</th>\n",
       "      <td>Philippines</td>\n",
       "      <td>PH</td>\n",
       "      <td>PHL</td>\n",
       "      <td>608</td>\n",
       "    </tr>\n",
       "  </tbody>\n",
       "</table>\n",
       "</div>"
      ],
      "text/plain": [
       "         Country iso_a2 iso_a3  iso_n\n",
       "175  Philippines     PH    PHL    608"
      ]
     },
     "execution_count": 196,
     "metadata": {},
     "output_type": "execute_result"
    }
   ],
   "source": [
    "isoDf.loc[isoDf['Country']=='Philippines (the)', 'Country'] = 'Philippines'\n",
    "isoDf[isoDf['Country'].str.contains('Philippines', case=False)]"
   ]
  },
  {
   "cell_type": "code",
   "execution_count": 197,
   "metadata": {},
   "outputs": [
    {
     "data": {
      "text/html": [
       "<div>\n",
       "<style scoped>\n",
       "    .dataframe tbody tr th:only-of-type {\n",
       "        vertical-align: middle;\n",
       "    }\n",
       "\n",
       "    .dataframe tbody tr th {\n",
       "        vertical-align: top;\n",
       "    }\n",
       "\n",
       "    .dataframe thead th {\n",
       "        text-align: right;\n",
       "    }\n",
       "</style>\n",
       "<table border=\"1\" class=\"dataframe\">\n",
       "  <thead>\n",
       "    <tr style=\"text-align: right;\">\n",
       "      <th></th>\n",
       "      <th>Country</th>\n",
       "      <th>iso_a2</th>\n",
       "      <th>iso_a3</th>\n",
       "      <th>iso_n</th>\n",
       "    </tr>\n",
       "  </thead>\n",
       "  <tbody>\n",
       "    <tr>\n",
       "      <th>241</th>\n",
       "      <td>Viet Nam</td>\n",
       "      <td>VN</td>\n",
       "      <td>VNM</td>\n",
       "      <td>704</td>\n",
       "    </tr>\n",
       "  </tbody>\n",
       "</table>\n",
       "</div>"
      ],
      "text/plain": [
       "      Country iso_a2 iso_a3  iso_n\n",
       "241  Viet Nam     VN    VNM    704"
      ]
     },
     "execution_count": 197,
     "metadata": {},
     "output_type": "execute_result"
    }
   ],
   "source": [
    "# Vietnam\n",
    "isoDf[isoDf['Country'].str.contains('Viet', case=False)]"
   ]
  },
  {
   "cell_type": "code",
   "execution_count": 198,
   "metadata": {},
   "outputs": [
    {
     "data": {
      "text/html": [
       "<div>\n",
       "<style scoped>\n",
       "    .dataframe tbody tr th:only-of-type {\n",
       "        vertical-align: middle;\n",
       "    }\n",
       "\n",
       "    .dataframe tbody tr th {\n",
       "        vertical-align: top;\n",
       "    }\n",
       "\n",
       "    .dataframe thead th {\n",
       "        text-align: right;\n",
       "    }\n",
       "</style>\n",
       "<table border=\"1\" class=\"dataframe\">\n",
       "  <thead>\n",
       "    <tr style=\"text-align: right;\">\n",
       "      <th></th>\n",
       "      <th>Country</th>\n",
       "      <th>iso_a2</th>\n",
       "      <th>iso_a3</th>\n",
       "      <th>iso_n</th>\n",
       "    </tr>\n",
       "  </thead>\n",
       "  <tbody>\n",
       "    <tr>\n",
       "      <th>241</th>\n",
       "      <td>Vietnam</td>\n",
       "      <td>VN</td>\n",
       "      <td>VNM</td>\n",
       "      <td>704</td>\n",
       "    </tr>\n",
       "  </tbody>\n",
       "</table>\n",
       "</div>"
      ],
      "text/plain": [
       "     Country iso_a2 iso_a3  iso_n\n",
       "241  Vietnam     VN    VNM    704"
      ]
     },
     "execution_count": 198,
     "metadata": {},
     "output_type": "execute_result"
    }
   ],
   "source": [
    "isoDf.loc[isoDf['Country']=='Viet Nam', 'Country'] = 'Vietnam'\n",
    "isoDf[isoDf['Country'].str.contains('Vietnam', case=False)]"
   ]
  },
  {
   "cell_type": "code",
   "execution_count": 199,
   "metadata": {},
   "outputs": [
    {
     "data": {
      "text/html": [
       "<div>\n",
       "<style scoped>\n",
       "    .dataframe tbody tr th:only-of-type {\n",
       "        vertical-align: middle;\n",
       "    }\n",
       "\n",
       "    .dataframe tbody tr th {\n",
       "        vertical-align: top;\n",
       "    }\n",
       "\n",
       "    .dataframe thead th {\n",
       "        text-align: right;\n",
       "    }\n",
       "</style>\n",
       "<table border=\"1\" class=\"dataframe\">\n",
       "  <thead>\n",
       "    <tr style=\"text-align: right;\">\n",
       "      <th></th>\n",
       "      <th>Country</th>\n",
       "      <th>iso_a2</th>\n",
       "      <th>iso_a3</th>\n",
       "      <th>iso_n</th>\n",
       "    </tr>\n",
       "  </thead>\n",
       "  <tbody>\n",
       "    <tr>\n",
       "      <th>105</th>\n",
       "      <td>Iran (Islamic Republic of)</td>\n",
       "      <td>IR</td>\n",
       "      <td>IRN</td>\n",
       "      <td>364</td>\n",
       "    </tr>\n",
       "  </tbody>\n",
       "</table>\n",
       "</div>"
      ],
      "text/plain": [
       "                        Country iso_a2 iso_a3  iso_n\n",
       "105  Iran (Islamic Republic of)     IR    IRN    364"
      ]
     },
     "execution_count": 199,
     "metadata": {},
     "output_type": "execute_result"
    }
   ],
   "source": [
    "# Iran\n",
    "isoDf[isoDf['Country'].str.contains('Iran', case=False)]"
   ]
  },
  {
   "cell_type": "code",
   "execution_count": 200,
   "metadata": {},
   "outputs": [
    {
     "data": {
      "text/html": [
       "<div>\n",
       "<style scoped>\n",
       "    .dataframe tbody tr th:only-of-type {\n",
       "        vertical-align: middle;\n",
       "    }\n",
       "\n",
       "    .dataframe tbody tr th {\n",
       "        vertical-align: top;\n",
       "    }\n",
       "\n",
       "    .dataframe thead th {\n",
       "        text-align: right;\n",
       "    }\n",
       "</style>\n",
       "<table border=\"1\" class=\"dataframe\">\n",
       "  <thead>\n",
       "    <tr style=\"text-align: right;\">\n",
       "      <th></th>\n",
       "      <th>Country</th>\n",
       "      <th>iso_a2</th>\n",
       "      <th>iso_a3</th>\n",
       "      <th>iso_n</th>\n",
       "    </tr>\n",
       "  </thead>\n",
       "  <tbody>\n",
       "    <tr>\n",
       "      <th>105</th>\n",
       "      <td>Iran</td>\n",
       "      <td>IR</td>\n",
       "      <td>IRN</td>\n",
       "      <td>364</td>\n",
       "    </tr>\n",
       "  </tbody>\n",
       "</table>\n",
       "</div>"
      ],
      "text/plain": [
       "    Country iso_a2 iso_a3  iso_n\n",
       "105    Iran     IR    IRN    364"
      ]
     },
     "execution_count": 200,
     "metadata": {},
     "output_type": "execute_result"
    }
   ],
   "source": [
    "isoDf.loc[isoDf['Country']=='Iran (Islamic Republic of)', 'Country'] = 'Iran'\n",
    "isoDf[isoDf['Country'].str.contains('Iran', case=False)]"
   ]
  },
  {
   "cell_type": "code",
   "execution_count": 201,
   "metadata": {},
   "outputs": [
    {
     "data": {
      "text/html": [
       "<div>\n",
       "<style scoped>\n",
       "    .dataframe tbody tr th:only-of-type {\n",
       "        vertical-align: middle;\n",
       "    }\n",
       "\n",
       "    .dataframe tbody tr th {\n",
       "        vertical-align: top;\n",
       "    }\n",
       "\n",
       "    .dataframe thead th {\n",
       "        text-align: right;\n",
       "    }\n",
       "</style>\n",
       "<table border=\"1\" class=\"dataframe\">\n",
       "  <thead>\n",
       "    <tr style=\"text-align: right;\">\n",
       "      <th></th>\n",
       "      <th>Country</th>\n",
       "      <th>iso_a2</th>\n",
       "      <th>iso_a3</th>\n",
       "      <th>iso_n</th>\n",
       "    </tr>\n",
       "  </thead>\n",
       "  <tbody>\n",
       "    <tr>\n",
       "      <th>240</th>\n",
       "      <td>Venezuela (Bolivarian Republic of)</td>\n",
       "      <td>VE</td>\n",
       "      <td>VEN</td>\n",
       "      <td>862</td>\n",
       "    </tr>\n",
       "  </tbody>\n",
       "</table>\n",
       "</div>"
      ],
      "text/plain": [
       "                                Country iso_a2 iso_a3  iso_n\n",
       "240  Venezuela (Bolivarian Republic of)     VE    VEN    862"
      ]
     },
     "execution_count": 201,
     "metadata": {},
     "output_type": "execute_result"
    }
   ],
   "source": [
    "# Venezula\n",
    "isoDf[isoDf['Country'].str.contains('Vene', case=False)]"
   ]
  },
  {
   "cell_type": "code",
   "execution_count": 202,
   "metadata": {},
   "outputs": [
    {
     "data": {
      "text/html": [
       "<div>\n",
       "<style scoped>\n",
       "    .dataframe tbody tr th:only-of-type {\n",
       "        vertical-align: middle;\n",
       "    }\n",
       "\n",
       "    .dataframe tbody tr th {\n",
       "        vertical-align: top;\n",
       "    }\n",
       "\n",
       "    .dataframe thead th {\n",
       "        text-align: right;\n",
       "    }\n",
       "</style>\n",
       "<table border=\"1\" class=\"dataframe\">\n",
       "  <thead>\n",
       "    <tr style=\"text-align: right;\">\n",
       "      <th></th>\n",
       "      <th>Country</th>\n",
       "      <th>iso_a2</th>\n",
       "      <th>iso_a3</th>\n",
       "      <th>iso_n</th>\n",
       "    </tr>\n",
       "  </thead>\n",
       "  <tbody>\n",
       "    <tr>\n",
       "      <th>240</th>\n",
       "      <td>Venezuela</td>\n",
       "      <td>VE</td>\n",
       "      <td>VEN</td>\n",
       "      <td>862</td>\n",
       "    </tr>\n",
       "  </tbody>\n",
       "</table>\n",
       "</div>"
      ],
      "text/plain": [
       "       Country iso_a2 iso_a3  iso_n\n",
       "240  Venezuela     VE    VEN    862"
      ]
     },
     "execution_count": 202,
     "metadata": {},
     "output_type": "execute_result"
    }
   ],
   "source": [
    "isoDf.loc[isoDf['Country']=='Venezuela (Bolivarian Republic of)', 'Country'] = 'Venezuela'\n",
    "isoDf[isoDf['Country'].str.contains('Venezuela', case=False)]"
   ]
  },
  {
   "cell_type": "code",
   "execution_count": 203,
   "metadata": {},
   "outputs": [
    {
     "data": {
      "text/html": [
       "<div>\n",
       "<style scoped>\n",
       "    .dataframe tbody tr th:only-of-type {\n",
       "        vertical-align: middle;\n",
       "    }\n",
       "\n",
       "    .dataframe tbody tr th {\n",
       "        vertical-align: top;\n",
       "    }\n",
       "\n",
       "    .dataframe thead th {\n",
       "        text-align: right;\n",
       "    }\n",
       "</style>\n",
       "<table border=\"1\" class=\"dataframe\">\n",
       "  <thead>\n",
       "    <tr style=\"text-align: right;\">\n",
       "      <th></th>\n",
       "      <th>Country</th>\n",
       "      <th>QII_2012</th>\n",
       "      <th>QII_2013</th>\n",
       "      <th>QII_2014</th>\n",
       "      <th>QII_2015</th>\n",
       "      <th>QII_2016</th>\n",
       "      <th>QII_2017</th>\n",
       "      <th>QII_2019</th>\n",
       "      <th>QII_2018</th>\n",
       "      <th>iso_a2</th>\n",
       "      <th>iso_a3</th>\n",
       "      <th>iso_n</th>\n",
       "    </tr>\n",
       "  </thead>\n",
       "  <tbody>\n",
       "    <tr>\n",
       "      <th>0</th>\n",
       "      <td>Denmark</td>\n",
       "      <td>198.57</td>\n",
       "      <td>198.57</td>\n",
       "      <td>198.57</td>\n",
       "      <td>198.57</td>\n",
       "      <td>198.57</td>\n",
       "      <td>198.57</td>\n",
       "      <td>198.57</td>\n",
       "      <td>198.57</td>\n",
       "      <td>DK</td>\n",
       "      <td>DNK</td>\n",
       "      <td>208</td>\n",
       "    </tr>\n",
       "    <tr>\n",
       "      <th>1</th>\n",
       "      <td>Switzerland</td>\n",
       "      <td>195.93</td>\n",
       "      <td>195.93</td>\n",
       "      <td>195.93</td>\n",
       "      <td>195.93</td>\n",
       "      <td>195.93</td>\n",
       "      <td>195.93</td>\n",
       "      <td>195.93</td>\n",
       "      <td>195.93</td>\n",
       "      <td>CH</td>\n",
       "      <td>CHE</td>\n",
       "      <td>756</td>\n",
       "    </tr>\n",
       "    <tr>\n",
       "      <th>2</th>\n",
       "      <td>Finland</td>\n",
       "      <td>194.01</td>\n",
       "      <td>194.01</td>\n",
       "      <td>194.01</td>\n",
       "      <td>194.01</td>\n",
       "      <td>194.01</td>\n",
       "      <td>194.01</td>\n",
       "      <td>194.01</td>\n",
       "      <td>194.01</td>\n",
       "      <td>FI</td>\n",
       "      <td>FIN</td>\n",
       "      <td>246</td>\n",
       "    </tr>\n",
       "    <tr>\n",
       "      <th>3</th>\n",
       "      <td>Australia</td>\n",
       "      <td>191.13</td>\n",
       "      <td>191.13</td>\n",
       "      <td>191.13</td>\n",
       "      <td>191.13</td>\n",
       "      <td>191.13</td>\n",
       "      <td>191.13</td>\n",
       "      <td>191.13</td>\n",
       "      <td>191.13</td>\n",
       "      <td>AU</td>\n",
       "      <td>AUS</td>\n",
       "      <td>36</td>\n",
       "    </tr>\n",
       "    <tr>\n",
       "      <th>4</th>\n",
       "      <td>Austria</td>\n",
       "      <td>191.05</td>\n",
       "      <td>191.05</td>\n",
       "      <td>191.05</td>\n",
       "      <td>191.05</td>\n",
       "      <td>191.05</td>\n",
       "      <td>191.05</td>\n",
       "      <td>191.05</td>\n",
       "      <td>191.05</td>\n",
       "      <td>AT</td>\n",
       "      <td>AUT</td>\n",
       "      <td>40</td>\n",
       "    </tr>\n",
       "  </tbody>\n",
       "</table>\n",
       "</div>"
      ],
      "text/plain": [
       "       Country  QII_2012  QII_2013  QII_2014  QII_2015  QII_2016  QII_2017  \\\n",
       "0      Denmark    198.57    198.57    198.57    198.57    198.57    198.57   \n",
       "1  Switzerland    195.93    195.93    195.93    195.93    195.93    195.93   \n",
       "2      Finland    194.01    194.01    194.01    194.01    194.01    194.01   \n",
       "3    Australia    191.13    191.13    191.13    191.13    191.13    191.13   \n",
       "4      Austria    191.05    191.05    191.05    191.05    191.05    191.05   \n",
       "\n",
       "   QII_2019  QII_2018 iso_a2 iso_a3  iso_n  \n",
       "0    198.57    198.57     DK    DNK    208  \n",
       "1    195.93    195.93     CH    CHE    756  \n",
       "2    194.01    194.01     FI    FIN    246  \n",
       "3    191.13    191.13     AU    AUS     36  \n",
       "4    191.05    191.05     AT    AUT     40  "
      ]
     },
     "execution_count": 203,
     "metadata": {},
     "output_type": "execute_result"
    }
   ],
   "source": [
    "# With Clean Data: Left Join Numbeo and ISO by Country\n",
    "countryDf = merge_final.merge(isoDf, on='Country', how='left')\n",
    "countryDf.head()"
   ]
  },
  {
   "cell_type": "code",
   "execution_count": 204,
   "metadata": {},
   "outputs": [
    {
     "data": {
      "text/plain": [
       "Series([], dtype: float64)"
      ]
     },
     "execution_count": 204,
     "metadata": {},
     "output_type": "execute_result"
    }
   ],
   "source": [
    "# Check for null columns\n",
    "null_columns = countryDf.columns[countryDf.isnull().any()]\n",
    "countryDf[null_columns].isnull().sum()"
   ]
  },
  {
   "cell_type": "code",
   "execution_count": 205,
   "metadata": {},
   "outputs": [
    {
     "data": {
      "text/html": [
       "<div>\n",
       "<style scoped>\n",
       "    .dataframe tbody tr th:only-of-type {\n",
       "        vertical-align: middle;\n",
       "    }\n",
       "\n",
       "    .dataframe tbody tr th {\n",
       "        vertical-align: top;\n",
       "    }\n",
       "\n",
       "    .dataframe thead th {\n",
       "        text-align: right;\n",
       "    }\n",
       "</style>\n",
       "<table border=\"1\" class=\"dataframe\">\n",
       "  <thead>\n",
       "    <tr style=\"text-align: right;\">\n",
       "      <th></th>\n",
       "      <th>Country</th>\n",
       "      <th>QII_2012</th>\n",
       "      <th>QII_2013</th>\n",
       "      <th>QII_2014</th>\n",
       "      <th>QII_2015</th>\n",
       "      <th>QII_2016</th>\n",
       "      <th>QII_2017</th>\n",
       "      <th>QII_2019</th>\n",
       "      <th>QII_2018</th>\n",
       "      <th>iso_a2</th>\n",
       "      <th>iso_a3</th>\n",
       "      <th>iso_n</th>\n",
       "    </tr>\n",
       "  </thead>\n",
       "  <tbody>\n",
       "    <tr>\n",
       "      <th>0</th>\n",
       "      <td>Denmark</td>\n",
       "      <td>198.57</td>\n",
       "      <td>198.57</td>\n",
       "      <td>198.57</td>\n",
       "      <td>198.57</td>\n",
       "      <td>198.57</td>\n",
       "      <td>198.57</td>\n",
       "      <td>198.57</td>\n",
       "      <td>198.57</td>\n",
       "      <td>DK</td>\n",
       "      <td>DNK</td>\n",
       "      <td>208</td>\n",
       "    </tr>\n",
       "    <tr>\n",
       "      <th>1</th>\n",
       "      <td>Switzerland</td>\n",
       "      <td>195.93</td>\n",
       "      <td>195.93</td>\n",
       "      <td>195.93</td>\n",
       "      <td>195.93</td>\n",
       "      <td>195.93</td>\n",
       "      <td>195.93</td>\n",
       "      <td>195.93</td>\n",
       "      <td>195.93</td>\n",
       "      <td>CH</td>\n",
       "      <td>CHE</td>\n",
       "      <td>756</td>\n",
       "    </tr>\n",
       "    <tr>\n",
       "      <th>2</th>\n",
       "      <td>Finland</td>\n",
       "      <td>194.01</td>\n",
       "      <td>194.01</td>\n",
       "      <td>194.01</td>\n",
       "      <td>194.01</td>\n",
       "      <td>194.01</td>\n",
       "      <td>194.01</td>\n",
       "      <td>194.01</td>\n",
       "      <td>194.01</td>\n",
       "      <td>FI</td>\n",
       "      <td>FIN</td>\n",
       "      <td>246</td>\n",
       "    </tr>\n",
       "    <tr>\n",
       "      <th>3</th>\n",
       "      <td>Australia</td>\n",
       "      <td>191.13</td>\n",
       "      <td>191.13</td>\n",
       "      <td>191.13</td>\n",
       "      <td>191.13</td>\n",
       "      <td>191.13</td>\n",
       "      <td>191.13</td>\n",
       "      <td>191.13</td>\n",
       "      <td>191.13</td>\n",
       "      <td>AU</td>\n",
       "      <td>AUS</td>\n",
       "      <td>36</td>\n",
       "    </tr>\n",
       "    <tr>\n",
       "      <th>4</th>\n",
       "      <td>Austria</td>\n",
       "      <td>191.05</td>\n",
       "      <td>191.05</td>\n",
       "      <td>191.05</td>\n",
       "      <td>191.05</td>\n",
       "      <td>191.05</td>\n",
       "      <td>191.05</td>\n",
       "      <td>191.05</td>\n",
       "      <td>191.05</td>\n",
       "      <td>AT</td>\n",
       "      <td>AUT</td>\n",
       "      <td>40</td>\n",
       "    </tr>\n",
       "  </tbody>\n",
       "</table>\n",
       "</div>"
      ],
      "text/plain": [
       "       Country  QII_2012  QII_2013  QII_2014  QII_2015  QII_2016  QII_2017  \\\n",
       "0      Denmark    198.57    198.57    198.57    198.57    198.57    198.57   \n",
       "1  Switzerland    195.93    195.93    195.93    195.93    195.93    195.93   \n",
       "2      Finland    194.01    194.01    194.01    194.01    194.01    194.01   \n",
       "3    Australia    191.13    191.13    191.13    191.13    191.13    191.13   \n",
       "4      Austria    191.05    191.05    191.05    191.05    191.05    191.05   \n",
       "\n",
       "   QII_2019  QII_2018 iso_a2 iso_a3  iso_n  \n",
       "0    198.57    198.57     DK    DNK    208  \n",
       "1    195.93    195.93     CH    CHE    756  \n",
       "2    194.01    194.01     FI    FIN    246  \n",
       "3    191.13    191.13     AU    AUS     36  \n",
       "4    191.05    191.05     AT    AUT     40  "
      ]
     },
     "execution_count": 205,
     "metadata": {},
     "output_type": "execute_result"
    }
   ],
   "source": [
    "# Final table 2019\n",
    "countryDf.head()"
   ]
  },
  {
   "cell_type": "code",
   "execution_count": 209,
   "metadata": {},
   "outputs": [],
   "source": [
    "# To CSV\n",
    "countryDf.to_csv('QII.csv')"
   ]
  },
  {
   "cell_type": "code",
   "execution_count": null,
   "metadata": {},
   "outputs": [],
   "source": []
  }
 ],
 "metadata": {
  "kernelspec": {
   "display_name": "Python 3",
   "language": "python",
   "name": "python3"
  },
  "language_info": {
   "codemirror_mode": {
    "name": "ipython",
    "version": 3
   },
   "file_extension": ".py",
   "mimetype": "text/x-python",
   "name": "python",
   "nbconvert_exporter": "python",
   "pygments_lexer": "ipython3",
   "version": "3.7.3"
  }
 },
 "nbformat": 4,
 "nbformat_minor": 2
}
