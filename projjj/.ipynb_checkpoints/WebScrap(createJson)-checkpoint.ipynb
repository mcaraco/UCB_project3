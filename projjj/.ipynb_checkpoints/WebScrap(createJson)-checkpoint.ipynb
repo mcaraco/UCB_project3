{
 "cells": [
  {
   "cell_type": "code",
   "execution_count": 1,
   "metadata": {},
   "outputs": [],
   "source": [
    "# Numbeo website contains country name and quality of life index from 2012-2019\n",
    "# For geojson chloropleth mapping, we need to join the Numbeo table with standard ISO country code\n",
    "# This python file will scrape Numbeo and ISO websites and merge by standard ISO country code for our geojson world map"
   ]
  },
  {
   "cell_type": "code",
   "execution_count": 2,
   "metadata": {},
   "outputs": [],
   "source": [
    "# Import dependencies\n",
    "import pandas as pd\n",
    "import numpy as np\n",
    "import json"
   ]
  },
  {
   "cell_type": "code",
   "execution_count": 3,
   "metadata": {},
   "outputs": [],
   "source": [
    "# Fix Python SSL CERTIFICATE_VERIFY_FAILED\n",
    "import os, ssl\n",
    "if (not os.environ.get('PYTHONHTTPSVERIFY', '') and\n",
    "    getattr(ssl, '_create_unverified_context', None)): \n",
    "    ssl._create_default_https_context = ssl._create_unverified_context"
   ]
  },
  {
   "cell_type": "code",
   "execution_count": 4,
   "metadata": {},
   "outputs": [
    {
     "name": "stdout",
     "output_type": "stream",
     "text": [
      "['https://www.numbeo.com/quality-of-life/rankings_by_country.jsp?title=2012', 'https://www.numbeo.com/quality-of-life/rankings_by_country.jsp?title=2013', 'https://www.numbeo.com/quality-of-life/rankings_by_country.jsp?title=2014', 'https://www.numbeo.com/quality-of-life/rankings_by_country.jsp?title=2015', 'https://www.numbeo.com/quality-of-life/rankings_by_country.jsp?title=2016', 'https://www.numbeo.com/quality-of-life/rankings_by_country.jsp?title=2017', 'https://www.numbeo.com/quality-of-life/rankings_by_country.jsp?title=2018']\n"
     ]
    }
   ],
   "source": [
    "# Numbeo has Quality of Life index from years 2012 to 2019\n",
    "# Create list of links to scrape\n",
    "# Loop to create URL links from 2012-2018\n",
    "link=[]\n",
    "for x in range(2012,2019):\n",
    "    link.append('https://www.numbeo.com/quality-of-life/rankings_by_country.jsp?title='+str(x))\n",
    "print(link)"
   ]
  },
  {
   "cell_type": "code",
   "execution_count": 5,
   "metadata": {},
   "outputs": [
    {
     "name": "stdout",
     "output_type": "stream",
     "text": [
      "['https://www.numbeo.com/quality-of-life/rankings_by_country.jsp?title=2012', 'https://www.numbeo.com/quality-of-life/rankings_by_country.jsp?title=2013', 'https://www.numbeo.com/quality-of-life/rankings_by_country.jsp?title=2014', 'https://www.numbeo.com/quality-of-life/rankings_by_country.jsp?title=2015', 'https://www.numbeo.com/quality-of-life/rankings_by_country.jsp?title=2016', 'https://www.numbeo.com/quality-of-life/rankings_by_country.jsp?title=2017', 'https://www.numbeo.com/quality-of-life/rankings_by_country.jsp?title=2018', 'https://www.numbeo.com/quality-of-life/rankings_by_country.jsp']\n"
     ]
    }
   ],
   "source": [
    "# Append year 2019 URL link\n",
    "link.append('https://www.numbeo.com/quality-of-life/rankings_by_country.jsp')\n",
    "print(link)"
   ]
  },
  {
   "cell_type": "code",
   "execution_count": 6,
   "metadata": {},
   "outputs": [
    {
     "name": "stdout",
     "output_type": "stream",
     "text": [
      "https://www.numbeo.com/quality-of-life/rankings_by_country.jsp?title=2012\n",
      "https://www.numbeo.com/quality-of-life/rankings_by_country.jsp?title=2013\n",
      "https://www.numbeo.com/quality-of-life/rankings_by_country.jsp?title=2014\n",
      "https://www.numbeo.com/quality-of-life/rankings_by_country.jsp?title=2015\n",
      "https://www.numbeo.com/quality-of-life/rankings_by_country.jsp?title=2016\n",
      "https://www.numbeo.com/quality-of-life/rankings_by_country.jsp?title=2017\n",
      "https://www.numbeo.com/quality-of-life/rankings_by_country.jsp?title=2018\n",
      "https://www.numbeo.com/quality-of-life/rankings_by_country.jsp\n"
     ]
    }
   ],
   "source": [
    "# Scrape and read as pandas dataframe\n",
    "for index,element in enumerate(link):\n",
    "    print(element)"
   ]
  },
  {
   "cell_type": "code",
   "execution_count": 7,
   "metadata": {},
   "outputs": [],
   "source": [
    "# numDf = []\n",
    "# for index,element in enumerate(link):\n",
    "#     print(index,element)\n",
    "#     numDf.append(\"numDF\"+str(index+2012))\n",
    "#     numDf[index] = pd.read_html(\"'\"+str(element)+\"'\")\n"
   ]
  },
  {
   "cell_type": "code",
   "execution_count": 8,
   "metadata": {},
   "outputs": [
    {
     "data": {
      "text/html": [
       "<div>\n",
       "<style scoped>\n",
       "    .dataframe tbody tr th:only-of-type {\n",
       "        vertical-align: middle;\n",
       "    }\n",
       "\n",
       "    .dataframe tbody tr th {\n",
       "        vertical-align: top;\n",
       "    }\n",
       "\n",
       "    .dataframe thead th {\n",
       "        text-align: right;\n",
       "    }\n",
       "</style>\n",
       "<table border=\"1\" class=\"dataframe\">\n",
       "  <thead>\n",
       "    <tr style=\"text-align: right;\">\n",
       "      <th></th>\n",
       "      <th>Rank</th>\n",
       "      <th>Country</th>\n",
       "      <th>Quality of Life Index</th>\n",
       "      <th>Purchasing Power Index</th>\n",
       "      <th>Safety Index</th>\n",
       "      <th>Health Care Index</th>\n",
       "      <th>Cost of Living Index</th>\n",
       "      <th>Property Price to Income Ratio</th>\n",
       "      <th>Traffic Commute Time Index</th>\n",
       "      <th>Pollution Index</th>\n",
       "      <th>Climate Index</th>\n",
       "    </tr>\n",
       "  </thead>\n",
       "  <tbody>\n",
       "    <tr>\n",
       "      <th>0</th>\n",
       "      <td>NaN</td>\n",
       "      <td>Denmark</td>\n",
       "      <td>198.57</td>\n",
       "      <td>114.39</td>\n",
       "      <td>75.75</td>\n",
       "      <td>79.41</td>\n",
       "      <td>81.38</td>\n",
       "      <td>6.93</td>\n",
       "      <td>28.51</td>\n",
       "      <td>22.14</td>\n",
       "      <td>81.80</td>\n",
       "    </tr>\n",
       "    <tr>\n",
       "      <th>1</th>\n",
       "      <td>NaN</td>\n",
       "      <td>Switzerland</td>\n",
       "      <td>195.93</td>\n",
       "      <td>129.70</td>\n",
       "      <td>78.50</td>\n",
       "      <td>72.68</td>\n",
       "      <td>121.16</td>\n",
       "      <td>9.63</td>\n",
       "      <td>29.05</td>\n",
       "      <td>22.03</td>\n",
       "      <td>80.05</td>\n",
       "    </tr>\n",
       "    <tr>\n",
       "      <th>2</th>\n",
       "      <td>NaN</td>\n",
       "      <td>Finland</td>\n",
       "      <td>194.01</td>\n",
       "      <td>112.30</td>\n",
       "      <td>77.20</td>\n",
       "      <td>73.49</td>\n",
       "      <td>72.82</td>\n",
       "      <td>7.98</td>\n",
       "      <td>30.41</td>\n",
       "      <td>11.93</td>\n",
       "      <td>58.56</td>\n",
       "    </tr>\n",
       "    <tr>\n",
       "      <th>3</th>\n",
       "      <td>NaN</td>\n",
       "      <td>Australia</td>\n",
       "      <td>191.13</td>\n",
       "      <td>122.85</td>\n",
       "      <td>57.24</td>\n",
       "      <td>76.38</td>\n",
       "      <td>72.08</td>\n",
       "      <td>7.60</td>\n",
       "      <td>35.29</td>\n",
       "      <td>23.97</td>\n",
       "      <td>93.75</td>\n",
       "    </tr>\n",
       "    <tr>\n",
       "      <th>4</th>\n",
       "      <td>NaN</td>\n",
       "      <td>Austria</td>\n",
       "      <td>191.05</td>\n",
       "      <td>96.70</td>\n",
       "      <td>78.63</td>\n",
       "      <td>79.19</td>\n",
       "      <td>71.79</td>\n",
       "      <td>10.14</td>\n",
       "      <td>25.15</td>\n",
       "      <td>21.97</td>\n",
       "      <td>77.74</td>\n",
       "    </tr>\n",
       "  </tbody>\n",
       "</table>\n",
       "</div>"
      ],
      "text/plain": [
       "   Rank      Country  Quality of Life Index  Purchasing Power Index  \\\n",
       "0   NaN      Denmark                 198.57                  114.39   \n",
       "1   NaN  Switzerland                 195.93                  129.70   \n",
       "2   NaN      Finland                 194.01                  112.30   \n",
       "3   NaN    Australia                 191.13                  122.85   \n",
       "4   NaN      Austria                 191.05                   96.70   \n",
       "\n",
       "   Safety Index  Health Care Index  Cost of Living Index  \\\n",
       "0         75.75              79.41                 81.38   \n",
       "1         78.50              72.68                121.16   \n",
       "2         77.20              73.49                 72.82   \n",
       "3         57.24              76.38                 72.08   \n",
       "4         78.63              79.19                 71.79   \n",
       "\n",
       "   Property Price to Income Ratio  Traffic Commute Time Index  \\\n",
       "0                            6.93                       28.51   \n",
       "1                            9.63                       29.05   \n",
       "2                            7.98                       30.41   \n",
       "3                            7.60                       35.29   \n",
       "4                           10.14                       25.15   \n",
       "\n",
       "   Pollution Index  Climate Index  \n",
       "0            22.14          81.80  \n",
       "1            22.03          80.05  \n",
       "2            11.93          58.56  \n",
       "3            23.97          93.75  \n",
       "4            21.97          77.74  "
      ]
     },
     "execution_count": 8,
     "metadata": {},
     "output_type": "execute_result"
    }
   ],
   "source": [
    "# Read in Numbeo HTML as Pandas table\n",
    "table = pd.read_html('https://www.numbeo.com/quality-of-life/rankings_by_country.jsp')\n",
    "numDf2019 = table[2]\n",
    "numDf2019.head()"
   ]
  },
  {
   "cell_type": "code",
   "execution_count": 9,
   "metadata": {},
   "outputs": [
    {
     "data": {
      "text/html": [
       "<div>\n",
       "<style scoped>\n",
       "    .dataframe tbody tr th:only-of-type {\n",
       "        vertical-align: middle;\n",
       "    }\n",
       "\n",
       "    .dataframe tbody tr th {\n",
       "        vertical-align: top;\n",
       "    }\n",
       "\n",
       "    .dataframe thead th {\n",
       "        text-align: right;\n",
       "    }\n",
       "</style>\n",
       "<table border=\"1\" class=\"dataframe\">\n",
       "  <thead>\n",
       "    <tr style=\"text-align: right;\">\n",
       "      <th></th>\n",
       "      <th>Rank</th>\n",
       "      <th>Country</th>\n",
       "      <th>Quality of Life Index</th>\n",
       "      <th>Purchasing Power Index</th>\n",
       "      <th>Safety Index</th>\n",
       "      <th>Health Care Index</th>\n",
       "      <th>Cost of Living Index</th>\n",
       "      <th>Property Price to Income Ratio</th>\n",
       "      <th>Traffic Commute Time Index</th>\n",
       "      <th>Pollution Index</th>\n",
       "      <th>Climate Index</th>\n",
       "    </tr>\n",
       "  </thead>\n",
       "  <tbody>\n",
       "    <tr>\n",
       "      <th>0</th>\n",
       "      <td>1</td>\n",
       "      <td>Denmark</td>\n",
       "      <td>198.57</td>\n",
       "      <td>114.39</td>\n",
       "      <td>75.75</td>\n",
       "      <td>79.41</td>\n",
       "      <td>81.38</td>\n",
       "      <td>6.93</td>\n",
       "      <td>28.51</td>\n",
       "      <td>22.14</td>\n",
       "      <td>81.80</td>\n",
       "    </tr>\n",
       "    <tr>\n",
       "      <th>1</th>\n",
       "      <td>2</td>\n",
       "      <td>Switzerland</td>\n",
       "      <td>195.93</td>\n",
       "      <td>129.70</td>\n",
       "      <td>78.50</td>\n",
       "      <td>72.68</td>\n",
       "      <td>121.16</td>\n",
       "      <td>9.63</td>\n",
       "      <td>29.05</td>\n",
       "      <td>22.03</td>\n",
       "      <td>80.05</td>\n",
       "    </tr>\n",
       "    <tr>\n",
       "      <th>2</th>\n",
       "      <td>3</td>\n",
       "      <td>Finland</td>\n",
       "      <td>194.01</td>\n",
       "      <td>112.30</td>\n",
       "      <td>77.20</td>\n",
       "      <td>73.49</td>\n",
       "      <td>72.82</td>\n",
       "      <td>7.98</td>\n",
       "      <td>30.41</td>\n",
       "      <td>11.93</td>\n",
       "      <td>58.56</td>\n",
       "    </tr>\n",
       "    <tr>\n",
       "      <th>3</th>\n",
       "      <td>4</td>\n",
       "      <td>Australia</td>\n",
       "      <td>191.13</td>\n",
       "      <td>122.85</td>\n",
       "      <td>57.24</td>\n",
       "      <td>76.38</td>\n",
       "      <td>72.08</td>\n",
       "      <td>7.60</td>\n",
       "      <td>35.29</td>\n",
       "      <td>23.97</td>\n",
       "      <td>93.75</td>\n",
       "    </tr>\n",
       "    <tr>\n",
       "      <th>4</th>\n",
       "      <td>5</td>\n",
       "      <td>Austria</td>\n",
       "      <td>191.05</td>\n",
       "      <td>96.70</td>\n",
       "      <td>78.63</td>\n",
       "      <td>79.19</td>\n",
       "      <td>71.79</td>\n",
       "      <td>10.14</td>\n",
       "      <td>25.15</td>\n",
       "      <td>21.97</td>\n",
       "      <td>77.74</td>\n",
       "    </tr>\n",
       "  </tbody>\n",
       "</table>\n",
       "</div>"
      ],
      "text/plain": [
       "   Rank      Country  Quality of Life Index  Purchasing Power Index  \\\n",
       "0     1      Denmark                 198.57                  114.39   \n",
       "1     2  Switzerland                 195.93                  129.70   \n",
       "2     3      Finland                 194.01                  112.30   \n",
       "3     4    Australia                 191.13                  122.85   \n",
       "4     5      Austria                 191.05                   96.70   \n",
       "\n",
       "   Safety Index  Health Care Index  Cost of Living Index  \\\n",
       "0         75.75              79.41                 81.38   \n",
       "1         78.50              72.68                121.16   \n",
       "2         77.20              73.49                 72.82   \n",
       "3         57.24              76.38                 72.08   \n",
       "4         78.63              79.19                 71.79   \n",
       "\n",
       "   Property Price to Income Ratio  Traffic Commute Time Index  \\\n",
       "0                            6.93                       28.51   \n",
       "1                            9.63                       29.05   \n",
       "2                            7.98                       30.41   \n",
       "3                            7.60                       35.29   \n",
       "4                           10.14                       25.15   \n",
       "\n",
       "   Pollution Index  Climate Index  \n",
       "0            22.14          81.80  \n",
       "1            22.03          80.05  \n",
       "2            11.93          58.56  \n",
       "3            23.97          93.75  \n",
       "4            21.97          77.74  "
      ]
     },
     "execution_count": 9,
     "metadata": {},
     "output_type": "execute_result"
    }
   ],
   "source": [
    "# populate rank starting with 1\n",
    "numDf2019['Rank'] = [x for x in range(1,len(numDf2019)+1)]\n",
    "numDf2019.head()"
   ]
  },
  {
   "cell_type": "code",
   "execution_count": 10,
   "metadata": {},
   "outputs": [
    {
     "data": {
      "text/html": [
       "<div>\n",
       "<style scoped>\n",
       "    .dataframe tbody tr th:only-of-type {\n",
       "        vertical-align: middle;\n",
       "    }\n",
       "\n",
       "    .dataframe tbody tr th {\n",
       "        vertical-align: top;\n",
       "    }\n",
       "\n",
       "    .dataframe thead th {\n",
       "        text-align: right;\n",
       "    }\n",
       "</style>\n",
       "<table border=\"1\" class=\"dataframe\">\n",
       "  <thead>\n",
       "    <tr style=\"text-align: right;\">\n",
       "      <th></th>\n",
       "      <th>Country</th>\n",
       "      <th>Alpha-2 code</th>\n",
       "      <th>Alpha-3 code</th>\n",
       "      <th>Numeric</th>\n",
       "    </tr>\n",
       "  </thead>\n",
       "  <tbody>\n",
       "    <tr>\n",
       "      <th>0</th>\n",
       "      <td>Afghanistan</td>\n",
       "      <td>AF</td>\n",
       "      <td>AFG</td>\n",
       "      <td>4</td>\n",
       "    </tr>\n",
       "    <tr>\n",
       "      <th>1</th>\n",
       "      <td>Åland Islands</td>\n",
       "      <td>AX</td>\n",
       "      <td>ALA</td>\n",
       "      <td>248</td>\n",
       "    </tr>\n",
       "    <tr>\n",
       "      <th>2</th>\n",
       "      <td>Albania</td>\n",
       "      <td>AL</td>\n",
       "      <td>ALB</td>\n",
       "      <td>8</td>\n",
       "    </tr>\n",
       "    <tr>\n",
       "      <th>3</th>\n",
       "      <td>Algeria</td>\n",
       "      <td>DZ</td>\n",
       "      <td>DZA</td>\n",
       "      <td>12</td>\n",
       "    </tr>\n",
       "    <tr>\n",
       "      <th>4</th>\n",
       "      <td>American Samoa</td>\n",
       "      <td>AS</td>\n",
       "      <td>ASM</td>\n",
       "      <td>16</td>\n",
       "    </tr>\n",
       "  </tbody>\n",
       "</table>\n",
       "</div>"
      ],
      "text/plain": [
       "          Country Alpha-2 code Alpha-3 code  Numeric\n",
       "0     Afghanistan           AF          AFG        4\n",
       "1   Åland Islands           AX          ALA      248\n",
       "2         Albania           AL          ALB        8\n",
       "3         Algeria           DZ          DZA       12\n",
       "4  American Samoa           AS          ASM       16"
      ]
     },
     "execution_count": 10,
     "metadata": {},
     "output_type": "execute_result"
    }
   ],
   "source": [
    "# Read in ISO HTML as Pandas Table\n",
    "table = pd.read_html('https://www.iban.com/country-codes')\n",
    "isoDf = table[0]\n",
    "isoDf.head()"
   ]
  },
  {
   "cell_type": "code",
   "execution_count": 11,
   "metadata": {},
   "outputs": [
    {
     "data": {
      "text/html": [
       "<div>\n",
       "<style scoped>\n",
       "    .dataframe tbody tr th:only-of-type {\n",
       "        vertical-align: middle;\n",
       "    }\n",
       "\n",
       "    .dataframe tbody tr th {\n",
       "        vertical-align: top;\n",
       "    }\n",
       "\n",
       "    .dataframe thead th {\n",
       "        text-align: right;\n",
       "    }\n",
       "</style>\n",
       "<table border=\"1\" class=\"dataframe\">\n",
       "  <thead>\n",
       "    <tr style=\"text-align: right;\">\n",
       "      <th></th>\n",
       "      <th>Rank</th>\n",
       "      <th>Country</th>\n",
       "      <th>QII</th>\n",
       "      <th>PPI</th>\n",
       "      <th>SI</th>\n",
       "      <th>HI</th>\n",
       "      <th>CI</th>\n",
       "      <th>PPIRI</th>\n",
       "      <th>TCTI</th>\n",
       "      <th>PI</th>\n",
       "      <th>CI</th>\n",
       "    </tr>\n",
       "  </thead>\n",
       "  <tbody>\n",
       "    <tr>\n",
       "      <th>0</th>\n",
       "      <td>1</td>\n",
       "      <td>Denmark</td>\n",
       "      <td>198.57</td>\n",
       "      <td>114.39</td>\n",
       "      <td>75.75</td>\n",
       "      <td>79.41</td>\n",
       "      <td>81.38</td>\n",
       "      <td>6.93</td>\n",
       "      <td>28.51</td>\n",
       "      <td>22.14</td>\n",
       "      <td>81.80</td>\n",
       "    </tr>\n",
       "    <tr>\n",
       "      <th>1</th>\n",
       "      <td>2</td>\n",
       "      <td>Switzerland</td>\n",
       "      <td>195.93</td>\n",
       "      <td>129.70</td>\n",
       "      <td>78.50</td>\n",
       "      <td>72.68</td>\n",
       "      <td>121.16</td>\n",
       "      <td>9.63</td>\n",
       "      <td>29.05</td>\n",
       "      <td>22.03</td>\n",
       "      <td>80.05</td>\n",
       "    </tr>\n",
       "    <tr>\n",
       "      <th>2</th>\n",
       "      <td>3</td>\n",
       "      <td>Finland</td>\n",
       "      <td>194.01</td>\n",
       "      <td>112.30</td>\n",
       "      <td>77.20</td>\n",
       "      <td>73.49</td>\n",
       "      <td>72.82</td>\n",
       "      <td>7.98</td>\n",
       "      <td>30.41</td>\n",
       "      <td>11.93</td>\n",
       "      <td>58.56</td>\n",
       "    </tr>\n",
       "    <tr>\n",
       "      <th>3</th>\n",
       "      <td>4</td>\n",
       "      <td>Australia</td>\n",
       "      <td>191.13</td>\n",
       "      <td>122.85</td>\n",
       "      <td>57.24</td>\n",
       "      <td>76.38</td>\n",
       "      <td>72.08</td>\n",
       "      <td>7.60</td>\n",
       "      <td>35.29</td>\n",
       "      <td>23.97</td>\n",
       "      <td>93.75</td>\n",
       "    </tr>\n",
       "    <tr>\n",
       "      <th>4</th>\n",
       "      <td>5</td>\n",
       "      <td>Austria</td>\n",
       "      <td>191.05</td>\n",
       "      <td>96.70</td>\n",
       "      <td>78.63</td>\n",
       "      <td>79.19</td>\n",
       "      <td>71.79</td>\n",
       "      <td>10.14</td>\n",
       "      <td>25.15</td>\n",
       "      <td>21.97</td>\n",
       "      <td>77.74</td>\n",
       "    </tr>\n",
       "  </tbody>\n",
       "</table>\n",
       "</div>"
      ],
      "text/plain": [
       "   Rank      Country     QII     PPI     SI     HI      CI  PPIRI   TCTI  \\\n",
       "0     1      Denmark  198.57  114.39  75.75  79.41   81.38   6.93  28.51   \n",
       "1     2  Switzerland  195.93  129.70  78.50  72.68  121.16   9.63  29.05   \n",
       "2     3      Finland  194.01  112.30  77.20  73.49   72.82   7.98  30.41   \n",
       "3     4    Australia  191.13  122.85  57.24  76.38   72.08   7.60  35.29   \n",
       "4     5      Austria  191.05   96.70  78.63  79.19   71.79  10.14  25.15   \n",
       "\n",
       "      PI     CI  \n",
       "0  22.14  81.80  \n",
       "1  22.03  80.05  \n",
       "2  11.93  58.56  \n",
       "3  23.97  93.75  \n",
       "4  21.97  77.74  "
      ]
     },
     "execution_count": 11,
     "metadata": {},
     "output_type": "execute_result"
    }
   ],
   "source": [
    "# Rename Numbeo columns\n",
    "numDf2019 = numDf2019.rename(columns={\n",
    "    'Quality of Life Index':'QII',\n",
    "    'Purchasing Power Index':'PPI',\n",
    "    'Safety Index':'SI',\n",
    "    'Health Care Index':'HI',\n",
    "    'Cost of Living Index':'CI',\n",
    "    'Property Price to Income Ratio':'PPIRI',\n",
    "    'Traffic Commute Time Index':'TCTI',\n",
    "    'Pollution Index':'PI',\n",
    "    'Climate Index':'CI'\n",
    "})\n",
    "numDf2019.head()"
   ]
  },
  {
   "cell_type": "code",
   "execution_count": 12,
   "metadata": {},
   "outputs": [
    {
     "data": {
      "text/html": [
       "<div>\n",
       "<style scoped>\n",
       "    .dataframe tbody tr th:only-of-type {\n",
       "        vertical-align: middle;\n",
       "    }\n",
       "\n",
       "    .dataframe tbody tr th {\n",
       "        vertical-align: top;\n",
       "    }\n",
       "\n",
       "    .dataframe thead th {\n",
       "        text-align: right;\n",
       "    }\n",
       "</style>\n",
       "<table border=\"1\" class=\"dataframe\">\n",
       "  <thead>\n",
       "    <tr style=\"text-align: right;\">\n",
       "      <th></th>\n",
       "      <th>Country</th>\n",
       "      <th>iso_a2</th>\n",
       "      <th>iso_a3</th>\n",
       "      <th>iso_n</th>\n",
       "    </tr>\n",
       "  </thead>\n",
       "  <tbody>\n",
       "    <tr>\n",
       "      <th>0</th>\n",
       "      <td>Afghanistan</td>\n",
       "      <td>AF</td>\n",
       "      <td>AFG</td>\n",
       "      <td>4</td>\n",
       "    </tr>\n",
       "    <tr>\n",
       "      <th>1</th>\n",
       "      <td>Åland Islands</td>\n",
       "      <td>AX</td>\n",
       "      <td>ALA</td>\n",
       "      <td>248</td>\n",
       "    </tr>\n",
       "    <tr>\n",
       "      <th>2</th>\n",
       "      <td>Albania</td>\n",
       "      <td>AL</td>\n",
       "      <td>ALB</td>\n",
       "      <td>8</td>\n",
       "    </tr>\n",
       "    <tr>\n",
       "      <th>3</th>\n",
       "      <td>Algeria</td>\n",
       "      <td>DZ</td>\n",
       "      <td>DZA</td>\n",
       "      <td>12</td>\n",
       "    </tr>\n",
       "    <tr>\n",
       "      <th>4</th>\n",
       "      <td>American Samoa</td>\n",
       "      <td>AS</td>\n",
       "      <td>ASM</td>\n",
       "      <td>16</td>\n",
       "    </tr>\n",
       "  </tbody>\n",
       "</table>\n",
       "</div>"
      ],
      "text/plain": [
       "          Country iso_a2 iso_a3  iso_n\n",
       "0     Afghanistan     AF    AFG      4\n",
       "1   Åland Islands     AX    ALA    248\n",
       "2         Albania     AL    ALB      8\n",
       "3         Algeria     DZ    DZA     12\n",
       "4  American Samoa     AS    ASM     16"
      ]
     },
     "execution_count": 12,
     "metadata": {},
     "output_type": "execute_result"
    }
   ],
   "source": [
    "# Rename ISO columns\n",
    "isoDf = isoDf.rename(columns={\n",
    "    'Alpha-2 code':'iso_a2',\n",
    "    'Alpha-3 code':'iso_a3',\n",
    "    'Numeric':'iso_n'\n",
    "})\n",
    "isoDf.head()"
   ]
  },
  {
   "cell_type": "code",
   "execution_count": 13,
   "metadata": {},
   "outputs": [
    {
     "data": {
      "text/html": [
       "<div>\n",
       "<style scoped>\n",
       "    .dataframe tbody tr th:only-of-type {\n",
       "        vertical-align: middle;\n",
       "    }\n",
       "\n",
       "    .dataframe tbody tr th {\n",
       "        vertical-align: top;\n",
       "    }\n",
       "\n",
       "    .dataframe thead th {\n",
       "        text-align: right;\n",
       "    }\n",
       "</style>\n",
       "<table border=\"1\" class=\"dataframe\">\n",
       "  <thead>\n",
       "    <tr style=\"text-align: right;\">\n",
       "      <th></th>\n",
       "      <th>Rank</th>\n",
       "      <th>Country</th>\n",
       "      <th>QII</th>\n",
       "      <th>PPI</th>\n",
       "      <th>SI</th>\n",
       "      <th>HI</th>\n",
       "      <th>CI</th>\n",
       "      <th>PPIRI</th>\n",
       "      <th>TCTI</th>\n",
       "      <th>PI</th>\n",
       "      <th>CI</th>\n",
       "      <th>iso_a2</th>\n",
       "      <th>iso_a3</th>\n",
       "      <th>iso_n</th>\n",
       "    </tr>\n",
       "  </thead>\n",
       "  <tbody>\n",
       "    <tr>\n",
       "      <th>0</th>\n",
       "      <td>1</td>\n",
       "      <td>Denmark</td>\n",
       "      <td>198.57</td>\n",
       "      <td>114.39</td>\n",
       "      <td>75.75</td>\n",
       "      <td>79.41</td>\n",
       "      <td>81.38</td>\n",
       "      <td>6.93</td>\n",
       "      <td>28.51</td>\n",
       "      <td>22.14</td>\n",
       "      <td>81.80</td>\n",
       "      <td>DK</td>\n",
       "      <td>DNK</td>\n",
       "      <td>208.0</td>\n",
       "    </tr>\n",
       "    <tr>\n",
       "      <th>1</th>\n",
       "      <td>2</td>\n",
       "      <td>Switzerland</td>\n",
       "      <td>195.93</td>\n",
       "      <td>129.70</td>\n",
       "      <td>78.50</td>\n",
       "      <td>72.68</td>\n",
       "      <td>121.16</td>\n",
       "      <td>9.63</td>\n",
       "      <td>29.05</td>\n",
       "      <td>22.03</td>\n",
       "      <td>80.05</td>\n",
       "      <td>CH</td>\n",
       "      <td>CHE</td>\n",
       "      <td>756.0</td>\n",
       "    </tr>\n",
       "    <tr>\n",
       "      <th>2</th>\n",
       "      <td>3</td>\n",
       "      <td>Finland</td>\n",
       "      <td>194.01</td>\n",
       "      <td>112.30</td>\n",
       "      <td>77.20</td>\n",
       "      <td>73.49</td>\n",
       "      <td>72.82</td>\n",
       "      <td>7.98</td>\n",
       "      <td>30.41</td>\n",
       "      <td>11.93</td>\n",
       "      <td>58.56</td>\n",
       "      <td>FI</td>\n",
       "      <td>FIN</td>\n",
       "      <td>246.0</td>\n",
       "    </tr>\n",
       "    <tr>\n",
       "      <th>3</th>\n",
       "      <td>4</td>\n",
       "      <td>Australia</td>\n",
       "      <td>191.13</td>\n",
       "      <td>122.85</td>\n",
       "      <td>57.24</td>\n",
       "      <td>76.38</td>\n",
       "      <td>72.08</td>\n",
       "      <td>7.60</td>\n",
       "      <td>35.29</td>\n",
       "      <td>23.97</td>\n",
       "      <td>93.75</td>\n",
       "      <td>AU</td>\n",
       "      <td>AUS</td>\n",
       "      <td>36.0</td>\n",
       "    </tr>\n",
       "    <tr>\n",
       "      <th>4</th>\n",
       "      <td>5</td>\n",
       "      <td>Austria</td>\n",
       "      <td>191.05</td>\n",
       "      <td>96.70</td>\n",
       "      <td>78.63</td>\n",
       "      <td>79.19</td>\n",
       "      <td>71.79</td>\n",
       "      <td>10.14</td>\n",
       "      <td>25.15</td>\n",
       "      <td>21.97</td>\n",
       "      <td>77.74</td>\n",
       "      <td>AT</td>\n",
       "      <td>AUT</td>\n",
       "      <td>40.0</td>\n",
       "    </tr>\n",
       "  </tbody>\n",
       "</table>\n",
       "</div>"
      ],
      "text/plain": [
       "   Rank      Country     QII     PPI     SI     HI      CI  PPIRI   TCTI  \\\n",
       "0     1      Denmark  198.57  114.39  75.75  79.41   81.38   6.93  28.51   \n",
       "1     2  Switzerland  195.93  129.70  78.50  72.68  121.16   9.63  29.05   \n",
       "2     3      Finland  194.01  112.30  77.20  73.49   72.82   7.98  30.41   \n",
       "3     4    Australia  191.13  122.85  57.24  76.38   72.08   7.60  35.29   \n",
       "4     5      Austria  191.05   96.70  78.63  79.19   71.79  10.14  25.15   \n",
       "\n",
       "      PI     CI iso_a2 iso_a3  iso_n  \n",
       "0  22.14  81.80     DK    DNK  208.0  \n",
       "1  22.03  80.05     CH    CHE  756.0  \n",
       "2  11.93  58.56     FI    FIN  246.0  \n",
       "3  23.97  93.75     AU    AUS   36.0  \n",
       "4  21.97  77.74     AT    AUT   40.0  "
      ]
     },
     "execution_count": 13,
     "metadata": {},
     "output_type": "execute_result"
    }
   ],
   "source": [
    "# Left Join Numbeo and ISO by Country\n",
    "countryDf = numDf2019.merge(isoDf, on='Country', how='left')\n",
    "countryDf.head()"
   ]
  },
  {
   "cell_type": "code",
   "execution_count": 14,
   "metadata": {},
   "outputs": [
    {
     "data": {
      "text/plain": [
       "iso_a2    13\n",
       "iso_a3    13\n",
       "iso_n     13\n",
       "dtype: int64"
      ]
     },
     "execution_count": 14,
     "metadata": {},
     "output_type": "execute_result"
    }
   ],
   "source": [
    "# Check for null columns\n",
    "null_columns = countryDf.columns[countryDf.isnull().any()]\n",
    "countryDf[null_columns].isnull().sum()"
   ]
  },
  {
   "cell_type": "code",
   "execution_count": 15,
   "metadata": {},
   "outputs": [
    {
     "data": {
      "text/plain": [
       "5                Netherlands\n",
       "12             United States\n",
       "16            United Kingdom\n",
       "19      United Arab Emirates\n",
       "24            Czech Republic\n",
       "32               South Korea\n",
       "41                    Taiwan\n",
       "44    Bosnia And Herzegovina\n",
       "55                 Macedonia\n",
       "58                    Russia\n",
       "66               Philippines\n",
       "67                   Vietnam\n",
       "69                      Iran\n",
       "Name: Country, dtype: object"
      ]
     },
     "execution_count": 15,
     "metadata": {},
     "output_type": "execute_result"
    }
   ],
   "source": [
    "# Find 13 countries that did not match in the join\n",
    "countryDf[countryDf.iso_a2.isnull()].Country"
   ]
  },
  {
   "cell_type": "code",
   "execution_count": 16,
   "metadata": {},
   "outputs": [
    {
     "data": {
      "text/html": [
       "<div>\n",
       "<style scoped>\n",
       "    .dataframe tbody tr th:only-of-type {\n",
       "        vertical-align: middle;\n",
       "    }\n",
       "\n",
       "    .dataframe tbody tr th {\n",
       "        vertical-align: top;\n",
       "    }\n",
       "\n",
       "    .dataframe thead th {\n",
       "        text-align: right;\n",
       "    }\n",
       "</style>\n",
       "<table border=\"1\" class=\"dataframe\">\n",
       "  <thead>\n",
       "    <tr style=\"text-align: right;\">\n",
       "      <th></th>\n",
       "      <th>Country</th>\n",
       "      <th>iso_a2</th>\n",
       "      <th>iso_a3</th>\n",
       "      <th>iso_n</th>\n",
       "    </tr>\n",
       "  </thead>\n",
       "  <tbody>\n",
       "    <tr>\n",
       "      <th>157</th>\n",
       "      <td>Netherlands (the)</td>\n",
       "      <td>NL</td>\n",
       "      <td>NLD</td>\n",
       "      <td>528</td>\n",
       "    </tr>\n",
       "  </tbody>\n",
       "</table>\n",
       "</div>"
      ],
      "text/plain": [
       "               Country iso_a2 iso_a3  iso_n\n",
       "157  Netherlands (the)     NL    NLD    528"
      ]
     },
     "execution_count": 16,
     "metadata": {},
     "output_type": "execute_result"
    }
   ],
   "source": [
    "# Clean each country one by one\n",
    "# Match as Numbeo country\n",
    "\n",
    "# Netherlands\n",
    "isoDf[isoDf['Country'].str.contains('Neth', case=False)]"
   ]
  },
  {
   "cell_type": "code",
   "execution_count": 17,
   "metadata": {},
   "outputs": [
    {
     "data": {
      "text/html": [
       "<div>\n",
       "<style scoped>\n",
       "    .dataframe tbody tr th:only-of-type {\n",
       "        vertical-align: middle;\n",
       "    }\n",
       "\n",
       "    .dataframe tbody tr th {\n",
       "        vertical-align: top;\n",
       "    }\n",
       "\n",
       "    .dataframe thead th {\n",
       "        text-align: right;\n",
       "    }\n",
       "</style>\n",
       "<table border=\"1\" class=\"dataframe\">\n",
       "  <thead>\n",
       "    <tr style=\"text-align: right;\">\n",
       "      <th></th>\n",
       "      <th>Country</th>\n",
       "      <th>iso_a2</th>\n",
       "      <th>iso_a3</th>\n",
       "      <th>iso_n</th>\n",
       "    </tr>\n",
       "  </thead>\n",
       "  <tbody>\n",
       "    <tr>\n",
       "      <th>157</th>\n",
       "      <td>Netherlands</td>\n",
       "      <td>NL</td>\n",
       "      <td>NLD</td>\n",
       "      <td>528</td>\n",
       "    </tr>\n",
       "  </tbody>\n",
       "</table>\n",
       "</div>"
      ],
      "text/plain": [
       "         Country iso_a2 iso_a3  iso_n\n",
       "157  Netherlands     NL    NLD    528"
      ]
     },
     "execution_count": 17,
     "metadata": {},
     "output_type": "execute_result"
    }
   ],
   "source": [
    "isoDf.loc[isoDf['Country'].str.contains('Neth', case=False), 'Country'] = 'Netherlands'\n",
    "isoDf[isoDf['Country'].str.contains('Neth', case=False)]"
   ]
  },
  {
   "cell_type": "code",
   "execution_count": 18,
   "metadata": {},
   "outputs": [
    {
     "data": {
      "text/html": [
       "<div>\n",
       "<style scoped>\n",
       "    .dataframe tbody tr th:only-of-type {\n",
       "        vertical-align: middle;\n",
       "    }\n",
       "\n",
       "    .dataframe tbody tr th {\n",
       "        vertical-align: top;\n",
       "    }\n",
       "\n",
       "    .dataframe thead th {\n",
       "        text-align: right;\n",
       "    }\n",
       "</style>\n",
       "<table border=\"1\" class=\"dataframe\">\n",
       "  <thead>\n",
       "    <tr style=\"text-align: right;\">\n",
       "      <th></th>\n",
       "      <th>Country</th>\n",
       "      <th>iso_a2</th>\n",
       "      <th>iso_a3</th>\n",
       "      <th>iso_n</th>\n",
       "    </tr>\n",
       "  </thead>\n",
       "  <tbody>\n",
       "    <tr>\n",
       "      <th>219</th>\n",
       "      <td>Tanzania, United Republic of</td>\n",
       "      <td>TZ</td>\n",
       "      <td>TZA</td>\n",
       "      <td>834</td>\n",
       "    </tr>\n",
       "    <tr>\n",
       "      <th>233</th>\n",
       "      <td>United Arab Emirates (the)</td>\n",
       "      <td>AE</td>\n",
       "      <td>ARE</td>\n",
       "      <td>784</td>\n",
       "    </tr>\n",
       "    <tr>\n",
       "      <th>234</th>\n",
       "      <td>United Kingdom of Great Britain and Northern I...</td>\n",
       "      <td>GB</td>\n",
       "      <td>GBR</td>\n",
       "      <td>826</td>\n",
       "    </tr>\n",
       "    <tr>\n",
       "      <th>235</th>\n",
       "      <td>United States Minor Outlying Islands (the)</td>\n",
       "      <td>UM</td>\n",
       "      <td>UMI</td>\n",
       "      <td>581</td>\n",
       "    </tr>\n",
       "    <tr>\n",
       "      <th>236</th>\n",
       "      <td>United States of America (the)</td>\n",
       "      <td>US</td>\n",
       "      <td>USA</td>\n",
       "      <td>840</td>\n",
       "    </tr>\n",
       "  </tbody>\n",
       "</table>\n",
       "</div>"
      ],
      "text/plain": [
       "                                               Country iso_a2 iso_a3  iso_n\n",
       "219                       Tanzania, United Republic of     TZ    TZA    834\n",
       "233                         United Arab Emirates (the)     AE    ARE    784\n",
       "234  United Kingdom of Great Britain and Northern I...     GB    GBR    826\n",
       "235         United States Minor Outlying Islands (the)     UM    UMI    581\n",
       "236                     United States of America (the)     US    USA    840"
      ]
     },
     "execution_count": 18,
     "metadata": {},
     "output_type": "execute_result"
    }
   ],
   "source": [
    "# United States and United Kingdom and United Arab Emirates\n",
    "isoDf[isoDf['Country'].str.contains('United', case=False)]"
   ]
  },
  {
   "cell_type": "code",
   "execution_count": 19,
   "metadata": {},
   "outputs": [
    {
     "data": {
      "text/html": [
       "<div>\n",
       "<style scoped>\n",
       "    .dataframe tbody tr th:only-of-type {\n",
       "        vertical-align: middle;\n",
       "    }\n",
       "\n",
       "    .dataframe tbody tr th {\n",
       "        vertical-align: top;\n",
       "    }\n",
       "\n",
       "    .dataframe thead th {\n",
       "        text-align: right;\n",
       "    }\n",
       "</style>\n",
       "<table border=\"1\" class=\"dataframe\">\n",
       "  <thead>\n",
       "    <tr style=\"text-align: right;\">\n",
       "      <th></th>\n",
       "      <th>Country</th>\n",
       "      <th>iso_a2</th>\n",
       "      <th>iso_a3</th>\n",
       "      <th>iso_n</th>\n",
       "    </tr>\n",
       "  </thead>\n",
       "  <tbody>\n",
       "    <tr>\n",
       "      <th>219</th>\n",
       "      <td>Tanzania, United Republic of</td>\n",
       "      <td>TZ</td>\n",
       "      <td>TZA</td>\n",
       "      <td>834</td>\n",
       "    </tr>\n",
       "    <tr>\n",
       "      <th>233</th>\n",
       "      <td>United Arab Emirates</td>\n",
       "      <td>AE</td>\n",
       "      <td>ARE</td>\n",
       "      <td>784</td>\n",
       "    </tr>\n",
       "    <tr>\n",
       "      <th>234</th>\n",
       "      <td>United Kingdom</td>\n",
       "      <td>GB</td>\n",
       "      <td>GBR</td>\n",
       "      <td>826</td>\n",
       "    </tr>\n",
       "    <tr>\n",
       "      <th>235</th>\n",
       "      <td>United States Minor Outlying Islands (the)</td>\n",
       "      <td>UM</td>\n",
       "      <td>UMI</td>\n",
       "      <td>581</td>\n",
       "    </tr>\n",
       "    <tr>\n",
       "      <th>236</th>\n",
       "      <td>United States</td>\n",
       "      <td>US</td>\n",
       "      <td>USA</td>\n",
       "      <td>840</td>\n",
       "    </tr>\n",
       "  </tbody>\n",
       "</table>\n",
       "</div>"
      ],
      "text/plain": [
       "                                        Country iso_a2 iso_a3  iso_n\n",
       "219                Tanzania, United Republic of     TZ    TZA    834\n",
       "233                        United Arab Emirates     AE    ARE    784\n",
       "234                              United Kingdom     GB    GBR    826\n",
       "235  United States Minor Outlying Islands (the)     UM    UMI    581\n",
       "236                               United States     US    USA    840"
      ]
     },
     "execution_count": 19,
     "metadata": {},
     "output_type": "execute_result"
    }
   ],
   "source": [
    "isoDf.loc[isoDf['Country'].str.contains('United States of America', case=False), 'Country'] = 'United States'\n",
    "isoDf.loc[isoDf['Country'].str.contains('United Kingdom of Great Britain', case=False), 'Country'] = 'United Kingdom'\n",
    "isoDf.loc[isoDf['Country'].str.contains('United Arab Emirates', case=False), 'Country'] = 'United Arab Emirates'\n",
    "isoDf[isoDf['Country'].str.contains('United', case=False)]"
   ]
  },
  {
   "cell_type": "code",
   "execution_count": 20,
   "metadata": {},
   "outputs": [
    {
     "data": {
      "text/html": [
       "<div>\n",
       "<style scoped>\n",
       "    .dataframe tbody tr th:only-of-type {\n",
       "        vertical-align: middle;\n",
       "    }\n",
       "\n",
       "    .dataframe tbody tr th {\n",
       "        vertical-align: top;\n",
       "    }\n",
       "\n",
       "    .dataframe thead th {\n",
       "        text-align: right;\n",
       "    }\n",
       "</style>\n",
       "<table border=\"1\" class=\"dataframe\">\n",
       "  <thead>\n",
       "    <tr style=\"text-align: right;\">\n",
       "      <th></th>\n",
       "      <th>Country</th>\n",
       "      <th>iso_a2</th>\n",
       "      <th>iso_a3</th>\n",
       "      <th>iso_n</th>\n",
       "    </tr>\n",
       "  </thead>\n",
       "  <tbody>\n",
       "    <tr>\n",
       "      <th>59</th>\n",
       "      <td>Czechia</td>\n",
       "      <td>CZ</td>\n",
       "      <td>CZE</td>\n",
       "      <td>203</td>\n",
       "    </tr>\n",
       "  </tbody>\n",
       "</table>\n",
       "</div>"
      ],
      "text/plain": [
       "    Country iso_a2 iso_a3  iso_n\n",
       "59  Czechia     CZ    CZE    203"
      ]
     },
     "execution_count": 20,
     "metadata": {},
     "output_type": "execute_result"
    }
   ],
   "source": [
    "# Czech Republic\n",
    "isoDf[isoDf['Country'].str.contains('Czech', case=False)]"
   ]
  },
  {
   "cell_type": "code",
   "execution_count": 21,
   "metadata": {},
   "outputs": [
    {
     "data": {
      "text/html": [
       "<div>\n",
       "<style scoped>\n",
       "    .dataframe tbody tr th:only-of-type {\n",
       "        vertical-align: middle;\n",
       "    }\n",
       "\n",
       "    .dataframe tbody tr th {\n",
       "        vertical-align: top;\n",
       "    }\n",
       "\n",
       "    .dataframe thead th {\n",
       "        text-align: right;\n",
       "    }\n",
       "</style>\n",
       "<table border=\"1\" class=\"dataframe\">\n",
       "  <thead>\n",
       "    <tr style=\"text-align: right;\">\n",
       "      <th></th>\n",
       "      <th>Country</th>\n",
       "      <th>iso_a2</th>\n",
       "      <th>iso_a3</th>\n",
       "      <th>iso_n</th>\n",
       "    </tr>\n",
       "  </thead>\n",
       "  <tbody>\n",
       "    <tr>\n",
       "      <th>59</th>\n",
       "      <td>Czech Republic</td>\n",
       "      <td>CZ</td>\n",
       "      <td>CZE</td>\n",
       "      <td>203</td>\n",
       "    </tr>\n",
       "  </tbody>\n",
       "</table>\n",
       "</div>"
      ],
      "text/plain": [
       "           Country iso_a2 iso_a3  iso_n\n",
       "59  Czech Republic     CZ    CZE    203"
      ]
     },
     "execution_count": 21,
     "metadata": {},
     "output_type": "execute_result"
    }
   ],
   "source": [
    "isoDf.loc[isoDf['Country'].str.contains('Czech', case=False), 'Country'] = 'Czech Republic'\n",
    "isoDf[isoDf['Country'].str.contains('Czech', case=False)]"
   ]
  },
  {
   "cell_type": "code",
   "execution_count": 22,
   "metadata": {},
   "outputs": [
    {
     "data": {
      "text/html": [
       "<div>\n",
       "<style scoped>\n",
       "    .dataframe tbody tr th:only-of-type {\n",
       "        vertical-align: middle;\n",
       "    }\n",
       "\n",
       "    .dataframe tbody tr th {\n",
       "        vertical-align: top;\n",
       "    }\n",
       "\n",
       "    .dataframe thead th {\n",
       "        text-align: right;\n",
       "    }\n",
       "</style>\n",
       "<table border=\"1\" class=\"dataframe\">\n",
       "  <thead>\n",
       "    <tr style=\"text-align: right;\">\n",
       "      <th></th>\n",
       "      <th>Country</th>\n",
       "      <th>iso_a2</th>\n",
       "      <th>iso_a3</th>\n",
       "      <th>iso_n</th>\n",
       "    </tr>\n",
       "  </thead>\n",
       "  <tbody>\n",
       "    <tr>\n",
       "      <th>118</th>\n",
       "      <td>Korea (the Democratic People's Republic of)</td>\n",
       "      <td>KP</td>\n",
       "      <td>PRK</td>\n",
       "      <td>408</td>\n",
       "    </tr>\n",
       "    <tr>\n",
       "      <th>119</th>\n",
       "      <td>Korea (the Republic of)</td>\n",
       "      <td>KR</td>\n",
       "      <td>KOR</td>\n",
       "      <td>410</td>\n",
       "    </tr>\n",
       "  </tbody>\n",
       "</table>\n",
       "</div>"
      ],
      "text/plain": [
       "                                         Country iso_a2 iso_a3  iso_n\n",
       "118  Korea (the Democratic People's Republic of)     KP    PRK    408\n",
       "119                      Korea (the Republic of)     KR    KOR    410"
      ]
     },
     "execution_count": 22,
     "metadata": {},
     "output_type": "execute_result"
    }
   ],
   "source": [
    "# South Korea\n",
    "isoDf[isoDf['Country'].str.contains('Korea', case=False)]"
   ]
  },
  {
   "cell_type": "code",
   "execution_count": 23,
   "metadata": {},
   "outputs": [
    {
     "data": {
      "text/html": [
       "<div>\n",
       "<style scoped>\n",
       "    .dataframe tbody tr th:only-of-type {\n",
       "        vertical-align: middle;\n",
       "    }\n",
       "\n",
       "    .dataframe tbody tr th {\n",
       "        vertical-align: top;\n",
       "    }\n",
       "\n",
       "    .dataframe thead th {\n",
       "        text-align: right;\n",
       "    }\n",
       "</style>\n",
       "<table border=\"1\" class=\"dataframe\">\n",
       "  <thead>\n",
       "    <tr style=\"text-align: right;\">\n",
       "      <th></th>\n",
       "      <th>Country</th>\n",
       "      <th>iso_a2</th>\n",
       "      <th>iso_a3</th>\n",
       "      <th>iso_n</th>\n",
       "    </tr>\n",
       "  </thead>\n",
       "  <tbody>\n",
       "    <tr>\n",
       "      <th>118</th>\n",
       "      <td>Korea (the Democratic People's Republic of)</td>\n",
       "      <td>KP</td>\n",
       "      <td>PRK</td>\n",
       "      <td>408</td>\n",
       "    </tr>\n",
       "    <tr>\n",
       "      <th>119</th>\n",
       "      <td>South Korea</td>\n",
       "      <td>KR</td>\n",
       "      <td>KOR</td>\n",
       "      <td>410</td>\n",
       "    </tr>\n",
       "  </tbody>\n",
       "</table>\n",
       "</div>"
      ],
      "text/plain": [
       "                                         Country iso_a2 iso_a3  iso_n\n",
       "118  Korea (the Democratic People's Republic of)     KP    PRK    408\n",
       "119                                  South Korea     KR    KOR    410"
      ]
     },
     "execution_count": 23,
     "metadata": {},
     "output_type": "execute_result"
    }
   ],
   "source": [
    "isoDf.loc[isoDf['Country']=='Korea (the Republic of)', 'Country'] = 'South Korea'\n",
    "isoDf[isoDf['Country'].str.contains('Korea', case=False)]"
   ]
  },
  {
   "cell_type": "code",
   "execution_count": 24,
   "metadata": {},
   "outputs": [
    {
     "data": {
      "text/html": [
       "<div>\n",
       "<style scoped>\n",
       "    .dataframe tbody tr th:only-of-type {\n",
       "        vertical-align: middle;\n",
       "    }\n",
       "\n",
       "    .dataframe tbody tr th {\n",
       "        vertical-align: top;\n",
       "    }\n",
       "\n",
       "    .dataframe thead th {\n",
       "        text-align: right;\n",
       "    }\n",
       "</style>\n",
       "<table border=\"1\" class=\"dataframe\">\n",
       "  <thead>\n",
       "    <tr style=\"text-align: right;\">\n",
       "      <th></th>\n",
       "      <th>Country</th>\n",
       "      <th>iso_a2</th>\n",
       "      <th>iso_a3</th>\n",
       "      <th>iso_n</th>\n",
       "    </tr>\n",
       "  </thead>\n",
       "  <tbody>\n",
       "    <tr>\n",
       "      <th>217</th>\n",
       "      <td>Taiwan (Province of China)</td>\n",
       "      <td>TW</td>\n",
       "      <td>TWN</td>\n",
       "      <td>158</td>\n",
       "    </tr>\n",
       "  </tbody>\n",
       "</table>\n",
       "</div>"
      ],
      "text/plain": [
       "                        Country iso_a2 iso_a3  iso_n\n",
       "217  Taiwan (Province of China)     TW    TWN    158"
      ]
     },
     "execution_count": 24,
     "metadata": {},
     "output_type": "execute_result"
    }
   ],
   "source": [
    "# Taiwan\n",
    "isoDf[isoDf['Country'].str.contains('Taiwan', case=False)]"
   ]
  },
  {
   "cell_type": "code",
   "execution_count": 25,
   "metadata": {},
   "outputs": [
    {
     "data": {
      "text/html": [
       "<div>\n",
       "<style scoped>\n",
       "    .dataframe tbody tr th:only-of-type {\n",
       "        vertical-align: middle;\n",
       "    }\n",
       "\n",
       "    .dataframe tbody tr th {\n",
       "        vertical-align: top;\n",
       "    }\n",
       "\n",
       "    .dataframe thead th {\n",
       "        text-align: right;\n",
       "    }\n",
       "</style>\n",
       "<table border=\"1\" class=\"dataframe\">\n",
       "  <thead>\n",
       "    <tr style=\"text-align: right;\">\n",
       "      <th></th>\n",
       "      <th>Country</th>\n",
       "      <th>iso_a2</th>\n",
       "      <th>iso_a3</th>\n",
       "      <th>iso_n</th>\n",
       "    </tr>\n",
       "  </thead>\n",
       "  <tbody>\n",
       "    <tr>\n",
       "      <th>217</th>\n",
       "      <td>Taiwan</td>\n",
       "      <td>TW</td>\n",
       "      <td>TWN</td>\n",
       "      <td>158</td>\n",
       "    </tr>\n",
       "  </tbody>\n",
       "</table>\n",
       "</div>"
      ],
      "text/plain": [
       "    Country iso_a2 iso_a3  iso_n\n",
       "217  Taiwan     TW    TWN    158"
      ]
     },
     "execution_count": 25,
     "metadata": {},
     "output_type": "execute_result"
    }
   ],
   "source": [
    "isoDf.loc[isoDf['Country']=='Taiwan (Province of China)', 'Country'] = 'Taiwan'\n",
    "isoDf[isoDf['Country'].str.contains('Taiwan', case=False)]"
   ]
  },
  {
   "cell_type": "code",
   "execution_count": 26,
   "metadata": {},
   "outputs": [
    {
     "data": {
      "text/html": [
       "<div>\n",
       "<style scoped>\n",
       "    .dataframe tbody tr th:only-of-type {\n",
       "        vertical-align: middle;\n",
       "    }\n",
       "\n",
       "    .dataframe tbody tr th {\n",
       "        vertical-align: top;\n",
       "    }\n",
       "\n",
       "    .dataframe thead th {\n",
       "        text-align: right;\n",
       "    }\n",
       "</style>\n",
       "<table border=\"1\" class=\"dataframe\">\n",
       "  <thead>\n",
       "    <tr style=\"text-align: right;\">\n",
       "      <th></th>\n",
       "      <th>Country</th>\n",
       "      <th>iso_a2</th>\n",
       "      <th>iso_a3</th>\n",
       "      <th>iso_n</th>\n",
       "    </tr>\n",
       "  </thead>\n",
       "  <tbody>\n",
       "    <tr>\n",
       "      <th>28</th>\n",
       "      <td>Bosnia and Herzegovina</td>\n",
       "      <td>BA</td>\n",
       "      <td>BIH</td>\n",
       "      <td>70</td>\n",
       "    </tr>\n",
       "  </tbody>\n",
       "</table>\n",
       "</div>"
      ],
      "text/plain": [
       "                   Country iso_a2 iso_a3  iso_n\n",
       "28  Bosnia and Herzegovina     BA    BIH     70"
      ]
     },
     "execution_count": 26,
     "metadata": {},
     "output_type": "execute_result"
    }
   ],
   "source": [
    "# Bosnia And Herzegovina\n",
    "isoDf[isoDf['Country'].str.contains('Bosnia', case=False)]"
   ]
  },
  {
   "cell_type": "code",
   "execution_count": 27,
   "metadata": {},
   "outputs": [
    {
     "data": {
      "text/html": [
       "<div>\n",
       "<style scoped>\n",
       "    .dataframe tbody tr th:only-of-type {\n",
       "        vertical-align: middle;\n",
       "    }\n",
       "\n",
       "    .dataframe tbody tr th {\n",
       "        vertical-align: top;\n",
       "    }\n",
       "\n",
       "    .dataframe thead th {\n",
       "        text-align: right;\n",
       "    }\n",
       "</style>\n",
       "<table border=\"1\" class=\"dataframe\">\n",
       "  <thead>\n",
       "    <tr style=\"text-align: right;\">\n",
       "      <th></th>\n",
       "      <th>Country</th>\n",
       "      <th>iso_a2</th>\n",
       "      <th>iso_a3</th>\n",
       "      <th>iso_n</th>\n",
       "    </tr>\n",
       "  </thead>\n",
       "  <tbody>\n",
       "    <tr>\n",
       "      <th>28</th>\n",
       "      <td>Bosnia And Herzegovina</td>\n",
       "      <td>BA</td>\n",
       "      <td>BIH</td>\n",
       "      <td>70</td>\n",
       "    </tr>\n",
       "  </tbody>\n",
       "</table>\n",
       "</div>"
      ],
      "text/plain": [
       "                   Country iso_a2 iso_a3  iso_n\n",
       "28  Bosnia And Herzegovina     BA    BIH     70"
      ]
     },
     "execution_count": 27,
     "metadata": {},
     "output_type": "execute_result"
    }
   ],
   "source": [
    "isoDf.loc[isoDf['Country']=='Bosnia and Herzegovina', 'Country'] = 'Bosnia And Herzegovina'\n",
    "isoDf[isoDf['Country'].str.contains('Bosnia', case=False)]"
   ]
  },
  {
   "cell_type": "code",
   "execution_count": 28,
   "metadata": {},
   "outputs": [
    {
     "data": {
      "text/html": [
       "<div>\n",
       "<style scoped>\n",
       "    .dataframe tbody tr th:only-of-type {\n",
       "        vertical-align: middle;\n",
       "    }\n",
       "\n",
       "    .dataframe tbody tr th {\n",
       "        vertical-align: top;\n",
       "    }\n",
       "\n",
       "    .dataframe thead th {\n",
       "        text-align: right;\n",
       "    }\n",
       "</style>\n",
       "<table border=\"1\" class=\"dataframe\">\n",
       "  <thead>\n",
       "    <tr style=\"text-align: right;\">\n",
       "      <th></th>\n",
       "      <th>Country</th>\n",
       "      <th>iso_a2</th>\n",
       "      <th>iso_a3</th>\n",
       "      <th>iso_n</th>\n",
       "    </tr>\n",
       "  </thead>\n",
       "  <tbody>\n",
       "    <tr>\n",
       "      <th>132</th>\n",
       "      <td>Macedonia (the former Yugoslav Republic of)</td>\n",
       "      <td>MK</td>\n",
       "      <td>MKD</td>\n",
       "      <td>807</td>\n",
       "    </tr>\n",
       "  </tbody>\n",
       "</table>\n",
       "</div>"
      ],
      "text/plain": [
       "                                         Country iso_a2 iso_a3  iso_n\n",
       "132  Macedonia (the former Yugoslav Republic of)     MK    MKD    807"
      ]
     },
     "execution_count": 28,
     "metadata": {},
     "output_type": "execute_result"
    }
   ],
   "source": [
    "# Macedonia\n",
    "isoDf[isoDf['Country'].str.contains('Macedonia', case=False)]"
   ]
  },
  {
   "cell_type": "code",
   "execution_count": 29,
   "metadata": {},
   "outputs": [
    {
     "data": {
      "text/html": [
       "<div>\n",
       "<style scoped>\n",
       "    .dataframe tbody tr th:only-of-type {\n",
       "        vertical-align: middle;\n",
       "    }\n",
       "\n",
       "    .dataframe tbody tr th {\n",
       "        vertical-align: top;\n",
       "    }\n",
       "\n",
       "    .dataframe thead th {\n",
       "        text-align: right;\n",
       "    }\n",
       "</style>\n",
       "<table border=\"1\" class=\"dataframe\">\n",
       "  <thead>\n",
       "    <tr style=\"text-align: right;\">\n",
       "      <th></th>\n",
       "      <th>Country</th>\n",
       "      <th>iso_a2</th>\n",
       "      <th>iso_a3</th>\n",
       "      <th>iso_n</th>\n",
       "    </tr>\n",
       "  </thead>\n",
       "  <tbody>\n",
       "    <tr>\n",
       "      <th>132</th>\n",
       "      <td>Macedonia</td>\n",
       "      <td>MK</td>\n",
       "      <td>MKD</td>\n",
       "      <td>807</td>\n",
       "    </tr>\n",
       "  </tbody>\n",
       "</table>\n",
       "</div>"
      ],
      "text/plain": [
       "       Country iso_a2 iso_a3  iso_n\n",
       "132  Macedonia     MK    MKD    807"
      ]
     },
     "execution_count": 29,
     "metadata": {},
     "output_type": "execute_result"
    }
   ],
   "source": [
    "isoDf.loc[isoDf['Country']=='Macedonia (the former Yugoslav Republic of)', 'Country'] = 'Macedonia'\n",
    "isoDf[isoDf['Country'].str.contains('Macedonia', case=False)]"
   ]
  },
  {
   "cell_type": "code",
   "execution_count": 30,
   "metadata": {},
   "outputs": [
    {
     "data": {
      "text/html": [
       "<div>\n",
       "<style scoped>\n",
       "    .dataframe tbody tr th:only-of-type {\n",
       "        vertical-align: middle;\n",
       "    }\n",
       "\n",
       "    .dataframe tbody tr th {\n",
       "        vertical-align: top;\n",
       "    }\n",
       "\n",
       "    .dataframe thead th {\n",
       "        text-align: right;\n",
       "    }\n",
       "</style>\n",
       "<table border=\"1\" class=\"dataframe\">\n",
       "  <thead>\n",
       "    <tr style=\"text-align: right;\">\n",
       "      <th></th>\n",
       "      <th>Country</th>\n",
       "      <th>iso_a2</th>\n",
       "      <th>iso_a3</th>\n",
       "      <th>iso_n</th>\n",
       "    </tr>\n",
       "  </thead>\n",
       "  <tbody>\n",
       "    <tr>\n",
       "      <th>183</th>\n",
       "      <td>Russian Federation (the)</td>\n",
       "      <td>RU</td>\n",
       "      <td>RUS</td>\n",
       "      <td>643</td>\n",
       "    </tr>\n",
       "  </tbody>\n",
       "</table>\n",
       "</div>"
      ],
      "text/plain": [
       "                      Country iso_a2 iso_a3  iso_n\n",
       "183  Russian Federation (the)     RU    RUS    643"
      ]
     },
     "execution_count": 30,
     "metadata": {},
     "output_type": "execute_result"
    }
   ],
   "source": [
    "# Russia\n",
    "isoDf[isoDf['Country'].str.contains('Russia', case=False)]"
   ]
  },
  {
   "cell_type": "code",
   "execution_count": 31,
   "metadata": {},
   "outputs": [
    {
     "data": {
      "text/html": [
       "<div>\n",
       "<style scoped>\n",
       "    .dataframe tbody tr th:only-of-type {\n",
       "        vertical-align: middle;\n",
       "    }\n",
       "\n",
       "    .dataframe tbody tr th {\n",
       "        vertical-align: top;\n",
       "    }\n",
       "\n",
       "    .dataframe thead th {\n",
       "        text-align: right;\n",
       "    }\n",
       "</style>\n",
       "<table border=\"1\" class=\"dataframe\">\n",
       "  <thead>\n",
       "    <tr style=\"text-align: right;\">\n",
       "      <th></th>\n",
       "      <th>Country</th>\n",
       "      <th>iso_a2</th>\n",
       "      <th>iso_a3</th>\n",
       "      <th>iso_n</th>\n",
       "    </tr>\n",
       "  </thead>\n",
       "  <tbody>\n",
       "    <tr>\n",
       "      <th>183</th>\n",
       "      <td>Russia</td>\n",
       "      <td>RU</td>\n",
       "      <td>RUS</td>\n",
       "      <td>643</td>\n",
       "    </tr>\n",
       "  </tbody>\n",
       "</table>\n",
       "</div>"
      ],
      "text/plain": [
       "    Country iso_a2 iso_a3  iso_n\n",
       "183  Russia     RU    RUS    643"
      ]
     },
     "execution_count": 31,
     "metadata": {},
     "output_type": "execute_result"
    }
   ],
   "source": [
    "isoDf.loc[isoDf['Country']=='Russian Federation (the)', 'Country'] = 'Russia'\n",
    "isoDf[isoDf['Country'].str.contains('Russia', case=False)]"
   ]
  },
  {
   "cell_type": "code",
   "execution_count": 32,
   "metadata": {},
   "outputs": [
    {
     "data": {
      "text/html": [
       "<div>\n",
       "<style scoped>\n",
       "    .dataframe tbody tr th:only-of-type {\n",
       "        vertical-align: middle;\n",
       "    }\n",
       "\n",
       "    .dataframe tbody tr th {\n",
       "        vertical-align: top;\n",
       "    }\n",
       "\n",
       "    .dataframe thead th {\n",
       "        text-align: right;\n",
       "    }\n",
       "</style>\n",
       "<table border=\"1\" class=\"dataframe\">\n",
       "  <thead>\n",
       "    <tr style=\"text-align: right;\">\n",
       "      <th></th>\n",
       "      <th>Country</th>\n",
       "      <th>iso_a2</th>\n",
       "      <th>iso_a3</th>\n",
       "      <th>iso_n</th>\n",
       "    </tr>\n",
       "  </thead>\n",
       "  <tbody>\n",
       "    <tr>\n",
       "      <th>175</th>\n",
       "      <td>Philippines (the)</td>\n",
       "      <td>PH</td>\n",
       "      <td>PHL</td>\n",
       "      <td>608</td>\n",
       "    </tr>\n",
       "  </tbody>\n",
       "</table>\n",
       "</div>"
      ],
      "text/plain": [
       "               Country iso_a2 iso_a3  iso_n\n",
       "175  Philippines (the)     PH    PHL    608"
      ]
     },
     "execution_count": 32,
     "metadata": {},
     "output_type": "execute_result"
    }
   ],
   "source": [
    "# Philippines\n",
    "isoDf[isoDf['Country'].str.contains('Philippines', case=False)]"
   ]
  },
  {
   "cell_type": "code",
   "execution_count": 33,
   "metadata": {},
   "outputs": [
    {
     "data": {
      "text/html": [
       "<div>\n",
       "<style scoped>\n",
       "    .dataframe tbody tr th:only-of-type {\n",
       "        vertical-align: middle;\n",
       "    }\n",
       "\n",
       "    .dataframe tbody tr th {\n",
       "        vertical-align: top;\n",
       "    }\n",
       "\n",
       "    .dataframe thead th {\n",
       "        text-align: right;\n",
       "    }\n",
       "</style>\n",
       "<table border=\"1\" class=\"dataframe\">\n",
       "  <thead>\n",
       "    <tr style=\"text-align: right;\">\n",
       "      <th></th>\n",
       "      <th>Country</th>\n",
       "      <th>iso_a2</th>\n",
       "      <th>iso_a3</th>\n",
       "      <th>iso_n</th>\n",
       "    </tr>\n",
       "  </thead>\n",
       "  <tbody>\n",
       "    <tr>\n",
       "      <th>175</th>\n",
       "      <td>Philippines</td>\n",
       "      <td>PH</td>\n",
       "      <td>PHL</td>\n",
       "      <td>608</td>\n",
       "    </tr>\n",
       "  </tbody>\n",
       "</table>\n",
       "</div>"
      ],
      "text/plain": [
       "         Country iso_a2 iso_a3  iso_n\n",
       "175  Philippines     PH    PHL    608"
      ]
     },
     "execution_count": 33,
     "metadata": {},
     "output_type": "execute_result"
    }
   ],
   "source": [
    "isoDf.loc[isoDf['Country']=='Philippines (the)', 'Country'] = 'Philippines'\n",
    "isoDf[isoDf['Country'].str.contains('Philippines', case=False)]"
   ]
  },
  {
   "cell_type": "code",
   "execution_count": 34,
   "metadata": {},
   "outputs": [
    {
     "data": {
      "text/html": [
       "<div>\n",
       "<style scoped>\n",
       "    .dataframe tbody tr th:only-of-type {\n",
       "        vertical-align: middle;\n",
       "    }\n",
       "\n",
       "    .dataframe tbody tr th {\n",
       "        vertical-align: top;\n",
       "    }\n",
       "\n",
       "    .dataframe thead th {\n",
       "        text-align: right;\n",
       "    }\n",
       "</style>\n",
       "<table border=\"1\" class=\"dataframe\">\n",
       "  <thead>\n",
       "    <tr style=\"text-align: right;\">\n",
       "      <th></th>\n",
       "      <th>Country</th>\n",
       "      <th>iso_a2</th>\n",
       "      <th>iso_a3</th>\n",
       "      <th>iso_n</th>\n",
       "    </tr>\n",
       "  </thead>\n",
       "  <tbody>\n",
       "    <tr>\n",
       "      <th>241</th>\n",
       "      <td>Viet Nam</td>\n",
       "      <td>VN</td>\n",
       "      <td>VNM</td>\n",
       "      <td>704</td>\n",
       "    </tr>\n",
       "  </tbody>\n",
       "</table>\n",
       "</div>"
      ],
      "text/plain": [
       "      Country iso_a2 iso_a3  iso_n\n",
       "241  Viet Nam     VN    VNM    704"
      ]
     },
     "execution_count": 34,
     "metadata": {},
     "output_type": "execute_result"
    }
   ],
   "source": [
    "# Vietnam\n",
    "isoDf[isoDf['Country'].str.contains('Viet', case=False)]"
   ]
  },
  {
   "cell_type": "code",
   "execution_count": 35,
   "metadata": {},
   "outputs": [
    {
     "data": {
      "text/html": [
       "<div>\n",
       "<style scoped>\n",
       "    .dataframe tbody tr th:only-of-type {\n",
       "        vertical-align: middle;\n",
       "    }\n",
       "\n",
       "    .dataframe tbody tr th {\n",
       "        vertical-align: top;\n",
       "    }\n",
       "\n",
       "    .dataframe thead th {\n",
       "        text-align: right;\n",
       "    }\n",
       "</style>\n",
       "<table border=\"1\" class=\"dataframe\">\n",
       "  <thead>\n",
       "    <tr style=\"text-align: right;\">\n",
       "      <th></th>\n",
       "      <th>Country</th>\n",
       "      <th>iso_a2</th>\n",
       "      <th>iso_a3</th>\n",
       "      <th>iso_n</th>\n",
       "    </tr>\n",
       "  </thead>\n",
       "  <tbody>\n",
       "    <tr>\n",
       "      <th>241</th>\n",
       "      <td>Vietnam</td>\n",
       "      <td>VN</td>\n",
       "      <td>VNM</td>\n",
       "      <td>704</td>\n",
       "    </tr>\n",
       "  </tbody>\n",
       "</table>\n",
       "</div>"
      ],
      "text/plain": [
       "     Country iso_a2 iso_a3  iso_n\n",
       "241  Vietnam     VN    VNM    704"
      ]
     },
     "execution_count": 35,
     "metadata": {},
     "output_type": "execute_result"
    }
   ],
   "source": [
    "isoDf.loc[isoDf['Country']=='Viet Nam', 'Country'] = 'Vietnam'\n",
    "isoDf[isoDf['Country'].str.contains('Vietnam', case=False)]"
   ]
  },
  {
   "cell_type": "code",
   "execution_count": 36,
   "metadata": {},
   "outputs": [
    {
     "data": {
      "text/html": [
       "<div>\n",
       "<style scoped>\n",
       "    .dataframe tbody tr th:only-of-type {\n",
       "        vertical-align: middle;\n",
       "    }\n",
       "\n",
       "    .dataframe tbody tr th {\n",
       "        vertical-align: top;\n",
       "    }\n",
       "\n",
       "    .dataframe thead th {\n",
       "        text-align: right;\n",
       "    }\n",
       "</style>\n",
       "<table border=\"1\" class=\"dataframe\">\n",
       "  <thead>\n",
       "    <tr style=\"text-align: right;\">\n",
       "      <th></th>\n",
       "      <th>Country</th>\n",
       "      <th>iso_a2</th>\n",
       "      <th>iso_a3</th>\n",
       "      <th>iso_n</th>\n",
       "    </tr>\n",
       "  </thead>\n",
       "  <tbody>\n",
       "    <tr>\n",
       "      <th>105</th>\n",
       "      <td>Iran (Islamic Republic of)</td>\n",
       "      <td>IR</td>\n",
       "      <td>IRN</td>\n",
       "      <td>364</td>\n",
       "    </tr>\n",
       "  </tbody>\n",
       "</table>\n",
       "</div>"
      ],
      "text/plain": [
       "                        Country iso_a2 iso_a3  iso_n\n",
       "105  Iran (Islamic Republic of)     IR    IRN    364"
      ]
     },
     "execution_count": 36,
     "metadata": {},
     "output_type": "execute_result"
    }
   ],
   "source": [
    "# Iran\n",
    "isoDf[isoDf['Country'].str.contains('Iran', case=False)]"
   ]
  },
  {
   "cell_type": "code",
   "execution_count": 37,
   "metadata": {},
   "outputs": [
    {
     "data": {
      "text/html": [
       "<div>\n",
       "<style scoped>\n",
       "    .dataframe tbody tr th:only-of-type {\n",
       "        vertical-align: middle;\n",
       "    }\n",
       "\n",
       "    .dataframe tbody tr th {\n",
       "        vertical-align: top;\n",
       "    }\n",
       "\n",
       "    .dataframe thead th {\n",
       "        text-align: right;\n",
       "    }\n",
       "</style>\n",
       "<table border=\"1\" class=\"dataframe\">\n",
       "  <thead>\n",
       "    <tr style=\"text-align: right;\">\n",
       "      <th></th>\n",
       "      <th>Country</th>\n",
       "      <th>iso_a2</th>\n",
       "      <th>iso_a3</th>\n",
       "      <th>iso_n</th>\n",
       "    </tr>\n",
       "  </thead>\n",
       "  <tbody>\n",
       "    <tr>\n",
       "      <th>105</th>\n",
       "      <td>Iran</td>\n",
       "      <td>IR</td>\n",
       "      <td>IRN</td>\n",
       "      <td>364</td>\n",
       "    </tr>\n",
       "  </tbody>\n",
       "</table>\n",
       "</div>"
      ],
      "text/plain": [
       "    Country iso_a2 iso_a3  iso_n\n",
       "105    Iran     IR    IRN    364"
      ]
     },
     "execution_count": 37,
     "metadata": {},
     "output_type": "execute_result"
    }
   ],
   "source": [
    "isoDf.loc[isoDf['Country']=='Iran (Islamic Republic of)', 'Country'] = 'Iran'\n",
    "isoDf[isoDf['Country'].str.contains('Iran', case=False)]"
   ]
  },
  {
   "cell_type": "code",
   "execution_count": 38,
   "metadata": {},
   "outputs": [
    {
     "data": {
      "text/html": [
       "<div>\n",
       "<style scoped>\n",
       "    .dataframe tbody tr th:only-of-type {\n",
       "        vertical-align: middle;\n",
       "    }\n",
       "\n",
       "    .dataframe tbody tr th {\n",
       "        vertical-align: top;\n",
       "    }\n",
       "\n",
       "    .dataframe thead th {\n",
       "        text-align: right;\n",
       "    }\n",
       "</style>\n",
       "<table border=\"1\" class=\"dataframe\">\n",
       "  <thead>\n",
       "    <tr style=\"text-align: right;\">\n",
       "      <th></th>\n",
       "      <th>Rank</th>\n",
       "      <th>Country</th>\n",
       "      <th>QII</th>\n",
       "      <th>PPI</th>\n",
       "      <th>SI</th>\n",
       "      <th>HI</th>\n",
       "      <th>CI</th>\n",
       "      <th>PPIRI</th>\n",
       "      <th>TCTI</th>\n",
       "      <th>PI</th>\n",
       "      <th>CI</th>\n",
       "      <th>iso_a2</th>\n",
       "      <th>iso_a3</th>\n",
       "      <th>iso_n</th>\n",
       "    </tr>\n",
       "  </thead>\n",
       "  <tbody>\n",
       "    <tr>\n",
       "      <th>0</th>\n",
       "      <td>1</td>\n",
       "      <td>Denmark</td>\n",
       "      <td>198.57</td>\n",
       "      <td>114.39</td>\n",
       "      <td>75.75</td>\n",
       "      <td>79.41</td>\n",
       "      <td>81.38</td>\n",
       "      <td>6.93</td>\n",
       "      <td>28.51</td>\n",
       "      <td>22.14</td>\n",
       "      <td>81.80</td>\n",
       "      <td>DK</td>\n",
       "      <td>DNK</td>\n",
       "      <td>208</td>\n",
       "    </tr>\n",
       "    <tr>\n",
       "      <th>1</th>\n",
       "      <td>2</td>\n",
       "      <td>Switzerland</td>\n",
       "      <td>195.93</td>\n",
       "      <td>129.70</td>\n",
       "      <td>78.50</td>\n",
       "      <td>72.68</td>\n",
       "      <td>121.16</td>\n",
       "      <td>9.63</td>\n",
       "      <td>29.05</td>\n",
       "      <td>22.03</td>\n",
       "      <td>80.05</td>\n",
       "      <td>CH</td>\n",
       "      <td>CHE</td>\n",
       "      <td>756</td>\n",
       "    </tr>\n",
       "    <tr>\n",
       "      <th>2</th>\n",
       "      <td>3</td>\n",
       "      <td>Finland</td>\n",
       "      <td>194.01</td>\n",
       "      <td>112.30</td>\n",
       "      <td>77.20</td>\n",
       "      <td>73.49</td>\n",
       "      <td>72.82</td>\n",
       "      <td>7.98</td>\n",
       "      <td>30.41</td>\n",
       "      <td>11.93</td>\n",
       "      <td>58.56</td>\n",
       "      <td>FI</td>\n",
       "      <td>FIN</td>\n",
       "      <td>246</td>\n",
       "    </tr>\n",
       "    <tr>\n",
       "      <th>3</th>\n",
       "      <td>4</td>\n",
       "      <td>Australia</td>\n",
       "      <td>191.13</td>\n",
       "      <td>122.85</td>\n",
       "      <td>57.24</td>\n",
       "      <td>76.38</td>\n",
       "      <td>72.08</td>\n",
       "      <td>7.60</td>\n",
       "      <td>35.29</td>\n",
       "      <td>23.97</td>\n",
       "      <td>93.75</td>\n",
       "      <td>AU</td>\n",
       "      <td>AUS</td>\n",
       "      <td>36</td>\n",
       "    </tr>\n",
       "    <tr>\n",
       "      <th>4</th>\n",
       "      <td>5</td>\n",
       "      <td>Austria</td>\n",
       "      <td>191.05</td>\n",
       "      <td>96.70</td>\n",
       "      <td>78.63</td>\n",
       "      <td>79.19</td>\n",
       "      <td>71.79</td>\n",
       "      <td>10.14</td>\n",
       "      <td>25.15</td>\n",
       "      <td>21.97</td>\n",
       "      <td>77.74</td>\n",
       "      <td>AT</td>\n",
       "      <td>AUT</td>\n",
       "      <td>40</td>\n",
       "    </tr>\n",
       "  </tbody>\n",
       "</table>\n",
       "</div>"
      ],
      "text/plain": [
       "   Rank      Country     QII     PPI     SI     HI      CI  PPIRI   TCTI  \\\n",
       "0     1      Denmark  198.57  114.39  75.75  79.41   81.38   6.93  28.51   \n",
       "1     2  Switzerland  195.93  129.70  78.50  72.68  121.16   9.63  29.05   \n",
       "2     3      Finland  194.01  112.30  77.20  73.49   72.82   7.98  30.41   \n",
       "3     4    Australia  191.13  122.85  57.24  76.38   72.08   7.60  35.29   \n",
       "4     5      Austria  191.05   96.70  78.63  79.19   71.79  10.14  25.15   \n",
       "\n",
       "      PI     CI iso_a2 iso_a3  iso_n  \n",
       "0  22.14  81.80     DK    DNK    208  \n",
       "1  22.03  80.05     CH    CHE    756  \n",
       "2  11.93  58.56     FI    FIN    246  \n",
       "3  23.97  93.75     AU    AUS     36  \n",
       "4  21.97  77.74     AT    AUT     40  "
      ]
     },
     "execution_count": 38,
     "metadata": {},
     "output_type": "execute_result"
    }
   ],
   "source": [
    "# With Clean Data: Left Join Numbeo and ISO by Country\n",
    "countryDf = numDf2019.merge(isoDf, on='Country', how='left')\n",
    "countryDf.head()"
   ]
  },
  {
   "cell_type": "code",
   "execution_count": 39,
   "metadata": {},
   "outputs": [
    {
     "data": {
      "text/plain": [
       "Series([], dtype: float64)"
      ]
     },
     "execution_count": 39,
     "metadata": {},
     "output_type": "execute_result"
    }
   ],
   "source": [
    "# Check for null columns\n",
    "null_columns = countryDf.columns[countryDf.isnull().any()]\n",
    "countryDf[null_columns].isnull().sum()"
   ]
  },
  {
   "cell_type": "code",
   "execution_count": 40,
   "metadata": {},
   "outputs": [
    {
     "data": {
      "text/html": [
       "<div>\n",
       "<style scoped>\n",
       "    .dataframe tbody tr th:only-of-type {\n",
       "        vertical-align: middle;\n",
       "    }\n",
       "\n",
       "    .dataframe tbody tr th {\n",
       "        vertical-align: top;\n",
       "    }\n",
       "\n",
       "    .dataframe thead th {\n",
       "        text-align: right;\n",
       "    }\n",
       "</style>\n",
       "<table border=\"1\" class=\"dataframe\">\n",
       "  <thead>\n",
       "    <tr style=\"text-align: right;\">\n",
       "      <th></th>\n",
       "      <th>Rank</th>\n",
       "      <th>Country</th>\n",
       "      <th>QII</th>\n",
       "      <th>PPI</th>\n",
       "      <th>SI</th>\n",
       "      <th>HI</th>\n",
       "      <th>CI</th>\n",
       "      <th>PPIRI</th>\n",
       "      <th>TCTI</th>\n",
       "      <th>PI</th>\n",
       "      <th>CI</th>\n",
       "      <th>iso_a2</th>\n",
       "      <th>iso_a3</th>\n",
       "      <th>iso_n</th>\n",
       "    </tr>\n",
       "  </thead>\n",
       "  <tbody>\n",
       "    <tr>\n",
       "      <th>0</th>\n",
       "      <td>1</td>\n",
       "      <td>Denmark</td>\n",
       "      <td>198.57</td>\n",
       "      <td>114.39</td>\n",
       "      <td>75.75</td>\n",
       "      <td>79.41</td>\n",
       "      <td>81.38</td>\n",
       "      <td>6.93</td>\n",
       "      <td>28.51</td>\n",
       "      <td>22.14</td>\n",
       "      <td>81.80</td>\n",
       "      <td>DK</td>\n",
       "      <td>DNK</td>\n",
       "      <td>208</td>\n",
       "    </tr>\n",
       "    <tr>\n",
       "      <th>1</th>\n",
       "      <td>2</td>\n",
       "      <td>Switzerland</td>\n",
       "      <td>195.93</td>\n",
       "      <td>129.70</td>\n",
       "      <td>78.50</td>\n",
       "      <td>72.68</td>\n",
       "      <td>121.16</td>\n",
       "      <td>9.63</td>\n",
       "      <td>29.05</td>\n",
       "      <td>22.03</td>\n",
       "      <td>80.05</td>\n",
       "      <td>CH</td>\n",
       "      <td>CHE</td>\n",
       "      <td>756</td>\n",
       "    </tr>\n",
       "    <tr>\n",
       "      <th>2</th>\n",
       "      <td>3</td>\n",
       "      <td>Finland</td>\n",
       "      <td>194.01</td>\n",
       "      <td>112.30</td>\n",
       "      <td>77.20</td>\n",
       "      <td>73.49</td>\n",
       "      <td>72.82</td>\n",
       "      <td>7.98</td>\n",
       "      <td>30.41</td>\n",
       "      <td>11.93</td>\n",
       "      <td>58.56</td>\n",
       "      <td>FI</td>\n",
       "      <td>FIN</td>\n",
       "      <td>246</td>\n",
       "    </tr>\n",
       "    <tr>\n",
       "      <th>3</th>\n",
       "      <td>4</td>\n",
       "      <td>Australia</td>\n",
       "      <td>191.13</td>\n",
       "      <td>122.85</td>\n",
       "      <td>57.24</td>\n",
       "      <td>76.38</td>\n",
       "      <td>72.08</td>\n",
       "      <td>7.60</td>\n",
       "      <td>35.29</td>\n",
       "      <td>23.97</td>\n",
       "      <td>93.75</td>\n",
       "      <td>AU</td>\n",
       "      <td>AUS</td>\n",
       "      <td>36</td>\n",
       "    </tr>\n",
       "    <tr>\n",
       "      <th>4</th>\n",
       "      <td>5</td>\n",
       "      <td>Austria</td>\n",
       "      <td>191.05</td>\n",
       "      <td>96.70</td>\n",
       "      <td>78.63</td>\n",
       "      <td>79.19</td>\n",
       "      <td>71.79</td>\n",
       "      <td>10.14</td>\n",
       "      <td>25.15</td>\n",
       "      <td>21.97</td>\n",
       "      <td>77.74</td>\n",
       "      <td>AT</td>\n",
       "      <td>AUT</td>\n",
       "      <td>40</td>\n",
       "    </tr>\n",
       "  </tbody>\n",
       "</table>\n",
       "</div>"
      ],
      "text/plain": [
       "   Rank      Country     QII     PPI     SI     HI      CI  PPIRI   TCTI  \\\n",
       "0     1      Denmark  198.57  114.39  75.75  79.41   81.38   6.93  28.51   \n",
       "1     2  Switzerland  195.93  129.70  78.50  72.68  121.16   9.63  29.05   \n",
       "2     3      Finland  194.01  112.30  77.20  73.49   72.82   7.98  30.41   \n",
       "3     4    Australia  191.13  122.85  57.24  76.38   72.08   7.60  35.29   \n",
       "4     5      Austria  191.05   96.70  78.63  79.19   71.79  10.14  25.15   \n",
       "\n",
       "      PI     CI iso_a2 iso_a3  iso_n  \n",
       "0  22.14  81.80     DK    DNK    208  \n",
       "1  22.03  80.05     CH    CHE    756  \n",
       "2  11.93  58.56     FI    FIN    246  \n",
       "3  23.97  93.75     AU    AUS     36  \n",
       "4  21.97  77.74     AT    AUT     40  "
      ]
     },
     "execution_count": 40,
     "metadata": {},
     "output_type": "execute_result"
    }
   ],
   "source": [
    "# Final table 2019\n",
    "countryDf.head()"
   ]
  },
  {
   "cell_type": "code",
   "execution_count": null,
   "metadata": {},
   "outputs": [],
   "source": []
  },
  {
   "cell_type": "code",
   "execution_count": null,
   "metadata": {},
   "outputs": [],
   "source": []
  },
  {
   "cell_type": "code",
   "execution_count": null,
   "metadata": {},
   "outputs": [],
   "source": []
  },
  {
   "cell_type": "code",
   "execution_count": null,
   "metadata": {},
   "outputs": [],
   "source": []
  },
  {
   "cell_type": "code",
   "execution_count": null,
   "metadata": {},
   "outputs": [],
   "source": []
  },
  {
   "cell_type": "code",
   "execution_count": null,
   "metadata": {},
   "outputs": [],
   "source": []
  },
  {
   "cell_type": "code",
   "execution_count": null,
   "metadata": {},
   "outputs": [],
   "source": []
  },
  {
   "cell_type": "code",
   "execution_count": null,
   "metadata": {},
   "outputs": [],
   "source": []
  },
  {
   "cell_type": "code",
   "execution_count": null,
   "metadata": {},
   "outputs": [],
   "source": []
  },
  {
   "cell_type": "code",
   "execution_count": null,
   "metadata": {},
   "outputs": [],
   "source": []
  },
  {
   "cell_type": "code",
   "execution_count": null,
   "metadata": {},
   "outputs": [],
   "source": []
  },
  {
   "cell_type": "code",
   "execution_count": null,
   "metadata": {},
   "outputs": [],
   "source": []
  },
  {
   "cell_type": "code",
   "execution_count": null,
   "metadata": {},
   "outputs": [],
   "source": []
  },
  {
   "cell_type": "code",
   "execution_count": 41,
   "metadata": {},
   "outputs": [],
   "source": [
    "countryDf=countryDf.rename(columns={\"iso_a3\":\"ISO_A3\"})"
   ]
  },
  {
   "cell_type": "code",
   "execution_count": null,
   "metadata": {},
   "outputs": [],
   "source": []
  },
  {
   "cell_type": "code",
   "execution_count": null,
   "metadata": {},
   "outputs": [],
   "source": []
  },
  {
   "cell_type": "code",
   "execution_count": null,
   "metadata": {},
   "outputs": [],
   "source": []
  },
  {
   "cell_type": "code",
   "execution_count": 66,
   "metadata": {},
   "outputs": [
    {
     "data": {
      "text/html": [
       "<div>\n",
       "<style scoped>\n",
       "    .dataframe tbody tr th:only-of-type {\n",
       "        vertical-align: middle;\n",
       "    }\n",
       "\n",
       "    .dataframe tbody tr th {\n",
       "        vertical-align: top;\n",
       "    }\n",
       "\n",
       "    .dataframe thead th {\n",
       "        text-align: right;\n",
       "    }\n",
       "</style>\n",
       "<table border=\"1\" class=\"dataframe\">\n",
       "  <thead>\n",
       "    <tr style=\"text-align: right;\">\n",
       "      <th></th>\n",
       "      <th>features</th>\n",
       "    </tr>\n",
       "  </thead>\n",
       "  <tbody>\n",
       "    <tr>\n",
       "      <th>0</th>\n",
       "      <td>{'type': 'Feature', 'properties': {'ADMIN': 'A...</td>\n",
       "    </tr>\n",
       "    <tr>\n",
       "      <th>1</th>\n",
       "      <td>{'type': 'Feature', 'properties': {'ADMIN': 'A...</td>\n",
       "    </tr>\n",
       "    <tr>\n",
       "      <th>2</th>\n",
       "      <td>{'type': 'Feature', 'properties': {'ADMIN': 'A...</td>\n",
       "    </tr>\n",
       "    <tr>\n",
       "      <th>3</th>\n",
       "      <td>{'type': 'Feature', 'properties': {'ADMIN': 'A...</td>\n",
       "    </tr>\n",
       "    <tr>\n",
       "      <th>4</th>\n",
       "      <td>{'type': 'Feature', 'properties': {'ADMIN': 'A...</td>\n",
       "    </tr>\n",
       "  </tbody>\n",
       "</table>\n",
       "</div>"
      ],
      "text/plain": [
       "                                            features\n",
       "0  {'type': 'Feature', 'properties': {'ADMIN': 'A...\n",
       "1  {'type': 'Feature', 'properties': {'ADMIN': 'A...\n",
       "2  {'type': 'Feature', 'properties': {'ADMIN': 'A...\n",
       "3  {'type': 'Feature', 'properties': {'ADMIN': 'A...\n",
       "4  {'type': 'Feature', 'properties': {'ADMIN': 'A..."
      ]
     },
     "execution_count": 66,
     "metadata": {},
     "output_type": "execute_result"
    }
   ],
   "source": [
    "dfk=pd.read_json(\"countries.geojson\")\n",
    "dfk=dfk.drop([\"type\"],axis =1)\n",
    "dfk.head()"
   ]
  },
  {
   "cell_type": "code",
   "execution_count": null,
   "metadata": {},
   "outputs": [],
   "source": []
  },
  {
   "cell_type": "code",
   "execution_count": null,
   "metadata": {},
   "outputs": [],
   "source": []
  },
  {
   "cell_type": "code",
   "execution_count": 43,
   "metadata": {},
   "outputs": [],
   "source": [
    "dfk.to_json(\"check.json\", orient='index')"
   ]
  },
  {
   "cell_type": "code",
   "execution_count": 44,
   "metadata": {},
   "outputs": [
    {
     "data": {
      "text/plain": [
       "Rank             1\n",
       "Country    Denmark\n",
       "QII         198.57\n",
       "PPI         114.39\n",
       "SI           75.75\n",
       "HI           79.41\n",
       "CI           81.38\n",
       "PPIRI         6.93\n",
       "TCTI         28.51\n",
       "PI           22.14\n",
       "CI            81.8\n",
       "iso_a2          DK\n",
       "ISO_A3         DNK\n",
       "iso_n          208\n",
       "Name: 0, dtype: object"
      ]
     },
     "execution_count": 44,
     "metadata": {},
     "output_type": "execute_result"
    }
   ],
   "source": [
    "countryDf.iloc[0]"
   ]
  },
  {
   "cell_type": "code",
   "execution_count": 45,
   "metadata": {},
   "outputs": [
    {
     "data": {
      "text/html": [
       "<div>\n",
       "<style scoped>\n",
       "    .dataframe tbody tr th:only-of-type {\n",
       "        vertical-align: middle;\n",
       "    }\n",
       "\n",
       "    .dataframe tbody tr th {\n",
       "        vertical-align: top;\n",
       "    }\n",
       "\n",
       "    .dataframe thead th {\n",
       "        text-align: right;\n",
       "    }\n",
       "</style>\n",
       "<table border=\"1\" class=\"dataframe\">\n",
       "  <thead>\n",
       "    <tr style=\"text-align: right;\">\n",
       "      <th></th>\n",
       "      <th>features</th>\n",
       "    </tr>\n",
       "  </thead>\n",
       "  <tbody>\n",
       "    <tr>\n",
       "      <th>250</th>\n",
       "      <td>{'type': 'Feature', 'properties': {'ADMIN': 'S...</td>\n",
       "    </tr>\n",
       "    <tr>\n",
       "      <th>251</th>\n",
       "      <td>{'type': 'Feature', 'properties': {'ADMIN': 'Y...</td>\n",
       "    </tr>\n",
       "    <tr>\n",
       "      <th>252</th>\n",
       "      <td>{'type': 'Feature', 'properties': {'ADMIN': 'S...</td>\n",
       "    </tr>\n",
       "    <tr>\n",
       "      <th>253</th>\n",
       "      <td>{'type': 'Feature', 'properties': {'ADMIN': 'Z...</td>\n",
       "    </tr>\n",
       "    <tr>\n",
       "      <th>254</th>\n",
       "      <td>{'type': 'Feature', 'properties': {'ADMIN': 'Z...</td>\n",
       "    </tr>\n",
       "  </tbody>\n",
       "</table>\n",
       "</div>"
      ],
      "text/plain": [
       "                                              features\n",
       "250  {'type': 'Feature', 'properties': {'ADMIN': 'S...\n",
       "251  {'type': 'Feature', 'properties': {'ADMIN': 'Y...\n",
       "252  {'type': 'Feature', 'properties': {'ADMIN': 'S...\n",
       "253  {'type': 'Feature', 'properties': {'ADMIN': 'Z...\n",
       "254  {'type': 'Feature', 'properties': {'ADMIN': 'Z..."
      ]
     },
     "execution_count": 45,
     "metadata": {},
     "output_type": "execute_result"
    }
   ],
   "source": [
    "dfk.tail()"
   ]
  },
  {
   "cell_type": "code",
   "execution_count": 46,
   "metadata": {},
   "outputs": [
    {
     "data": {
      "text/plain": [
       "255"
      ]
     },
     "execution_count": 46,
     "metadata": {},
     "output_type": "execute_result"
    }
   ],
   "source": [
    "len(dfk)"
   ]
  },
  {
   "cell_type": "code",
   "execution_count": 47,
   "metadata": {},
   "outputs": [],
   "source": [
    "dict={\"type\":\"FeatureCollection\",\"features\":[]}\n",
    "for x in range(len(dfk)):\n",
    "    dict[\"features\"].append(dfk.features[x])"
   ]
  },
  {
   "cell_type": "code",
   "execution_count": 48,
   "metadata": {},
   "outputs": [],
   "source": [
    "r=json.dumps(dict)"
   ]
  },
  {
   "cell_type": "code",
   "execution_count": 49,
   "metadata": {},
   "outputs": [],
   "source": [
    "with open('result.json', 'w') as fp:\n",
    "    json.dump(dict, fp)"
   ]
  },
  {
   "cell_type": "code",
   "execution_count": 50,
   "metadata": {},
   "outputs": [
    {
     "data": {
      "text/plain": [
       "str"
      ]
     },
     "execution_count": 50,
     "metadata": {},
     "output_type": "execute_result"
    }
   ],
   "source": [
    "type(dict[\"features\"][0][\"properties\"][\"ADMIN\"])"
   ]
  },
  {
   "cell_type": "code",
   "execution_count": 51,
   "metadata": {},
   "outputs": [],
   "source": [
    "for x in range(len(dfk)-1,-1,-1):\n",
    "    if dict[\"features\"][x][\"properties\"][\"ISO_A3\"] not in countryDf[\"ISO_A3\"].values:\n",
    "        dict[\"features\"].pop(x)"
   ]
  },
  {
   "cell_type": "code",
   "execution_count": 52,
   "metadata": {},
   "outputs": [
    {
     "data": {
      "text/plain": [
       "71"
      ]
     },
     "execution_count": 52,
     "metadata": {},
     "output_type": "execute_result"
    }
   ],
   "source": [
    "len(dict[\"features\"])"
   ]
  },
  {
   "cell_type": "code",
   "execution_count": 53,
   "metadata": {},
   "outputs": [
    {
     "data": {
      "text/html": [
       "<div>\n",
       "<style scoped>\n",
       "    .dataframe tbody tr th:only-of-type {\n",
       "        vertical-align: middle;\n",
       "    }\n",
       "\n",
       "    .dataframe tbody tr th {\n",
       "        vertical-align: top;\n",
       "    }\n",
       "\n",
       "    .dataframe thead th {\n",
       "        text-align: right;\n",
       "    }\n",
       "</style>\n",
       "<table border=\"1\" class=\"dataframe\">\n",
       "  <thead>\n",
       "    <tr style=\"text-align: right;\">\n",
       "      <th></th>\n",
       "      <th>Rank</th>\n",
       "      <th>Country</th>\n",
       "      <th>QII</th>\n",
       "      <th>PPI</th>\n",
       "      <th>SI</th>\n",
       "      <th>HI</th>\n",
       "      <th>CI</th>\n",
       "      <th>PPIRI</th>\n",
       "      <th>TCTI</th>\n",
       "      <th>PI</th>\n",
       "      <th>CI</th>\n",
       "      <th>iso_a2</th>\n",
       "      <th>ISO_A3</th>\n",
       "      <th>iso_n</th>\n",
       "    </tr>\n",
       "  </thead>\n",
       "  <tbody>\n",
       "    <tr>\n",
       "      <th>66</th>\n",
       "      <td>42</td>\n",
       "      <td>Taiwan</td>\n",
       "      <td>133.82</td>\n",
       "      <td>56.36</td>\n",
       "      <td>82.62</td>\n",
       "      <td>86.22</td>\n",
       "      <td>59.84</td>\n",
       "      <td>28.91</td>\n",
       "      <td>30.90</td>\n",
       "      <td>63.47</td>\n",
       "      <td>84.38</td>\n",
       "      <td>TW</td>\n",
       "      <td>TWN</td>\n",
       "      <td>158</td>\n",
       "    </tr>\n",
       "    <tr>\n",
       "      <th>67</th>\n",
       "      <td>62</td>\n",
       "      <td>Ukraine</td>\n",
       "      <td>102.34</td>\n",
       "      <td>32.72</td>\n",
       "      <td>51.12</td>\n",
       "      <td>50.95</td>\n",
       "      <td>27.94</td>\n",
       "      <td>14.35</td>\n",
       "      <td>37.36</td>\n",
       "      <td>66.63</td>\n",
       "      <td>70.69</td>\n",
       "      <td>UA</td>\n",
       "      <td>UKR</td>\n",
       "      <td>804</td>\n",
       "    </tr>\n",
       "    <tr>\n",
       "      <th>68</th>\n",
       "      <td>13</td>\n",
       "      <td>United States</td>\n",
       "      <td>179.20</td>\n",
       "      <td>122.03</td>\n",
       "      <td>52.87</td>\n",
       "      <td>69.41</td>\n",
       "      <td>69.91</td>\n",
       "      <td>3.58</td>\n",
       "      <td>32.87</td>\n",
       "      <td>33.95</td>\n",
       "      <td>77.51</td>\n",
       "      <td>US</td>\n",
       "      <td>USA</td>\n",
       "      <td>840</td>\n",
       "    </tr>\n",
       "    <tr>\n",
       "      <th>69</th>\n",
       "      <td>68</td>\n",
       "      <td>Vietnam</td>\n",
       "      <td>88.82</td>\n",
       "      <td>33.33</td>\n",
       "      <td>51.22</td>\n",
       "      <td>54.54</td>\n",
       "      <td>37.70</td>\n",
       "      <td>19.66</td>\n",
       "      <td>28.33</td>\n",
       "      <td>87.13</td>\n",
       "      <td>71.24</td>\n",
       "      <td>VN</td>\n",
       "      <td>VNM</td>\n",
       "      <td>704</td>\n",
       "    </tr>\n",
       "    <tr>\n",
       "      <th>70</th>\n",
       "      <td>40</td>\n",
       "      <td>South Africa</td>\n",
       "      <td>135.31</td>\n",
       "      <td>82.97</td>\n",
       "      <td>23.20</td>\n",
       "      <td>62.56</td>\n",
       "      <td>42.49</td>\n",
       "      <td>4.11</td>\n",
       "      <td>40.33</td>\n",
       "      <td>56.95</td>\n",
       "      <td>95.97</td>\n",
       "      <td>ZA</td>\n",
       "      <td>ZAF</td>\n",
       "      <td>710</td>\n",
       "    </tr>\n",
       "  </tbody>\n",
       "</table>\n",
       "</div>"
      ],
      "text/plain": [
       "    Rank        Country     QII     PPI     SI     HI     CI  PPIRI   TCTI  \\\n",
       "66    42         Taiwan  133.82   56.36  82.62  86.22  59.84  28.91  30.90   \n",
       "67    62        Ukraine  102.34   32.72  51.12  50.95  27.94  14.35  37.36   \n",
       "68    13  United States  179.20  122.03  52.87  69.41  69.91   3.58  32.87   \n",
       "69    68        Vietnam   88.82   33.33  51.22  54.54  37.70  19.66  28.33   \n",
       "70    40   South Africa  135.31   82.97  23.20  62.56  42.49   4.11  40.33   \n",
       "\n",
       "       PI     CI iso_a2 ISO_A3  iso_n  \n",
       "66  63.47  84.38     TW    TWN    158  \n",
       "67  66.63  70.69     UA    UKR    804  \n",
       "68  33.95  77.51     US    USA    840  \n",
       "69  87.13  71.24     VN    VNM    704  \n",
       "70  56.95  95.97     ZA    ZAF    710  "
      ]
     },
     "execution_count": 53,
     "metadata": {},
     "output_type": "execute_result"
    }
   ],
   "source": [
    "cdf=countryDf.sort_values(by=['ISO_A3'])\n",
    "cdf=cdf.reset_index(drop=True)\n",
    "cdf.tail()"
   ]
  },
  {
   "cell_type": "code",
   "execution_count": 55,
   "metadata": {},
   "outputs": [
    {
     "name": "stderr",
     "output_type": "stream",
     "text": [
      "C:\\Users\\Administrator\\Anaconda3\\lib\\site-packages\\ipykernel_launcher.py:4: UserWarning: DataFrame columns are not unique, some columns will be omitted.\n",
      "  after removing the cwd from sys.path.\n"
     ]
    }
   ],
   "source": [
    "for x in range(len(dict[\"features\"])):\n",
    "    temp=cdf.loc[x]\n",
    "    tempdf=pd.DataFrame(temp).T\n",
    "    tempdict=tempdf.to_dict(\"records\")\n",
    "    dict[\"features\"][x][\"properties\"].update(tempdict[0])"
   ]
  },
  {
   "cell_type": "code",
   "execution_count": 56,
   "metadata": {},
   "outputs": [
    {
     "data": {
      "text/plain": [
       "dict"
      ]
     },
     "execution_count": 56,
     "metadata": {},
     "output_type": "execute_result"
    }
   ],
   "source": [
    "type(dict[\"features\"][0][\"properties\"])"
   ]
  },
  {
   "cell_type": "code",
   "execution_count": null,
   "metadata": {},
   "outputs": [],
   "source": [
    "k=cdf.loc[0]\n",
    "kk=pd.DataFrame(k).T\n",
    "kkk=kk.to_dict('records')"
   ]
  },
  {
   "cell_type": "code",
   "execution_count": null,
   "metadata": {},
   "outputs": [],
   "source": [
    "kkk[0]"
   ]
  },
  {
   "cell_type": "code",
   "execution_count": null,
   "metadata": {},
   "outputs": [],
   "source": [
    "countryDf[\"ISO_A3\"].tail()"
   ]
  },
  {
   "cell_type": "code",
   "execution_count": null,
   "metadata": {},
   "outputs": [],
   "source": [
    "aa={\"one\":1,\"two\":2}\n",
    "bb={\"three\":3, \"five\":5}"
   ]
  },
  {
   "cell_type": "code",
   "execution_count": 63,
   "metadata": {},
   "outputs": [
    {
     "data": {
      "text/plain": [
       "{'ADMIN': 'Norway',\n",
       " 'ISO_A3': 'NOR',\n",
       " 'Rank': 10,\n",
       " 'Country': 'Norway',\n",
       " 'QII': 181.86,\n",
       " 'PPI': 103.61,\n",
       " 'SI': 64.68,\n",
       " 'HI': 74.14,\n",
       " 'CI': 71.16,\n",
       " 'PPIRI': 8.4,\n",
       " 'TCTI': 27.12,\n",
       " 'PI': 19.86,\n",
       " 'iso_a2': 'NO',\n",
       " 'iso_n': 578}"
      ]
     },
     "execution_count": 63,
     "metadata": {},
     "output_type": "execute_result"
    }
   ],
   "source": [
    "dict[\"features\"][48][\"properties\"]"
   ]
  },
  {
   "cell_type": "code",
   "execution_count": 61,
   "metadata": {},
   "outputs": [],
   "source": [
    "r=json.dumps(dict)"
   ]
  },
  {
   "cell_type": "code",
   "execution_count": 62,
   "metadata": {},
   "outputs": [],
   "source": [
    "with open('result.json', 'w') as fp:\n",
    "    json.dump(dict, fp)"
   ]
  },
  {
   "cell_type": "code",
   "execution_count": 65,
   "metadata": {},
   "outputs": [
    {
     "data": {
      "text/html": [
       "<div>\n",
       "<style scoped>\n",
       "    .dataframe tbody tr th:only-of-type {\n",
       "        vertical-align: middle;\n",
       "    }\n",
       "\n",
       "    .dataframe tbody tr th {\n",
       "        vertical-align: top;\n",
       "    }\n",
       "\n",
       "    .dataframe thead th {\n",
       "        text-align: right;\n",
       "    }\n",
       "</style>\n",
       "<table border=\"1\" class=\"dataframe\">\n",
       "  <thead>\n",
       "    <tr style=\"text-align: right;\">\n",
       "      <th></th>\n",
       "      <th>Rank</th>\n",
       "      <th>Country</th>\n",
       "      <th>QII</th>\n",
       "      <th>PPI</th>\n",
       "      <th>SI</th>\n",
       "      <th>HI</th>\n",
       "      <th>CI</th>\n",
       "      <th>PPIRI</th>\n",
       "      <th>TCTI</th>\n",
       "      <th>PI</th>\n",
       "      <th>CI</th>\n",
       "      <th>iso_a2</th>\n",
       "      <th>ISO_A3</th>\n",
       "      <th>iso_n</th>\n",
       "    </tr>\n",
       "  </thead>\n",
       "  <tbody>\n",
       "    <tr>\n",
       "      <th>0</th>\n",
       "      <td>1</td>\n",
       "      <td>Denmark</td>\n",
       "      <td>198.57</td>\n",
       "      <td>114.39</td>\n",
       "      <td>75.75</td>\n",
       "      <td>79.41</td>\n",
       "      <td>81.38</td>\n",
       "      <td>6.93</td>\n",
       "      <td>28.51</td>\n",
       "      <td>22.14</td>\n",
       "      <td>81.80</td>\n",
       "      <td>DK</td>\n",
       "      <td>DNK</td>\n",
       "      <td>208</td>\n",
       "    </tr>\n",
       "    <tr>\n",
       "      <th>1</th>\n",
       "      <td>2</td>\n",
       "      <td>Switzerland</td>\n",
       "      <td>195.93</td>\n",
       "      <td>129.70</td>\n",
       "      <td>78.50</td>\n",
       "      <td>72.68</td>\n",
       "      <td>121.16</td>\n",
       "      <td>9.63</td>\n",
       "      <td>29.05</td>\n",
       "      <td>22.03</td>\n",
       "      <td>80.05</td>\n",
       "      <td>CH</td>\n",
       "      <td>CHE</td>\n",
       "      <td>756</td>\n",
       "    </tr>\n",
       "    <tr>\n",
       "      <th>2</th>\n",
       "      <td>3</td>\n",
       "      <td>Finland</td>\n",
       "      <td>194.01</td>\n",
       "      <td>112.30</td>\n",
       "      <td>77.20</td>\n",
       "      <td>73.49</td>\n",
       "      <td>72.82</td>\n",
       "      <td>7.98</td>\n",
       "      <td>30.41</td>\n",
       "      <td>11.93</td>\n",
       "      <td>58.56</td>\n",
       "      <td>FI</td>\n",
       "      <td>FIN</td>\n",
       "      <td>246</td>\n",
       "    </tr>\n",
       "    <tr>\n",
       "      <th>3</th>\n",
       "      <td>4</td>\n",
       "      <td>Australia</td>\n",
       "      <td>191.13</td>\n",
       "      <td>122.85</td>\n",
       "      <td>57.24</td>\n",
       "      <td>76.38</td>\n",
       "      <td>72.08</td>\n",
       "      <td>7.60</td>\n",
       "      <td>35.29</td>\n",
       "      <td>23.97</td>\n",
       "      <td>93.75</td>\n",
       "      <td>AU</td>\n",
       "      <td>AUS</td>\n",
       "      <td>36</td>\n",
       "    </tr>\n",
       "    <tr>\n",
       "      <th>4</th>\n",
       "      <td>5</td>\n",
       "      <td>Austria</td>\n",
       "      <td>191.05</td>\n",
       "      <td>96.70</td>\n",
       "      <td>78.63</td>\n",
       "      <td>79.19</td>\n",
       "      <td>71.79</td>\n",
       "      <td>10.14</td>\n",
       "      <td>25.15</td>\n",
       "      <td>21.97</td>\n",
       "      <td>77.74</td>\n",
       "      <td>AT</td>\n",
       "      <td>AUT</td>\n",
       "      <td>40</td>\n",
       "    </tr>\n",
       "  </tbody>\n",
       "</table>\n",
       "</div>"
      ],
      "text/plain": [
       "   Rank      Country     QII     PPI     SI     HI      CI  PPIRI   TCTI  \\\n",
       "0     1      Denmark  198.57  114.39  75.75  79.41   81.38   6.93  28.51   \n",
       "1     2  Switzerland  195.93  129.70  78.50  72.68  121.16   9.63  29.05   \n",
       "2     3      Finland  194.01  112.30  77.20  73.49   72.82   7.98  30.41   \n",
       "3     4    Australia  191.13  122.85  57.24  76.38   72.08   7.60  35.29   \n",
       "4     5      Austria  191.05   96.70  78.63  79.19   71.79  10.14  25.15   \n",
       "\n",
       "      PI     CI iso_a2 ISO_A3  iso_n  \n",
       "0  22.14  81.80     DK    DNK    208  \n",
       "1  22.03  80.05     CH    CHE    756  \n",
       "2  11.93  58.56     FI    FIN    246  \n",
       "3  23.97  93.75     AU    AUS     36  \n",
       "4  21.97  77.74     AT    AUT     40  "
      ]
     },
     "execution_count": 65,
     "metadata": {},
     "output_type": "execute_result"
    }
   ],
   "source": [
    "countryDf.head()"
   ]
  },
  {
   "cell_type": "code",
   "execution_count": null,
   "metadata": {},
   "outputs": [],
   "source": []
  },
  {
   "cell_type": "code",
   "execution_count": null,
   "metadata": {},
   "outputs": [],
   "source": []
  },
  {
   "cell_type": "code",
   "execution_count": null,
   "metadata": {},
   "outputs": [],
   "source": []
  }
 ],
 "metadata": {
  "kernelspec": {
   "display_name": "Python 3",
   "language": "python",
   "name": "python3"
  },
  "language_info": {
   "codemirror_mode": {
    "name": "ipython",
    "version": 3
   },
   "file_extension": ".py",
   "mimetype": "text/x-python",
   "name": "python",
   "nbconvert_exporter": "python",
   "pygments_lexer": "ipython3",
   "version": "3.7.3"
  }
 },
 "nbformat": 4,
 "nbformat_minor": 2
}
